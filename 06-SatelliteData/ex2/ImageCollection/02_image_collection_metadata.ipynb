{
 "cells": [
  {
   "cell_type": "markdown",
   "metadata": {},
   "source": [
    "<table class=\"ee-notebook-buttons\" align=\"left\">\n",
    "    <td><a target=\"_parent\"  href=\"https://github.com/gee-community/geemap/tree/master/tutorials/ImageCollection/02_image_collection_metadata.ipynb\"><img width=32px src=\"https://www.tensorflow.org/images/GitHub-Mark-32px.png\" /> View source on GitHub</a></td>\n",
    "    <td><a target=\"_parent\"  href=\"https://nbviewer.jupyter.org/github/gee-community/geemap/blob/master/tutorials/ImageCollection/02_image_collection_metadata.ipynb\"><img width=26px src=\"https://upload.wikimedia.org/wikipedia/commons/thumb/3/38/Jupyter_logo.svg/883px-Jupyter_logo.svg.png\" />Notebook Viewer</a></td>\n",
    "    <td><a target=\"_parent\"  href=\"https://colab.research.google.com/github/gee-community/geemap/blob/master/tutorials/ImageCollection/02_image_collection_metadata.ipynb\"><img width=26px src=\"https://www.tensorflow.org/images/colab_logo_32px.png\" /> Run in Google Colab</a></td>\n",
    "</table>"
   ]
  },
  {
   "cell_type": "markdown",
   "metadata": {},
   "source": [
    "# ImageCollection Information and Metadata\n",
    "As with Images, there are a variety of ways to get information about an `ImageCollection`. The collection can be printed directly to the console, but the console printout is limited to 5000 elements. Collections larger than 5000 images will need to be filtered before printing. Printing a large collection will be correspondingly slower. The following example shows various ways of getting information about image collections programmatically:"
   ]
  },
  {
   "cell_type": "markdown",
   "metadata": {},
   "source": [
    "## Install Earth Engine API and geemap\n",
    "Install the [Earth Engine Python API](https://developers.google.com/earth-engine/python_install) and [geemap](https://github.com/gee-community/geemap). The **geemap** Python package is built upon the [ipyleaflet](https://github.com/jupyter-widgets/ipyleaflet) and [folium](https://github.com/python-visualization/folium) packages and implements several methods for interacting with Earth Engine data layers, such as `Map.addLayer()`, `Map.setCenter()`, and `Map.centerObject()`.\n",
    "The following script checks if the geemap package has been installed. If not, it will install geemap, which automatically installs its [dependencies](https://github.com/gee-community/geemap#dependencies), including earthengine-api, folium, and ipyleaflet.\n",
    "\n",
    "**Important note**: A key difference between folium and ipyleaflet is that ipyleaflet is built upon ipywidgets and allows bidirectional communication between the front-end and the backend enabling the use of the map to capture user input, while folium is meant for displaying static data only ([source](https://blog.jupyter.org/interactive-gis-in-jupyter-with-ipyleaflet-52f9657fa7a)). Note that [Google Colab](https://colab.research.google.com/) currently does not support ipyleaflet ([source](https://github.com/googlecolab/colabtools/issues/60#issuecomment-596225619)). Therefore, if you are using geemap with Google Colab, you should use [`import geemap.foliumap`](https://github.com/gee-community/geemap/blob/master/geemap/foliumap.py). If you are using geemap with [binder](https://mybinder.org/) or a local Jupyter notebook server, you can use [`import geemap`](https://github.com/gee-community/geemap/blob/master/geemap/geemap.py), which provides more functionalities for capturing user input (e.g., mouse-clicking and moving)."
   ]
  },
  {
   "cell_type": "code",
   "execution_count": 1,
   "metadata": {},
   "outputs": [],
   "source": [
    "# Installs geemap package\n",
    "import subprocess\n",
    "\n",
    "try:\n",
    "    import geemap\n",
    "except ImportError:\n",
    "    print(\"geemap package not installed. Installing ...\")\n",
    "    subprocess.check_call([\"python\", \"-m\", \"pip\", \"install\", \"geemap\"])\n",
    "\n",
    "# Checks whether this notebook is running on Google Colab\n",
    "try:\n",
    "    import google.colab\n",
    "    import geemap.foliumap as emap\n",
    "except:\n",
    "    import geemap as emap\n",
    "\n",
    "# Authenticates and initializes Earth Engine\n",
    "import ee\n",
    "\n",
    "try:\n",
    "    ee.Initialize()\n",
    "except Exception as e:\n",
    "    ee.Authenticate()\n",
    "    # ee.Initialize()\n",
    "    ee.Initialize(project='satellite-example')"
   ]
  },
  {
   "cell_type": "markdown",
   "metadata": {},
   "source": [
    "## Create an interactive map \n",
    "The default basemap is `Google Satellite`. [Additional basemaps](https://github.com/gee-community/geemap/blob/master/geemap/geemap.py#L13) can be added using the `Map.add_basemap()` function. "
   ]
  },
  {
   "cell_type": "code",
   "execution_count": 2,
   "metadata": {},
   "outputs": [
    {
     "data": {
      "text/html": [
       "\n",
       "            <style>\n",
       "                .geemap-dark {\n",
       "                    --jp-widgets-color: white;\n",
       "                    --jp-widgets-label-color: white;\n",
       "                    --jp-ui-font-color1: white;\n",
       "                    --jp-layout-color2: #454545;\n",
       "                    background-color: #383838;\n",
       "                }\n",
       "\n",
       "                .geemap-dark .jupyter-button {\n",
       "                    --jp-layout-color3: #383838;\n",
       "                }\n",
       "\n",
       "                .geemap-colab {\n",
       "                    background-color: var(--colab-primary-surface-color, white);\n",
       "                }\n",
       "\n",
       "                .geemap-colab .jupyter-button {\n",
       "                    --jp-layout-color3: var(--colab-primary-surface-color, white);\n",
       "                }\n",
       "            </style>\n",
       "            "
      ],
      "text/plain": [
       "<IPython.core.display.HTML object>"
      ]
     },
     "metadata": {},
     "output_type": "display_data"
    },
    {
     "data": {
      "application/vnd.jupyter.widget-view+json": {
       "model_id": "1a49753b16f14c73837624c6b6c98968",
       "version_major": 2,
       "version_minor": 0
      },
      "text/plain": [
       "Map(center=[40, -100], controls=(WidgetControl(options=['position', 'transparent_bg'], position='topright', tr…"
      ]
     },
     "execution_count": 2,
     "metadata": {},
     "output_type": "execute_result"
    }
   ],
   "source": [
    "Map = geemap.Map(center=[40, -100], zoom=4)\n",
    "Map.add_basemap(\"ROADMAP\")  # Add Google Map\n",
    "Map"
   ]
  },
  {
   "cell_type": "markdown",
   "metadata": {},
   "source": [
    "## Add Earth Engine Python script "
   ]
  },
  {
   "cell_type": "code",
   "execution_count": 4,
   "metadata": {},
   "outputs": [
    {
     "data": {
      "text/html": [
       "\n",
       "            <style>\n",
       "                .geemap-dark {\n",
       "                    --jp-widgets-color: white;\n",
       "                    --jp-widgets-label-color: white;\n",
       "                    --jp-ui-font-color1: white;\n",
       "                    --jp-layout-color2: #454545;\n",
       "                    background-color: #383838;\n",
       "                }\n",
       "\n",
       "                .geemap-dark .jupyter-button {\n",
       "                    --jp-layout-color3: #383838;\n",
       "                }\n",
       "\n",
       "                .geemap-colab {\n",
       "                    background-color: var(--colab-primary-surface-color, white);\n",
       "                }\n",
       "\n",
       "                .geemap-colab .jupyter-button {\n",
       "                    --jp-layout-color3: var(--colab-primary-surface-color, white);\n",
       "                }\n",
       "            </style>\n",
       "            "
      ],
      "text/plain": [
       "<IPython.core.display.HTML object>"
      ]
     },
     "metadata": {},
     "output_type": "display_data"
    },
    {
     "name": "stdout",
     "output_type": "stream",
     "text": [
      "Collection:  {'type': 'ImageCollection', 'bands': [{'id': 'B1', 'data_type': {'type': 'PixelType', 'precision': 'float'}}, {'id': 'B2', 'data_type': {'type': 'PixelType', 'precision': 'float'}}, {'id': 'B3', 'data_type': {'type': 'PixelType', 'precision': 'float'}}, {'id': 'B4', 'data_type': {'type': 'PixelType', 'precision': 'float'}}, {'id': 'B5', 'data_type': {'type': 'PixelType', 'precision': 'float'}}, {'id': 'B6', 'data_type': {'type': 'PixelType', 'precision': 'float'}}, {'id': 'B7', 'data_type': {'type': 'PixelType', 'precision': 'float'}}, {'id': 'B8', 'data_type': {'type': 'PixelType', 'precision': 'float'}}, {'id': 'B9', 'data_type': {'type': 'PixelType', 'precision': 'float'}}, {'id': 'B10', 'data_type': {'type': 'PixelType', 'precision': 'float'}}, {'id': 'B11', 'data_type': {'type': 'PixelType', 'precision': 'float'}}, {'id': 'QA_PIXEL', 'data_type': {'type': 'PixelType', 'precision': 'int', 'min': 0, 'max': 65535}}, {'id': 'QA_RADSAT', 'data_type': {'type': 'PixelType', 'precision': 'int', 'min': 0, 'max': 65535}}, {'id': 'SAA', 'data_type': {'type': 'PixelType', 'precision': 'int', 'min': -32768, 'max': 32767}}, {'id': 'SZA', 'data_type': {'type': 'PixelType', 'precision': 'int', 'min': -32768, 'max': 32767}}, {'id': 'VAA', 'data_type': {'type': 'PixelType', 'precision': 'int', 'min': -32768, 'max': 32767}}, {'id': 'VZA', 'data_type': {'type': 'PixelType', 'precision': 'int', 'min': -32768, 'max': 32767}}], 'version': 1759529750879074, 'id': 'LANDSAT/LC08/C02/T1_TOA', 'features': [{'type': 'Image', 'bands': [{'id': 'B1', 'data_type': {'type': 'PixelType', 'precision': 'float'}, 'dimensions': [7661, 7801], 'crs': 'EPSG:32610', 'crs_transform': [30, 0, 460785, 0, -30, 4264215]}, {'id': 'B2', 'data_type': {'type': 'PixelType', 'precision': 'float'}, 'dimensions': [7661, 7801], 'crs': 'EPSG:32610', 'crs_transform': [30, 0, 460785, 0, -30, 4264215]}, {'id': 'B3', 'data_type': {'type': 'PixelType', 'precision': 'float'}, 'dimensions': [7661, 7801], 'crs': 'EPSG:32610', 'crs_transform': [30, 0, 460785, 0, -30, 4264215]}, {'id': 'B4', 'data_type': {'type': 'PixelType', 'precision': 'float'}, 'dimensions': [7661, 7801], 'crs': 'EPSG:32610', 'crs_transform': [30, 0, 460785, 0, -30, 4264215]}, {'id': 'B5', 'data_type': {'type': 'PixelType', 'precision': 'float'}, 'dimensions': [7661, 7801], 'crs': 'EPSG:32610', 'crs_transform': [30, 0, 460785, 0, -30, 4264215]}, {'id': 'B6', 'data_type': {'type': 'PixelType', 'precision': 'float'}, 'dimensions': [7661, 7801], 'crs': 'EPSG:32610', 'crs_transform': [30, 0, 460785, 0, -30, 4264215]}, {'id': 'B7', 'data_type': {'type': 'PixelType', 'precision': 'float'}, 'dimensions': [7661, 7801], 'crs': 'EPSG:32610', 'crs_transform': [30, 0, 460785, 0, -30, 4264215]}, {'id': 'B8', 'data_type': {'type': 'PixelType', 'precision': 'float'}, 'dimensions': [15321, 15601], 'crs': 'EPSG:32610', 'crs_transform': [15, 0, 460792.5, 0, -15, 4264207.5]}, {'id': 'B9', 'data_type': {'type': 'PixelType', 'precision': 'float'}, 'dimensions': [7661, 7801], 'crs': 'EPSG:32610', 'crs_transform': [30, 0, 460785, 0, -30, 4264215]}, {'id': 'B10', 'data_type': {'type': 'PixelType', 'precision': 'float'}, 'dimensions': [7661, 7801], 'crs': 'EPSG:32610', 'crs_transform': [30, 0, 460785, 0, -30, 4264215]}, {'id': 'B11', 'data_type': {'type': 'PixelType', 'precision': 'float'}, 'dimensions': [7661, 7801], 'crs': 'EPSG:32610', 'crs_transform': [30, 0, 460785, 0, -30, 4264215]}, {'id': 'QA_PIXEL', 'data_type': {'type': 'PixelType', 'precision': 'int', 'min': 0, 'max': 65535}, 'dimensions': [7661, 7801], 'crs': 'EPSG:32610', 'crs_transform': [30, 0, 460785, 0, -30, 4264215]}, {'id': 'QA_RADSAT', 'data_type': {'type': 'PixelType', 'precision': 'int', 'min': 0, 'max': 65535}, 'dimensions': [7661, 7801], 'crs': 'EPSG:32610', 'crs_transform': [30, 0, 460785, 0, -30, 4264215]}, {'id': 'SAA', 'data_type': {'type': 'PixelType', 'precision': 'int', 'min': -32768, 'max': 32767}, 'dimensions': [7661, 7801], 'crs': 'EPSG:32610', 'crs_transform': [30, 0, 460785, 0, -30, 4264215]}, {'id': 'SZA', 'data_type': {'type': 'PixelType', 'precision': 'int', 'min': -32768, 'max': 32767}, 'dimensions': [7661, 7801], 'crs': 'EPSG:32610', 'crs_transform': [30, 0, 460785, 0, -30, 4264215]}, {'id': 'VAA', 'data_type': {'type': 'PixelType', 'precision': 'int', 'min': -32768, 'max': 32767}, 'dimensions': [7661, 7801], 'crs': 'EPSG:32610', 'crs_transform': [30, 0, 460785, 0, -30, 4264215]}, {'id': 'VZA', 'data_type': {'type': 'PixelType', 'precision': 'int', 'min': -32768, 'max': 32767}, 'dimensions': [7661, 7801], 'crs': 'EPSG:32610', 'crs_transform': [30, 0, 460785, 0, -30, 4264215]}], 'version': 1759529750879074, 'id': 'LANDSAT/LC08/C02/T1_TOA/LC08_044034_20140318', 'properties': {'RADIANCE_MULT_BAND_5': 0.0061709, 'RADIANCE_MULT_BAND_6': 0.0015346, 'RADIANCE_MULT_BAND_3': 0.011958, 'RADIANCE_MULT_BAND_4': 0.010084, 'RADIANCE_MULT_BAND_1': 0.012673, 'RADIANCE_MULT_BAND_2': 0.012977, 'WRS_TYPE': 2, 'K2_CONSTANT_BAND_11': 1201.1442, 'K2_CONSTANT_BAND_10': 1321.0789, 'system:footprint': {'type': 'LinearRing', 'coordinates': [[-120.82829120245813, 38.12674271231532], [-120.82825562226986, 38.12794465488719], [-122.94816146043102, 38.52557438907335], [-122.95017392636679, 38.525575241513984], [-122.95103687833704, 38.52422133103557], [-122.9569591344694, 38.504384836247866], [-123.43819639576931, 36.8067677093856], [-123.43818715731503, 36.80515197239888], [-122.59741883356627, 36.649103679754695], [-121.7447578273677, 36.484155023486586], [-121.36447420897477, 36.40841783077398], [-121.36356258609048, 36.41050956687825], [-121.35090897088811, 36.4518793824831], [-121.22967745029597, 36.84643051692306], [-121.09562084223639, 37.277564669766534], [-121.00627382820008, 37.56277728852005], [-120.9878871097224, 37.62126918546582], [-120.94877799584778, 37.74550067322107], [-120.89582540976387, 37.913151863362316], [-120.87857939052793, 37.967699972528294], [-120.85488075181219, 38.04269503040254], [-120.82829120245813, 38.12674271231532]]}, 'REFLECTIVE_SAMPLES': 7661, 'SUN_AZIMUTH': 146.2395763, 'DATA_SOURCE_TIRS_STRAY_LIGHT_CORRECTION': 'TIRS', 'DATE_ACQUIRED': '2014-03-18', 'ELLIPSOID': 'WGS84', 'STATION_ID': 'LGN', 'RESAMPLING_OPTION': 'CUBIC_CONVOLUTION', 'ORIENTATION': 'NORTH_UP', 'WRS_ROW': 34, 'RADIANCE_MULT_BAND_9': 0.0024117, 'TARGET_WRS_ROW': 34, 'RADIANCE_MULT_BAND_7': 0.00051725, 'RADIANCE_MULT_BAND_8': 0.011412, 'IMAGE_QUALITY_TIRS': 9, 'TRUNCATION_OLI': 'UPPER', 'CLOUD_COVER': 0.06, 'GEOMETRIC_RMSE_VERIFY': 2.215, 'COLLECTION_CATEGORY': 'T1', 'GRID_CELL_SIZE_REFLECTIVE': 30, 'CLOUD_COVER_LAND': 0.1, 'GEOMETRIC_RMSE_MODEL': 5.02, 'COLLECTION_NUMBER': 2, 'IMAGE_QUALITY_OLI': 9, 'LANDSAT_SCENE_ID': 'LC80440342014077LGN01', 'WRS_PATH': 44, 'PANCHROMATIC_SAMPLES': 15321, 'PANCHROMATIC_LINES': 15601, 'GEOMETRIC_RMSE_MODEL_Y': 3.711, 'REFLECTIVE_LINES': 7801, 'GEOMETRIC_RMSE_MODEL_X': 3.38, 'system:asset_size': 1118765383, 'system:index': 'LC08_044034_20140318', 'DATA_SOURCE_ELEVATION': 'GLS2000', 'REFLECTANCE_ADD_BAND_1': -0.1, 'REFLECTANCE_ADD_BAND_2': -0.1, 'DATUM': 'WGS84', 'REFLECTANCE_ADD_BAND_3': -0.1, 'REFLECTANCE_ADD_BAND_4': -0.1, 'REFLECTANCE_ADD_BAND_5': -0.1, 'REFLECTANCE_ADD_BAND_6': -0.1, 'REFLECTANCE_ADD_BAND_7': -0.1, 'REFLECTANCE_ADD_BAND_8': -0.1, 'GROUND_CONTROL_POINTS_VERSION': 5, 'UTM_ZONE': 10, 'system:time_end': 1395168392053, 'LANDSAT_PRODUCT_ID': 'LC08_L1TP_044034_20140318_20200911_02_T1', 'REFLECTANCE_ADD_BAND_9': -0.1, 'GRID_CELL_SIZE_PANCHROMATIC': 15, 'RADIANCE_ADD_BAND_4': -50.41956, 'REFLECTANCE_MULT_BAND_7': 2e-05, 'system:time_start': 1395168392053, 'RADIANCE_ADD_BAND_5': -30.85425, 'REFLECTANCE_MULT_BAND_6': 2e-05, 'RADIANCE_ADD_BAND_6': -7.67317, 'REFLECTANCE_MULT_BAND_9': 2e-05, 'PROCESSING_SOFTWARE_VERSION': 'LPGS_15.3.1c', 'RADIANCE_ADD_BAND_7': -2.58627, 'REFLECTANCE_MULT_BAND_8': 2e-05, 'RADIANCE_ADD_BAND_1': -63.36405, 'RADIANCE_ADD_BAND_2': -64.88556, 'RADIANCE_ADD_BAND_3': -59.79149, 'REFLECTANCE_MULT_BAND_1': 2e-05, 'RADIANCE_ADD_BAND_8': -57.06106, 'REFLECTANCE_MULT_BAND_3': 2e-05, 'RADIANCE_ADD_BAND_9': -12.05854, 'REFLECTANCE_MULT_BAND_2': 2e-05, 'REFLECTANCE_MULT_BAND_5': 2e-05, 'REFLECTANCE_MULT_BAND_4': 2e-05, 'THERMAL_LINES': 7801, 'TIRS_SSM_POSITION_STATUS': 'NOMINAL', 'GRID_CELL_SIZE_THERMAL': 30, 'NADIR_OFFNADIR': 'NADIR', 'RADIANCE_ADD_BAND_11': 0.1, 'REQUEST_ID': 'L2', 'EARTH_SUN_DISTANCE': 0.9953709, 'TIRS_SSM_MODEL': 'ACTUAL', 'SCENE_CENTER_TIME': '18:46:32.0535800Z', 'SUN_ELEVATION': 46.47106522, 'RADIANCE_ADD_BAND_10': 0.1, 'ROLL_ANGLE': -0.001, 'DATE_PRODUCT_GENERATED': 1599866504000, 'K1_CONSTANT_BAND_10': 774.8853, 'SATURATION_BAND_1': 'Y', 'SATURATION_BAND_2': 'Y', 'SATURATION_BAND_3': 'Y', 'SATURATION_BAND_4': 'Y', 'SATURATION_BAND_5': 'Y', 'MAP_PROJECTION': 'UTM', 'SATURATION_BAND_6': 'Y', 'SENSOR_ID': 'OLI_TIRS', 'SATURATION_BAND_7': 'Y', 'K1_CONSTANT_BAND_11': 480.8883, 'SATURATION_BAND_8': 'N', 'SATURATION_BAND_9': 'N', 'TARGET_WRS_PATH': 44, 'PROCESSING_LEVEL': 'L1TP', 'RADIANCE_MULT_BAND_11': 0.0003342, 'RADIANCE_MULT_BAND_10': 0.0003342, 'GROUND_CONTROL_POINTS_MODEL': 1078, 'SPACECRAFT_ID': 'LANDSAT_8', 'THERMAL_SAMPLES': 7661, 'GROUND_CONTROL_POINTS_VERIFY': 307}}, {'type': 'Image', 'bands': [{'id': 'B1', 'data_type': {'type': 'PixelType', 'precision': 'float'}, 'dimensions': [7671, 7791], 'crs': 'EPSG:32610', 'crs_transform': [30, 0, 460785, 0, -30, 4264215]}, {'id': 'B2', 'data_type': {'type': 'PixelType', 'precision': 'float'}, 'dimensions': [7671, 7791], 'crs': 'EPSG:32610', 'crs_transform': [30, 0, 460785, 0, -30, 4264215]}, {'id': 'B3', 'data_type': {'type': 'PixelType', 'precision': 'float'}, 'dimensions': [7671, 7791], 'crs': 'EPSG:32610', 'crs_transform': [30, 0, 460785, 0, -30, 4264215]}, {'id': 'B4', 'data_type': {'type': 'PixelType', 'precision': 'float'}, 'dimensions': [7671, 7791], 'crs': 'EPSG:32610', 'crs_transform': [30, 0, 460785, 0, -30, 4264215]}, {'id': 'B5', 'data_type': {'type': 'PixelType', 'precision': 'float'}, 'dimensions': [7671, 7791], 'crs': 'EPSG:32610', 'crs_transform': [30, 0, 460785, 0, -30, 4264215]}, {'id': 'B6', 'data_type': {'type': 'PixelType', 'precision': 'float'}, 'dimensions': [7671, 7791], 'crs': 'EPSG:32610', 'crs_transform': [30, 0, 460785, 0, -30, 4264215]}, {'id': 'B7', 'data_type': {'type': 'PixelType', 'precision': 'float'}, 'dimensions': [7671, 7791], 'crs': 'EPSG:32610', 'crs_transform': [30, 0, 460785, 0, -30, 4264215]}, {'id': 'B8', 'data_type': {'type': 'PixelType', 'precision': 'float'}, 'dimensions': [15341, 15581], 'crs': 'EPSG:32610', 'crs_transform': [15, 0, 460792.5, 0, -15, 4264207.5]}, {'id': 'B9', 'data_type': {'type': 'PixelType', 'precision': 'float'}, 'dimensions': [7671, 7791], 'crs': 'EPSG:32610', 'crs_transform': [30, 0, 460785, 0, -30, 4264215]}, {'id': 'B10', 'data_type': {'type': 'PixelType', 'precision': 'float'}, 'dimensions': [7671, 7791], 'crs': 'EPSG:32610', 'crs_transform': [30, 0, 460785, 0, -30, 4264215]}, {'id': 'B11', 'data_type': {'type': 'PixelType', 'precision': 'float'}, 'dimensions': [7671, 7791], 'crs': 'EPSG:32610', 'crs_transform': [30, 0, 460785, 0, -30, 4264215]}, {'id': 'QA_PIXEL', 'data_type': {'type': 'PixelType', 'precision': 'int', 'min': 0, 'max': 65535}, 'dimensions': [7671, 7791], 'crs': 'EPSG:32610', 'crs_transform': [30, 0, 460785, 0, -30, 4264215]}, {'id': 'QA_RADSAT', 'data_type': {'type': 'PixelType', 'precision': 'int', 'min': 0, 'max': 65535}, 'dimensions': [7671, 7791], 'crs': 'EPSG:32610', 'crs_transform': [30, 0, 460785, 0, -30, 4264215]}, {'id': 'SAA', 'data_type': {'type': 'PixelType', 'precision': 'int', 'min': -32768, 'max': 32767}, 'dimensions': [7671, 7791], 'crs': 'EPSG:32610', 'crs_transform': [30, 0, 460785, 0, -30, 4264215]}, {'id': 'SZA', 'data_type': {'type': 'PixelType', 'precision': 'int', 'min': -32768, 'max': 32767}, 'dimensions': [7671, 7791], 'crs': 'EPSG:32610', 'crs_transform': [30, 0, 460785, 0, -30, 4264215]}, {'id': 'VAA', 'data_type': {'type': 'PixelType', 'precision': 'int', 'min': -32768, 'max': 32767}, 'dimensions': [7671, 7791], 'crs': 'EPSG:32610', 'crs_transform': [30, 0, 460785, 0, -30, 4264215]}, {'id': 'VZA', 'data_type': {'type': 'PixelType', 'precision': 'int', 'min': -32768, 'max': 32767}, 'dimensions': [7671, 7791], 'crs': 'EPSG:32610', 'crs_transform': [30, 0, 460785, 0, -30, 4264215]}], 'version': 1759529750879074, 'id': 'LANDSAT/LC08/C02/T1_TOA/LC08_044034_20140403', 'properties': {'RADIANCE_MULT_BAND_5': 0.0061143, 'RADIANCE_MULT_BAND_6': 0.0015206, 'RADIANCE_MULT_BAND_3': 0.011849, 'RADIANCE_MULT_BAND_4': 0.0099915, 'RADIANCE_MULT_BAND_1': 0.012557, 'RADIANCE_MULT_BAND_2': 0.012858, 'WRS_TYPE': 2, 'K2_CONSTANT_BAND_11': 1201.1442, 'K2_CONSTANT_BAND_10': 1321.0789, 'system:footprint': {'type': 'LinearRing', 'coordinates': [[-121.36115275791899, 36.4087522442435], [-121.36032111527068, 36.40940203140549], [-121.23050905857447, 36.83224671484892], [-121.101693720266, 37.246822008055645], [-120.98375540697396, 37.62322631532447], [-120.94463822140429, 37.747456269862234], [-120.90087622940615, 37.88618530030086], [-120.87780053560456, 37.95917007330635], [-120.85805717751293, 38.02166660180208], [-120.83754398139993, 38.08676244924683], [-120.82523652704003, 38.12588809456872], [-120.82517071081746, 38.12810560340743], [-120.8432760337697, 38.13170896657685], [-122.94765113754468, 38.52612670625539], [-122.9538620955667, 38.50519466790785], [-123.43517049773514, 36.80693920614441], [-123.43516202888463, 36.805443833887345], [-123.34617214371109, 36.78923587134424], [-121.57456191991677, 36.45141364954926], [-121.36115275791899, 36.4087522442435]]}, 'REFLECTIVE_SAMPLES': 7671, 'SUN_AZIMUTH': 143.37097088, 'DATA_SOURCE_TIRS_STRAY_LIGHT_CORRECTION': 'TIRS', 'DATE_ACQUIRED': '2014-04-03', 'ELLIPSOID': 'WGS84', 'STATION_ID': 'LGN', 'RESAMPLING_OPTION': 'CUBIC_CONVOLUTION', 'ORIENTATION': 'NORTH_UP', 'WRS_ROW': 34, 'RADIANCE_MULT_BAND_9': 0.0023896, 'TARGET_WRS_ROW': 34, 'RADIANCE_MULT_BAND_7': 0.00051252, 'RADIANCE_MULT_BAND_8': 0.011308, 'IMAGE_QUALITY_TIRS': 9, 'TRUNCATION_OLI': 'UPPER', 'CLOUD_COVER': 28.1, 'GEOMETRIC_RMSE_VERIFY': 2.566, 'COLLECTION_CATEGORY': 'T1', 'GRID_CELL_SIZE_REFLECTIVE': 30, 'CLOUD_COVER_LAND': 31.56, 'GEOMETRIC_RMSE_MODEL': 5.685, 'COLLECTION_NUMBER': 2, 'IMAGE_QUALITY_OLI': 9, 'LANDSAT_SCENE_ID': 'LC80440342014093LGN01', 'WRS_PATH': 44, 'PANCHROMATIC_SAMPLES': 15341, 'PANCHROMATIC_LINES': 15581, 'GEOMETRIC_RMSE_MODEL_Y': 4.011, 'REFLECTIVE_LINES': 7791, 'GEOMETRIC_RMSE_MODEL_X': 4.029, 'system:asset_size': 1223714031, 'system:index': 'LC08_044034_20140403', 'DATA_SOURCE_ELEVATION': 'GLS2000', 'REFLECTANCE_ADD_BAND_1': -0.1, 'REFLECTANCE_ADD_BAND_2': -0.1, 'DATUM': 'WGS84', 'REFLECTANCE_ADD_BAND_3': -0.1, 'REFLECTANCE_ADD_BAND_4': -0.1, 'REFLECTANCE_ADD_BAND_5': -0.1, 'REFLECTANCE_ADD_BAND_6': -0.1, 'REFLECTANCE_ADD_BAND_7': -0.1, 'REFLECTANCE_ADD_BAND_8': -0.1, 'GROUND_CONTROL_POINTS_VERSION': 5, 'UTM_ZONE': 10, 'system:time_end': 1396550776288, 'LANDSAT_PRODUCT_ID': 'LC08_L1TP_044034_20140403_20200911_02_T1', 'REFLECTANCE_ADD_BAND_9': -0.1, 'GRID_CELL_SIZE_PANCHROMATIC': 15, 'RADIANCE_ADD_BAND_4': -49.95765, 'REFLECTANCE_MULT_BAND_7': 2e-05, 'system:time_start': 1396550776288, 'RADIANCE_ADD_BAND_5': -30.57159, 'REFLECTANCE_MULT_BAND_6': 2e-05, 'RADIANCE_ADD_BAND_6': -7.60288, 'REFLECTANCE_MULT_BAND_9': 2e-05, 'PROCESSING_SOFTWARE_VERSION': 'LPGS_15.3.1c', 'RADIANCE_ADD_BAND_7': -2.56258, 'REFLECTANCE_MULT_BAND_8': 2e-05, 'RADIANCE_ADD_BAND_1': -62.78356, 'RADIANCE_ADD_BAND_2': -64.29113, 'RADIANCE_ADD_BAND_3': -59.24373, 'REFLECTANCE_MULT_BAND_1': 2e-05, 'RADIANCE_ADD_BAND_8': -56.53831, 'REFLECTANCE_MULT_BAND_3': 2e-05, 'RADIANCE_ADD_BAND_9': -11.94807, 'REFLECTANCE_MULT_BAND_2': 2e-05, 'REFLECTANCE_MULT_BAND_5': 2e-05, 'REFLECTANCE_MULT_BAND_4': 2e-05, 'THERMAL_LINES': 7791, 'TIRS_SSM_POSITION_STATUS': 'NOMINAL', 'GRID_CELL_SIZE_THERMAL': 30, 'NADIR_OFFNADIR': 'NADIR', 'RADIANCE_ADD_BAND_11': 0.1, 'REQUEST_ID': 'L2', 'EARTH_SUN_DISTANCE': 0.9999619, 'TIRS_SSM_MODEL': 'ACTUAL', 'SCENE_CENTER_TIME': '18:46:16.2881730Z', 'SUN_ELEVATION': 52.54980145, 'RADIANCE_ADD_BAND_10': 0.1, 'ROLL_ANGLE': -0.001, 'DATE_PRODUCT_GENERATED': 1599864721000, 'K1_CONSTANT_BAND_10': 774.8853, 'SATURATION_BAND_1': 'N', 'SATURATION_BAND_2': 'N', 'SATURATION_BAND_3': 'N', 'SATURATION_BAND_4': 'N', 'SATURATION_BAND_5': 'Y', 'MAP_PROJECTION': 'UTM', 'SATURATION_BAND_6': 'Y', 'SENSOR_ID': 'OLI_TIRS', 'SATURATION_BAND_7': 'Y', 'K1_CONSTANT_BAND_11': 480.8883, 'SATURATION_BAND_8': 'N', 'SATURATION_BAND_9': 'N', 'TARGET_WRS_PATH': 44, 'PROCESSING_LEVEL': 'L1TP', 'RADIANCE_MULT_BAND_11': 0.0003342, 'RADIANCE_MULT_BAND_10': 0.0003342, 'GROUND_CONTROL_POINTS_MODEL': 808, 'SPACECRAFT_ID': 'LANDSAT_8', 'THERMAL_SAMPLES': 7671, 'GROUND_CONTROL_POINTS_VERIFY': 266}}, {'type': 'Image', 'bands': [{'id': 'B1', 'data_type': {'type': 'PixelType', 'precision': 'float'}, 'dimensions': [7671, 7791], 'crs': 'EPSG:32610', 'crs_transform': [30, 0, 461385, 0, -30, 4264215]}, {'id': 'B2', 'data_type': {'type': 'PixelType', 'precision': 'float'}, 'dimensions': [7671, 7791], 'crs': 'EPSG:32610', 'crs_transform': [30, 0, 461385, 0, -30, 4264215]}, {'id': 'B3', 'data_type': {'type': 'PixelType', 'precision': 'float'}, 'dimensions': [7671, 7791], 'crs': 'EPSG:32610', 'crs_transform': [30, 0, 461385, 0, -30, 4264215]}, {'id': 'B4', 'data_type': {'type': 'PixelType', 'precision': 'float'}, 'dimensions': [7671, 7791], 'crs': 'EPSG:32610', 'crs_transform': [30, 0, 461385, 0, -30, 4264215]}, {'id': 'B5', 'data_type': {'type': 'PixelType', 'precision': 'float'}, 'dimensions': [7671, 7791], 'crs': 'EPSG:32610', 'crs_transform': [30, 0, 461385, 0, -30, 4264215]}, {'id': 'B6', 'data_type': {'type': 'PixelType', 'precision': 'float'}, 'dimensions': [7671, 7791], 'crs': 'EPSG:32610', 'crs_transform': [30, 0, 461385, 0, -30, 4264215]}, {'id': 'B7', 'data_type': {'type': 'PixelType', 'precision': 'float'}, 'dimensions': [7671, 7791], 'crs': 'EPSG:32610', 'crs_transform': [30, 0, 461385, 0, -30, 4264215]}, {'id': 'B8', 'data_type': {'type': 'PixelType', 'precision': 'float'}, 'dimensions': [15341, 15581], 'crs': 'EPSG:32610', 'crs_transform': [15, 0, 461392.5, 0, -15, 4264207.5]}, {'id': 'B9', 'data_type': {'type': 'PixelType', 'precision': 'float'}, 'dimensions': [7671, 7791], 'crs': 'EPSG:32610', 'crs_transform': [30, 0, 461385, 0, -30, 4264215]}, {'id': 'B10', 'data_type': {'type': 'PixelType', 'precision': 'float'}, 'dimensions': [7671, 7791], 'crs': 'EPSG:32610', 'crs_transform': [30, 0, 461385, 0, -30, 4264215]}, {'id': 'B11', 'data_type': {'type': 'PixelType', 'precision': 'float'}, 'dimensions': [7671, 7791], 'crs': 'EPSG:32610', 'crs_transform': [30, 0, 461385, 0, -30, 4264215]}, {'id': 'QA_PIXEL', 'data_type': {'type': 'PixelType', 'precision': 'int', 'min': 0, 'max': 65535}, 'dimensions': [7671, 7791], 'crs': 'EPSG:32610', 'crs_transform': [30, 0, 461385, 0, -30, 4264215]}, {'id': 'QA_RADSAT', 'data_type': {'type': 'PixelType', 'precision': 'int', 'min': 0, 'max': 65535}, 'dimensions': [7671, 7791], 'crs': 'EPSG:32610', 'crs_transform': [30, 0, 461385, 0, -30, 4264215]}, {'id': 'SAA', 'data_type': {'type': 'PixelType', 'precision': 'int', 'min': -32768, 'max': 32767}, 'dimensions': [7671, 7791], 'crs': 'EPSG:32610', 'crs_transform': [30, 0, 461385, 0, -30, 4264215]}, {'id': 'SZA', 'data_type': {'type': 'PixelType', 'precision': 'int', 'min': -32768, 'max': 32767}, 'dimensions': [7671, 7791], 'crs': 'EPSG:32610', 'crs_transform': [30, 0, 461385, 0, -30, 4264215]}, {'id': 'VAA', 'data_type': {'type': 'PixelType', 'precision': 'int', 'min': -32768, 'max': 32767}, 'dimensions': [7671, 7791], 'crs': 'EPSG:32610', 'crs_transform': [30, 0, 461385, 0, -30, 4264215]}, {'id': 'VZA', 'data_type': {'type': 'PixelType', 'precision': 'int', 'min': -32768, 'max': 32767}, 'dimensions': [7671, 7791], 'crs': 'EPSG:32610', 'crs_transform': [30, 0, 461385, 0, -30, 4264215]}], 'version': 1759529750879074, 'id': 'LANDSAT/LC08/C02/T1_TOA/LC08_044034_20140419', 'properties': {'RADIANCE_MULT_BAND_5': 0.0060598, 'RADIANCE_MULT_BAND_6': 0.001507, 'RADIANCE_MULT_BAND_3': 0.011743, 'RADIANCE_MULT_BAND_4': 0.0099024, 'RADIANCE_MULT_BAND_1': 0.012445, 'RADIANCE_MULT_BAND_2': 0.012744, 'WRS_TYPE': 2, 'K2_CONSTANT_BAND_11': 1201.1442, 'K2_CONSTANT_BAND_10': 1321.0789, 'system:footprint': {'type': 'LinearRing', 'coordinates': [[-122.88621854474502, 38.515918860503874], [-122.94058329337464, 38.52557075895081], [-122.94293147316415, 38.52557196694168], [-122.9449050123854, 38.51938644140832], [-122.9490448046238, 38.50559837666737], [-123.43074110121823, 36.80570268815341], [-123.42805845282037, 36.80499441252437], [-123.33944561397199, 36.788849601438066], [-121.47384245859138, 36.43231974073358], [-121.35526726667396, 36.408572091158966], [-121.22448398053771, 36.83459055933185], [-121.10273738729549, 37.226533177156604], [-120.98462058442232, 37.60377504411823], [-120.96508593952846, 37.665892951814094], [-120.8782430932996, 37.94112232300879], [-120.85614418246594, 38.011088410726714], [-120.83579409865706, 38.07559686844835], [-120.81949303120352, 38.12776563499206], [-120.8259646221369, 38.1291718668021], [-122.88621854474502, 38.515918860503874]]}, 'REFLECTIVE_SAMPLES': 7671, 'SUN_AZIMUTH': 139.70121053, 'DATA_SOURCE_TIRS_STRAY_LIGHT_CORRECTION': 'TIRS', 'DATE_ACQUIRED': '2014-04-19', 'ELLIPSOID': 'WGS84', 'STATION_ID': 'LGN', 'RESAMPLING_OPTION': 'CUBIC_CONVOLUTION', 'ORIENTATION': 'NORTH_UP', 'WRS_ROW': 34, 'RADIANCE_MULT_BAND_9': 0.0023683, 'TARGET_WRS_ROW': 34, 'RADIANCE_MULT_BAND_7': 0.00050795, 'RADIANCE_MULT_BAND_8': 0.011207, 'IMAGE_QUALITY_TIRS': 9, 'TRUNCATION_OLI': 'UPPER', 'CLOUD_COVER': 12.9, 'GEOMETRIC_RMSE_VERIFY': 1.933, 'COLLECTION_CATEGORY': 'T1', 'GRID_CELL_SIZE_REFLECTIVE': 30, 'CLOUD_COVER_LAND': 0.75, 'GEOMETRIC_RMSE_MODEL': 5.088, 'COLLECTION_NUMBER': 2, 'IMAGE_QUALITY_OLI': 9, 'LANDSAT_SCENE_ID': 'LC80440342014109LGN01', 'WRS_PATH': 44, 'PANCHROMATIC_SAMPLES': 15341, 'PANCHROMATIC_LINES': 15581, 'GEOMETRIC_RMSE_MODEL_Y': 3.614, 'REFLECTIVE_LINES': 7791, 'GEOMETRIC_RMSE_MODEL_X': 3.581, 'system:asset_size': 1217288151, 'system:index': 'LC08_044034_20140419', 'DATA_SOURCE_ELEVATION': 'GLS2000', 'REFLECTANCE_ADD_BAND_1': -0.1, 'REFLECTANCE_ADD_BAND_2': -0.1, 'DATUM': 'WGS84', 'REFLECTANCE_ADD_BAND_3': -0.1, 'REFLECTANCE_ADD_BAND_4': -0.1, 'REFLECTANCE_ADD_BAND_5': -0.1, 'REFLECTANCE_ADD_BAND_6': -0.1, 'REFLECTANCE_ADD_BAND_7': -0.1, 'REFLECTANCE_ADD_BAND_8': -0.1, 'GROUND_CONTROL_POINTS_VERSION': 5, 'UTM_ZONE': 10, 'system:time_end': 1397933159240, 'LANDSAT_PRODUCT_ID': 'LC08_L1TP_044034_20140419_20200911_02_T1', 'REFLECTANCE_ADD_BAND_9': -0.1, 'GRID_CELL_SIZE_PANCHROMATIC': 15, 'RADIANCE_ADD_BAND_4': -49.51223, 'REFLECTANCE_MULT_BAND_7': 2e-05, 'system:time_start': 1397933159240, 'RADIANCE_ADD_BAND_5': -30.29902, 'REFLECTANCE_MULT_BAND_6': 2e-05, 'RADIANCE_ADD_BAND_6': -7.53509, 'REFLECTANCE_MULT_BAND_9': 2e-05, 'PROCESSING_SOFTWARE_VERSION': 'LPGS_15.3.1c', 'RADIANCE_ADD_BAND_7': -2.53973, 'REFLECTANCE_MULT_BAND_8': 2e-05, 'RADIANCE_ADD_BAND_1': -62.22379, 'RADIANCE_ADD_BAND_2': -63.71792, 'RADIANCE_ADD_BAND_3': -58.71552, 'REFLECTANCE_MULT_BAND_1': 2e-05, 'RADIANCE_ADD_BAND_8': -56.03422, 'REFLECTANCE_MULT_BAND_3': 2e-05, 'RADIANCE_ADD_BAND_9': -11.84154, 'REFLECTANCE_MULT_BAND_2': 2e-05, 'REFLECTANCE_MULT_BAND_5': 2e-05, 'REFLECTANCE_MULT_BAND_4': 2e-05, 'THERMAL_LINES': 7791, 'TIRS_SSM_POSITION_STATUS': 'NOMINAL', 'GRID_CELL_SIZE_THERMAL': 30, 'NADIR_OFFNADIR': 'NADIR', 'RADIANCE_ADD_BAND_11': 0.1, 'REQUEST_ID': 'L2', 'EARTH_SUN_DISTANCE': 1.0044497, 'TIRS_SSM_MODEL': 'ACTUAL', 'SCENE_CENTER_TIME': '18:45:59.2402600Z', 'SUN_ELEVATION': 58.0946964, 'RADIANCE_ADD_BAND_10': 0.1, 'ROLL_ANGLE': -0.001, 'DATE_PRODUCT_GENERATED': 1599838949000, 'K1_CONSTANT_BAND_10': 774.8853, 'SATURATION_BAND_1': 'Y', 'SATURATION_BAND_2': 'Y', 'SATURATION_BAND_3': 'Y', 'SATURATION_BAND_4': 'Y', 'SATURATION_BAND_5': 'Y', 'MAP_PROJECTION': 'UTM', 'SATURATION_BAND_6': 'Y', 'SENSOR_ID': 'OLI_TIRS', 'SATURATION_BAND_7': 'Y', 'K1_CONSTANT_BAND_11': 480.8883, 'SATURATION_BAND_8': 'N', 'SATURATION_BAND_9': 'N', 'TARGET_WRS_PATH': 44, 'PROCESSING_LEVEL': 'L1TP', 'RADIANCE_MULT_BAND_11': 0.0003342, 'RADIANCE_MULT_BAND_10': 0.0003342, 'GROUND_CONTROL_POINTS_MODEL': 1046, 'SPACECRAFT_ID': 'LANDSAT_8', 'THERMAL_SAMPLES': 7671, 'GROUND_CONTROL_POINTS_VERIFY': 300}}, {'type': 'Image', 'bands': [{'id': 'B1', 'data_type': {'type': 'PixelType', 'precision': 'float'}, 'dimensions': [7671, 7791], 'crs': 'EPSG:32610', 'crs_transform': [30, 0, 461385, 0, -30, 4264215]}, {'id': 'B2', 'data_type': {'type': 'PixelType', 'precision': 'float'}, 'dimensions': [7671, 7791], 'crs': 'EPSG:32610', 'crs_transform': [30, 0, 461385, 0, -30, 4264215]}, {'id': 'B3', 'data_type': {'type': 'PixelType', 'precision': 'float'}, 'dimensions': [7671, 7791], 'crs': 'EPSG:32610', 'crs_transform': [30, 0, 461385, 0, -30, 4264215]}, {'id': 'B4', 'data_type': {'type': 'PixelType', 'precision': 'float'}, 'dimensions': [7671, 7791], 'crs': 'EPSG:32610', 'crs_transform': [30, 0, 461385, 0, -30, 4264215]}, {'id': 'B5', 'data_type': {'type': 'PixelType', 'precision': 'float'}, 'dimensions': [7671, 7791], 'crs': 'EPSG:32610', 'crs_transform': [30, 0, 461385, 0, -30, 4264215]}, {'id': 'B6', 'data_type': {'type': 'PixelType', 'precision': 'float'}, 'dimensions': [7671, 7791], 'crs': 'EPSG:32610', 'crs_transform': [30, 0, 461385, 0, -30, 4264215]}, {'id': 'B7', 'data_type': {'type': 'PixelType', 'precision': 'float'}, 'dimensions': [7671, 7791], 'crs': 'EPSG:32610', 'crs_transform': [30, 0, 461385, 0, -30, 4264215]}, {'id': 'B8', 'data_type': {'type': 'PixelType', 'precision': 'float'}, 'dimensions': [15341, 15581], 'crs': 'EPSG:32610', 'crs_transform': [15, 0, 461392.5, 0, -15, 4264207.5]}, {'id': 'B9', 'data_type': {'type': 'PixelType', 'precision': 'float'}, 'dimensions': [7671, 7791], 'crs': 'EPSG:32610', 'crs_transform': [30, 0, 461385, 0, -30, 4264215]}, {'id': 'B10', 'data_type': {'type': 'PixelType', 'precision': 'float'}, 'dimensions': [7671, 7791], 'crs': 'EPSG:32610', 'crs_transform': [30, 0, 461385, 0, -30, 4264215]}, {'id': 'B11', 'data_type': {'type': 'PixelType', 'precision': 'float'}, 'dimensions': [7671, 7791], 'crs': 'EPSG:32610', 'crs_transform': [30, 0, 461385, 0, -30, 4264215]}, {'id': 'QA_PIXEL', 'data_type': {'type': 'PixelType', 'precision': 'int', 'min': 0, 'max': 65535}, 'dimensions': [7671, 7791], 'crs': 'EPSG:32610', 'crs_transform': [30, 0, 461385, 0, -30, 4264215]}, {'id': 'QA_RADSAT', 'data_type': {'type': 'PixelType', 'precision': 'int', 'min': 0, 'max': 65535}, 'dimensions': [7671, 7791], 'crs': 'EPSG:32610', 'crs_transform': [30, 0, 461385, 0, -30, 4264215]}, {'id': 'SAA', 'data_type': {'type': 'PixelType', 'precision': 'int', 'min': -32768, 'max': 32767}, 'dimensions': [7671, 7791], 'crs': 'EPSG:32610', 'crs_transform': [30, 0, 461385, 0, -30, 4264215]}, {'id': 'SZA', 'data_type': {'type': 'PixelType', 'precision': 'int', 'min': -32768, 'max': 32767}, 'dimensions': [7671, 7791], 'crs': 'EPSG:32610', 'crs_transform': [30, 0, 461385, 0, -30, 4264215]}, {'id': 'VAA', 'data_type': {'type': 'PixelType', 'precision': 'int', 'min': -32768, 'max': 32767}, 'dimensions': [7671, 7791], 'crs': 'EPSG:32610', 'crs_transform': [30, 0, 461385, 0, -30, 4264215]}, {'id': 'VZA', 'data_type': {'type': 'PixelType', 'precision': 'int', 'min': -32768, 'max': 32767}, 'dimensions': [7671, 7791], 'crs': 'EPSG:32610', 'crs_transform': [30, 0, 461385, 0, -30, 4264215]}], 'version': 1759529750879074, 'id': 'LANDSAT/LC08/C02/T1_TOA/LC08_044034_20140505', 'properties': {'RADIANCE_MULT_BAND_5': 0.0060095, 'RADIANCE_MULT_BAND_6': 0.0014945, 'RADIANCE_MULT_BAND_3': 0.011646, 'RADIANCE_MULT_BAND_4': 0.0098202, 'RADIANCE_MULT_BAND_1': 0.012341, 'RADIANCE_MULT_BAND_2': 0.012638, 'WRS_TYPE': 2, 'K2_CONSTANT_BAND_11': 1201.1442, 'K2_CONSTANT_BAND_10': 1321.0789, 'system:footprint': {'type': 'LinearRing', 'coordinates': [[-122.94257304228283, 38.52467261055228], [-122.94438908458714, 38.518980549130696], [-122.9480116995035, 38.506814434795785], [-123.42945684762904, 36.80761038418792], [-123.42944589735127, 36.80565188414415], [-123.35257183179192, 36.79165100387967], [-122.57008116901221, 36.64616848078296], [-121.4888356681019, 36.43575567373293], [-121.3547290979415, 36.40890293435375], [-121.2272447812388, 36.82428877260369], [-121.09530377202923, 37.24902602443642], [-120.99246169009649, 37.577548361952395], [-120.97014999757636, 37.64854205560341], [-120.91360329650365, 37.82801628797847], [-120.8782440569033, 37.93986468938963], [-120.85338424434237, 38.01849368532761], [-120.83526945322315, 38.0759927589647], [-120.81939136624695, 38.12680700641109], [-120.8193448282087, 38.128371143012764], [-122.94158002126318, 38.52623031835717], [-122.94257304228283, 38.52467261055228]]}, 'REFLECTIVE_SAMPLES': 7671, 'SUN_AZIMUTH': 134.89888726, 'DATA_SOURCE_TIRS_STRAY_LIGHT_CORRECTION': 'TIRS', 'DATE_ACQUIRED': '2014-05-05', 'ELLIPSOID': 'WGS84', 'STATION_ID': 'LGN', 'RESAMPLING_OPTION': 'CUBIC_CONVOLUTION', 'ORIENTATION': 'NORTH_UP', 'WRS_ROW': 34, 'RADIANCE_MULT_BAND_9': 0.0023486, 'TARGET_WRS_ROW': 34, 'RADIANCE_MULT_BAND_7': 0.00050373, 'RADIANCE_MULT_BAND_8': 0.011114, 'IMAGE_QUALITY_TIRS': 9, 'TRUNCATION_OLI': 'UPPER', 'CLOUD_COVER': 24.25, 'GEOMETRIC_RMSE_VERIFY': 2.402, 'COLLECTION_CATEGORY': 'T1', 'GRID_CELL_SIZE_REFLECTIVE': 30, 'CLOUD_COVER_LAND': 30.08, 'GEOMETRIC_RMSE_MODEL': 5.983, 'COLLECTION_NUMBER': 2, 'IMAGE_QUALITY_OLI': 9, 'LANDSAT_SCENE_ID': 'LC80440342014125LGN01', 'WRS_PATH': 44, 'PANCHROMATIC_SAMPLES': 15341, 'PANCHROMATIC_LINES': 15581, 'GEOMETRIC_RMSE_MODEL_Y': 3.882, 'REFLECTIVE_LINES': 7791, 'GEOMETRIC_RMSE_MODEL_X': 4.553, 'system:asset_size': 1278139927, 'system:index': 'LC08_044034_20140505', 'DATA_SOURCE_ELEVATION': 'GLS2000', 'REFLECTANCE_ADD_BAND_1': -0.1, 'REFLECTANCE_ADD_BAND_2': -0.1, 'DATUM': 'WGS84', 'REFLECTANCE_ADD_BAND_3': -0.1, 'REFLECTANCE_ADD_BAND_4': -0.1, 'REFLECTANCE_ADD_BAND_5': -0.1, 'REFLECTANCE_ADD_BAND_6': -0.1, 'REFLECTANCE_ADD_BAND_7': -0.1, 'REFLECTANCE_ADD_BAND_8': -0.1, 'GROUND_CONTROL_POINTS_VERSION': 5, 'UTM_ZONE': 10, 'system:time_end': 1399315542791, 'LANDSAT_PRODUCT_ID': 'LC08_L1TP_044034_20140505_20200911_02_T1', 'REFLECTANCE_ADD_BAND_9': -0.1, 'GRID_CELL_SIZE_PANCHROMATIC': 15, 'RADIANCE_ADD_BAND_4': -49.101, 'REFLECTANCE_MULT_BAND_7': 2e-05, 'system:time_start': 1399315542791, 'RADIANCE_ADD_BAND_5': -30.04736, 'REFLECTANCE_MULT_BAND_6': 2e-05, 'RADIANCE_ADD_BAND_6': -7.47251, 'REFLECTANCE_MULT_BAND_9': 2e-05, 'PROCESSING_SOFTWARE_VERSION': 'LPGS_15.3.1c', 'RADIANCE_ADD_BAND_7': -2.51863, 'REFLECTANCE_MULT_BAND_8': 2e-05, 'RADIANCE_ADD_BAND_1': -61.70698, 'RADIANCE_ADD_BAND_2': -63.1887, 'RADIANCE_ADD_BAND_3': -58.22784, 'REFLECTANCE_MULT_BAND_1': 2e-05, 'RADIANCE_ADD_BAND_8': -55.56882, 'REFLECTANCE_MULT_BAND_3': 2e-05, 'RADIANCE_ADD_BAND_9': -11.74319, 'REFLECTANCE_MULT_BAND_2': 2e-05, 'REFLECTANCE_MULT_BAND_5': 2e-05, 'REFLECTANCE_MULT_BAND_4': 2e-05, 'THERMAL_LINES': 7791, 'TIRS_SSM_POSITION_STATUS': 'NOMINAL', 'GRID_CELL_SIZE_THERMAL': 30, 'NADIR_OFFNADIR': 'NADIR', 'RADIANCE_ADD_BAND_11': 0.1, 'REQUEST_ID': 'L2', 'EARTH_SUN_DISTANCE': 1.0086472, 'TIRS_SSM_MODEL': 'ACTUAL', 'SCENE_CENTER_TIME': '18:45:42.7916370Z', 'SUN_ELEVATION': 62.58410279, 'RADIANCE_ADD_BAND_10': 0.1, 'ROLL_ANGLE': -0.001, 'DATE_PRODUCT_GENERATED': 1599830025000, 'K1_CONSTANT_BAND_10': 774.8853, 'SATURATION_BAND_1': 'Y', 'SATURATION_BAND_2': 'Y', 'SATURATION_BAND_3': 'Y', 'SATURATION_BAND_4': 'Y', 'SATURATION_BAND_5': 'Y', 'MAP_PROJECTION': 'UTM', 'SATURATION_BAND_6': 'Y', 'SENSOR_ID': 'OLI_TIRS', 'SATURATION_BAND_7': 'Y', 'K1_CONSTANT_BAND_11': 480.8883, 'SATURATION_BAND_8': 'N', 'SATURATION_BAND_9': 'N', 'TARGET_WRS_PATH': 44, 'PROCESSING_LEVEL': 'L1TP', 'RADIANCE_MULT_BAND_11': 0.0003342, 'RADIANCE_MULT_BAND_10': 0.0003342, 'GROUND_CONTROL_POINTS_MODEL': 590, 'SPACECRAFT_ID': 'LANDSAT_8', 'THERMAL_SAMPLES': 7671, 'GROUND_CONTROL_POINTS_VERIFY': 165}}, {'type': 'Image', 'bands': [{'id': 'B1', 'data_type': {'type': 'PixelType', 'precision': 'float'}, 'dimensions': [7671, 7801], 'crs': 'EPSG:32610', 'crs_transform': [30, 0, 464685, 0, -30, 4264515]}, {'id': 'B2', 'data_type': {'type': 'PixelType', 'precision': 'float'}, 'dimensions': [7671, 7801], 'crs': 'EPSG:32610', 'crs_transform': [30, 0, 464685, 0, -30, 4264515]}, {'id': 'B3', 'data_type': {'type': 'PixelType', 'precision': 'float'}, 'dimensions': [7671, 7801], 'crs': 'EPSG:32610', 'crs_transform': [30, 0, 464685, 0, -30, 4264515]}, {'id': 'B4', 'data_type': {'type': 'PixelType', 'precision': 'float'}, 'dimensions': [7671, 7801], 'crs': 'EPSG:32610', 'crs_transform': [30, 0, 464685, 0, -30, 4264515]}, {'id': 'B5', 'data_type': {'type': 'PixelType', 'precision': 'float'}, 'dimensions': [7671, 7801], 'crs': 'EPSG:32610', 'crs_transform': [30, 0, 464685, 0, -30, 4264515]}, {'id': 'B6', 'data_type': {'type': 'PixelType', 'precision': 'float'}, 'dimensions': [7671, 7801], 'crs': 'EPSG:32610', 'crs_transform': [30, 0, 464685, 0, -30, 4264515]}, {'id': 'B7', 'data_type': {'type': 'PixelType', 'precision': 'float'}, 'dimensions': [7671, 7801], 'crs': 'EPSG:32610', 'crs_transform': [30, 0, 464685, 0, -30, 4264515]}, {'id': 'B8', 'data_type': {'type': 'PixelType', 'precision': 'float'}, 'dimensions': [15341, 15601], 'crs': 'EPSG:32610', 'crs_transform': [15, 0, 464692.5, 0, -15, 4264507.5]}, {'id': 'B9', 'data_type': {'type': 'PixelType', 'precision': 'float'}, 'dimensions': [7671, 7801], 'crs': 'EPSG:32610', 'crs_transform': [30, 0, 464685, 0, -30, 4264515]}, {'id': 'B10', 'data_type': {'type': 'PixelType', 'precision': 'float'}, 'dimensions': [7671, 7801], 'crs': 'EPSG:32610', 'crs_transform': [30, 0, 464685, 0, -30, 4264515]}, {'id': 'B11', 'data_type': {'type': 'PixelType', 'precision': 'float'}, 'dimensions': [7671, 7801], 'crs': 'EPSG:32610', 'crs_transform': [30, 0, 464685, 0, -30, 4264515]}, {'id': 'QA_PIXEL', 'data_type': {'type': 'PixelType', 'precision': 'int', 'min': 0, 'max': 65535}, 'dimensions': [7671, 7801], 'crs': 'EPSG:32610', 'crs_transform': [30, 0, 464685, 0, -30, 4264515]}, {'id': 'QA_RADSAT', 'data_type': {'type': 'PixelType', 'precision': 'int', 'min': 0, 'max': 65535}, 'dimensions': [7671, 7801], 'crs': 'EPSG:32610', 'crs_transform': [30, 0, 464685, 0, -30, 4264515]}, {'id': 'SAA', 'data_type': {'type': 'PixelType', 'precision': 'int', 'min': -32768, 'max': 32767}, 'dimensions': [7671, 7801], 'crs': 'EPSG:32610', 'crs_transform': [30, 0, 464685, 0, -30, 4264515]}, {'id': 'SZA', 'data_type': {'type': 'PixelType', 'precision': 'int', 'min': -32768, 'max': 32767}, 'dimensions': [7671, 7801], 'crs': 'EPSG:32610', 'crs_transform': [30, 0, 464685, 0, -30, 4264515]}, {'id': 'VAA', 'data_type': {'type': 'PixelType', 'precision': 'int', 'min': -32768, 'max': 32767}, 'dimensions': [7671, 7801], 'crs': 'EPSG:32610', 'crs_transform': [30, 0, 464685, 0, -30, 4264515]}, {'id': 'VZA', 'data_type': {'type': 'PixelType', 'precision': 'int', 'min': -32768, 'max': 32767}, 'dimensions': [7671, 7801], 'crs': 'EPSG:32610', 'crs_transform': [30, 0, 464685, 0, -30, 4264515]}], 'version': 1759529750879074, 'id': 'LANDSAT/LC08/C02/T1_TOA/LC08_044034_20140521', 'properties': {'RADIANCE_MULT_BAND_5': 0.0059678, 'RADIANCE_MULT_BAND_6': 0.0014841, 'RADIANCE_MULT_BAND_3': 0.011565, 'RADIANCE_MULT_BAND_4': 0.0097522, 'RADIANCE_MULT_BAND_1': 0.012256, 'RADIANCE_MULT_BAND_2': 0.01255, 'WRS_TYPE': 2, 'K2_CONSTANT_BAND_11': 1201.1442, 'K2_CONSTANT_BAND_10': 1321.0789, 'system:footprint': {'type': 'LinearRing', 'coordinates': [[-120.85587108277872, 37.89132134552855], [-120.83614225448262, 37.95340946061758], [-120.81580525663348, 38.01750965626636], [-120.78180650136593, 38.12482605929782], [-120.78174074969488, 38.126999042160946], [-120.78768859238095, 38.128293582922375], [-122.67367147749984, 38.48565482914182], [-122.88667240488552, 38.52389984813605], [-122.90220753504246, 38.526626452540775], [-122.90391301365811, 38.52662791092352], [-123.39347373725418, 36.80825988534913], [-123.3934648368189, 36.806517157002524], [-123.38424559762457, 36.80480461525398], [-121.37688427325624, 36.41948389578028], [-121.32090176841712, 36.4082232067958], [-121.31941106419842, 36.40820224615138], [-121.19754665575608, 36.80342664417735], [-121.0743751097572, 37.19836107152174], [-120.94695055545651, 37.603617602995904], [-120.89690361044642, 37.761888615240025], [-120.85587108277872, 37.89132134552855]]}, 'REFLECTIVE_SAMPLES': 7671, 'SUN_AZIMUTH': 129.40968017, 'DATA_SOURCE_TIRS_STRAY_LIGHT_CORRECTION': 'TIRS', 'DATE_ACQUIRED': '2014-05-21', 'ELLIPSOID': 'WGS84', 'STATION_ID': 'LGN', 'RESAMPLING_OPTION': 'CUBIC_CONVOLUTION', 'ORIENTATION': 'NORTH_UP', 'WRS_ROW': 34, 'RADIANCE_MULT_BAND_9': 0.0023324, 'TARGET_WRS_ROW': 34, 'RADIANCE_MULT_BAND_7': 0.00050024, 'RADIANCE_MULT_BAND_8': 0.011037, 'IMAGE_QUALITY_TIRS': 9, 'TRUNCATION_OLI': 'UPPER', 'CLOUD_COVER': 35.42, 'GEOMETRIC_RMSE_VERIFY': 1.994, 'COLLECTION_CATEGORY': 'T1', 'GRID_CELL_SIZE_REFLECTIVE': 30, 'CLOUD_COVER_LAND': 14.03, 'GEOMETRIC_RMSE_MODEL': 4.326, 'COLLECTION_NUMBER': 2, 'IMAGE_QUALITY_OLI': 9, 'LANDSAT_SCENE_ID': 'LC80440342014141LGN01', 'WRS_PATH': 44, 'PANCHROMATIC_SAMPLES': 15341, 'PANCHROMATIC_LINES': 15601, 'GEOMETRIC_RMSE_MODEL_Y': 3.06, 'REFLECTIVE_LINES': 7801, 'GEOMETRIC_RMSE_MODEL_X': 3.058, 'system:asset_size': 1275116173, 'system:index': 'LC08_044034_20140521', 'DATA_SOURCE_ELEVATION': 'GLS2000', 'REFLECTANCE_ADD_BAND_1': -0.1, 'REFLECTANCE_ADD_BAND_2': -0.1, 'DATUM': 'WGS84', 'REFLECTANCE_ADD_BAND_3': -0.1, 'REFLECTANCE_ADD_BAND_4': -0.1, 'REFLECTANCE_ADD_BAND_5': -0.1, 'REFLECTANCE_ADD_BAND_6': -0.1, 'REFLECTANCE_ADD_BAND_7': -0.1, 'REFLECTANCE_ADD_BAND_8': -0.1, 'GROUND_CONTROL_POINTS_VERSION': 5, 'UTM_ZONE': 10, 'system:time_end': 1400697934827, 'LANDSAT_PRODUCT_ID': 'LC08_L1TP_044034_20140521_20200911_02_T1', 'REFLECTANCE_ADD_BAND_9': -0.1, 'GRID_CELL_SIZE_PANCHROMATIC': 15, 'RADIANCE_ADD_BAND_4': -48.76088, 'REFLECTANCE_MULT_BAND_7': 2e-05, 'system:time_start': 1400697934827, 'RADIANCE_ADD_BAND_5': -29.83923, 'REFLECTANCE_MULT_BAND_6': 2e-05, 'RADIANCE_ADD_BAND_6': -7.42074, 'REFLECTANCE_MULT_BAND_9': 2e-05, 'PROCESSING_SOFTWARE_VERSION': 'LPGS_15.3.1c', 'RADIANCE_ADD_BAND_7': -2.50119, 'REFLECTANCE_MULT_BAND_8': 2e-05, 'RADIANCE_ADD_BAND_1': -61.27954, 'RADIANCE_ADD_BAND_2': -62.75099, 'RADIANCE_ADD_BAND_3': -57.8245, 'REFLECTANCE_MULT_BAND_1': 2e-05, 'RADIANCE_ADD_BAND_8': -55.1839, 'REFLECTANCE_MULT_BAND_3': 2e-05, 'RADIANCE_ADD_BAND_9': -11.66185, 'REFLECTANCE_MULT_BAND_2': 2e-05, 'REFLECTANCE_MULT_BAND_5': 2e-05, 'REFLECTANCE_MULT_BAND_4': 2e-05, 'THERMAL_LINES': 7801, 'TIRS_SSM_POSITION_STATUS': 'NOMINAL', 'GRID_CELL_SIZE_THERMAL': 30, 'NADIR_OFFNADIR': 'NADIR', 'RADIANCE_ADD_BAND_11': 0.1, 'REQUEST_ID': 'L2', 'EARTH_SUN_DISTANCE': 1.0121589, 'TIRS_SSM_MODEL': 'ACTUAL', 'SCENE_CENTER_TIME': '18:45:34.8277940Z', 'SUN_ELEVATION': 65.65296443, 'RADIANCE_ADD_BAND_10': 0.1, 'ROLL_ANGLE': -0.001, 'DATE_PRODUCT_GENERATED': 1599842942000, 'K1_CONSTANT_BAND_10': 774.8853, 'SATURATION_BAND_1': 'Y', 'SATURATION_BAND_2': 'Y', 'SATURATION_BAND_3': 'Y', 'SATURATION_BAND_4': 'Y', 'SATURATION_BAND_5': 'Y', 'MAP_PROJECTION': 'UTM', 'SATURATION_BAND_6': 'Y', 'SENSOR_ID': 'OLI_TIRS', 'SATURATION_BAND_7': 'Y', 'K1_CONSTANT_BAND_11': 480.8883, 'SATURATION_BAND_8': 'N', 'SATURATION_BAND_9': 'N', 'TARGET_WRS_PATH': 44, 'PROCESSING_LEVEL': 'L1TP', 'RADIANCE_MULT_BAND_11': 0.0003342, 'RADIANCE_MULT_BAND_10': 0.0003342, 'GROUND_CONTROL_POINTS_MODEL': 840, 'SPACECRAFT_ID': 'LANDSAT_8', 'THERMAL_SAMPLES': 7671, 'GROUND_CONTROL_POINTS_VERIFY': 260}}, {'type': 'Image', 'bands': [{'id': 'B1', 'data_type': {'type': 'PixelType', 'precision': 'float'}, 'dimensions': [7671, 7801], 'crs': 'EPSG:32610', 'crs_transform': [30, 0, 463785, 0, -30, 4264515]}, {'id': 'B2', 'data_type': {'type': 'PixelType', 'precision': 'float'}, 'dimensions': [7671, 7801], 'crs': 'EPSG:32610', 'crs_transform': [30, 0, 463785, 0, -30, 4264515]}, {'id': 'B3', 'data_type': {'type': 'PixelType', 'precision': 'float'}, 'dimensions': [7671, 7801], 'crs': 'EPSG:32610', 'crs_transform': [30, 0, 463785, 0, -30, 4264515]}, {'id': 'B4', 'data_type': {'type': 'PixelType', 'precision': 'float'}, 'dimensions': [7671, 7801], 'crs': 'EPSG:32610', 'crs_transform': [30, 0, 463785, 0, -30, 4264515]}, {'id': 'B5', 'data_type': {'type': 'PixelType', 'precision': 'float'}, 'dimensions': [7671, 7801], 'crs': 'EPSG:32610', 'crs_transform': [30, 0, 463785, 0, -30, 4264515]}, {'id': 'B6', 'data_type': {'type': 'PixelType', 'precision': 'float'}, 'dimensions': [7671, 7801], 'crs': 'EPSG:32610', 'crs_transform': [30, 0, 463785, 0, -30, 4264515]}, {'id': 'B7', 'data_type': {'type': 'PixelType', 'precision': 'float'}, 'dimensions': [7671, 7801], 'crs': 'EPSG:32610', 'crs_transform': [30, 0, 463785, 0, -30, 4264515]}, {'id': 'B8', 'data_type': {'type': 'PixelType', 'precision': 'float'}, 'dimensions': [15341, 15601], 'crs': 'EPSG:32610', 'crs_transform': [15, 0, 463792.5, 0, -15, 4264507.5]}, {'id': 'B9', 'data_type': {'type': 'PixelType', 'precision': 'float'}, 'dimensions': [7671, 7801], 'crs': 'EPSG:32610', 'crs_transform': [30, 0, 463785, 0, -30, 4264515]}, {'id': 'B10', 'data_type': {'type': 'PixelType', 'precision': 'float'}, 'dimensions': [7671, 7801], 'crs': 'EPSG:32610', 'crs_transform': [30, 0, 463785, 0, -30, 4264515]}, {'id': 'B11', 'data_type': {'type': 'PixelType', 'precision': 'float'}, 'dimensions': [7671, 7801], 'crs': 'EPSG:32610', 'crs_transform': [30, 0, 463785, 0, -30, 4264515]}, {'id': 'QA_PIXEL', 'data_type': {'type': 'PixelType', 'precision': 'int', 'min': 0, 'max': 65535}, 'dimensions': [7671, 7801], 'crs': 'EPSG:32610', 'crs_transform': [30, 0, 463785, 0, -30, 4264515]}, {'id': 'QA_RADSAT', 'data_type': {'type': 'PixelType', 'precision': 'int', 'min': 0, 'max': 65535}, 'dimensions': [7671, 7801], 'crs': 'EPSG:32610', 'crs_transform': [30, 0, 463785, 0, -30, 4264515]}, {'id': 'SAA', 'data_type': {'type': 'PixelType', 'precision': 'int', 'min': -32768, 'max': 32767}, 'dimensions': [7671, 7801], 'crs': 'EPSG:32610', 'crs_transform': [30, 0, 463785, 0, -30, 4264515]}, {'id': 'SZA', 'data_type': {'type': 'PixelType', 'precision': 'int', 'min': -32768, 'max': 32767}, 'dimensions': [7671, 7801], 'crs': 'EPSG:32610', 'crs_transform': [30, 0, 463785, 0, -30, 4264515]}, {'id': 'VAA', 'data_type': {'type': 'PixelType', 'precision': 'int', 'min': -32768, 'max': 32767}, 'dimensions': [7671, 7801], 'crs': 'EPSG:32610', 'crs_transform': [30, 0, 463785, 0, -30, 4264515]}, {'id': 'VZA', 'data_type': {'type': 'PixelType', 'precision': 'int', 'min': -32768, 'max': 32767}, 'dimensions': [7671, 7801], 'crs': 'EPSG:32610', 'crs_transform': [30, 0, 463785, 0, -30, 4264515]}], 'version': 1759529750879074, 'id': 'LANDSAT/LC08/C02/T1_TOA/LC08_044034_20140606', 'properties': {'RADIANCE_MULT_BAND_5': 0.0059372, 'RADIANCE_MULT_BAND_6': 0.0014765, 'RADIANCE_MULT_BAND_3': 0.011506, 'RADIANCE_MULT_BAND_4': 0.0097021, 'RADIANCE_MULT_BAND_1': 0.012193, 'RADIANCE_MULT_BAND_2': 0.012486, 'WRS_TYPE': 2, 'K2_CONSTANT_BAND_11': 1201.1442, 'K2_CONSTANT_BAND_10': 1321.0789, 'system:footprint': {'type': 'LinearRing', 'coordinates': [[-122.78300156151039, 38.503752373966016], [-122.90167461541697, 38.52500052712473], [-122.91365206688022, 38.52710134867707], [-122.91426438669271, 38.5261415819739], [-122.91893268639839, 38.51071846010432], [-123.4020793024268, 36.814642400439794], [-123.40418224680738, 36.806878977535476], [-123.37066923392604, 36.800737789316486], [-122.1940512384271, 36.57917638327135], [-121.36953681858705, 36.416222144312485], [-121.32989996443516, 36.40824948010829], [-121.32398619160124, 36.427436424219316], [-121.2007824846324, 36.826797890349795], [-121.07343247411835, 37.23481745239495], [-120.95989210866043, 37.59577730800866], [-120.90653552380138, 37.76449336056371], [-120.86664627570455, 37.89030070110122], [-120.83846461182053, 37.97899943724115], [-120.82490665683119, 38.02173353670074], [-120.79205185115573, 38.125527846682], [-120.7919965366599, 38.12736430351515], [-122.78300156151039, 38.503752373966016]]}, 'REFLECTIVE_SAMPLES': 7671, 'SUN_AZIMUTH': 124.43635686, 'DATA_SOURCE_TIRS_STRAY_LIGHT_CORRECTION': 'TIRS', 'DATE_ACQUIRED': '2014-06-06', 'ELLIPSOID': 'WGS84', 'STATION_ID': 'LGN', 'RESAMPLING_OPTION': 'CUBIC_CONVOLUTION', 'ORIENTATION': 'NORTH_UP', 'WRS_ROW': 34, 'RADIANCE_MULT_BAND_9': 0.0023204, 'TARGET_WRS_ROW': 34, 'RADIANCE_MULT_BAND_7': 0.00049767, 'RADIANCE_MULT_BAND_8': 0.01098, 'IMAGE_QUALITY_TIRS': 9, 'TRUNCATION_OLI': 'UPPER', 'CLOUD_COVER': 35.71, 'GEOMETRIC_RMSE_VERIFY': 1.596, 'COLLECTION_CATEGORY': 'T1', 'GRID_CELL_SIZE_REFLECTIVE': 30, 'CLOUD_COVER_LAND': 3.94, 'GEOMETRIC_RMSE_MODEL': 3.562, 'COLLECTION_NUMBER': 2, 'IMAGE_QUALITY_OLI': 9, 'LANDSAT_SCENE_ID': 'LC80440342014157LGN01', 'WRS_PATH': 44, 'PANCHROMATIC_SAMPLES': 15341, 'PANCHROMATIC_LINES': 15601, 'GEOMETRIC_RMSE_MODEL_Y': 2.543, 'REFLECTIVE_LINES': 7801, 'GEOMETRIC_RMSE_MODEL_X': 2.494, 'system:asset_size': 1278299634, 'system:index': 'LC08_044034_20140606', 'DATA_SOURCE_ELEVATION': 'GLS2000', 'REFLECTANCE_ADD_BAND_1': -0.1, 'REFLECTANCE_ADD_BAND_2': -0.1, 'DATUM': 'WGS84', 'REFLECTANCE_ADD_BAND_3': -0.1, 'REFLECTANCE_ADD_BAND_4': -0.1, 'REFLECTANCE_ADD_BAND_5': -0.1, 'REFLECTANCE_ADD_BAND_6': -0.1, 'REFLECTANCE_ADD_BAND_7': -0.1, 'REFLECTANCE_ADD_BAND_8': -0.1, 'GROUND_CONTROL_POINTS_VERSION': 5, 'UTM_ZONE': 10, 'system:time_end': 1402080344243, 'LANDSAT_PRODUCT_ID': 'LC08_L1TP_044034_20140606_20200911_02_T1', 'REFLECTANCE_ADD_BAND_9': -0.1, 'GRID_CELL_SIZE_PANCHROMATIC': 15, 'RADIANCE_ADD_BAND_4': -48.51054, 'REFLECTANCE_MULT_BAND_7': 2e-05, 'system:time_start': 1402080344243, 'RADIANCE_ADD_BAND_5': -29.68603, 'REFLECTANCE_MULT_BAND_6': 2e-05, 'RADIANCE_ADD_BAND_6': -7.38265, 'REFLECTANCE_MULT_BAND_9': 2e-05, 'PROCESSING_SOFTWARE_VERSION': 'LPGS_15.3.1c', 'RADIANCE_ADD_BAND_7': -2.48835, 'REFLECTANCE_MULT_BAND_8': 2e-05, 'RADIANCE_ADD_BAND_1': -60.96493, 'RADIANCE_ADD_BAND_2': -62.42883, 'RADIANCE_ADD_BAND_3': -57.52763, 'REFLECTANCE_MULT_BAND_1': 2e-05, 'RADIANCE_ADD_BAND_8': -54.90058, 'REFLECTANCE_MULT_BAND_3': 2e-05, 'RADIANCE_ADD_BAND_9': -11.60197, 'REFLECTANCE_MULT_BAND_2': 2e-05, 'REFLECTANCE_MULT_BAND_5': 2e-05, 'REFLECTANCE_MULT_BAND_4': 2e-05, 'THERMAL_LINES': 7801, 'TIRS_SSM_POSITION_STATUS': 'NOMINAL', 'GRID_CELL_SIZE_THERMAL': 30, 'NADIR_OFFNADIR': 'NADIR', 'RADIANCE_ADD_BAND_11': 0.1, 'REQUEST_ID': 'L2', 'EARTH_SUN_DISTANCE': 1.0147671, 'TIRS_SSM_MODEL': 'ACTUAL', 'SCENE_CENTER_TIME': '18:45:44.2439160Z', 'SUN_ELEVATION': 67.10252727, 'RADIANCE_ADD_BAND_10': 0.1, 'ROLL_ANGLE': -0.001, 'DATE_PRODUCT_GENERATED': 1599835788000, 'K1_CONSTANT_BAND_10': 774.8853, 'SATURATION_BAND_1': 'Y', 'SATURATION_BAND_2': 'Y', 'SATURATION_BAND_3': 'Y', 'SATURATION_BAND_4': 'Y', 'SATURATION_BAND_5': 'Y', 'MAP_PROJECTION': 'UTM', 'SATURATION_BAND_6': 'Y', 'SENSOR_ID': 'OLI_TIRS', 'SATURATION_BAND_7': 'Y', 'K1_CONSTANT_BAND_11': 480.8883, 'SATURATION_BAND_8': 'N', 'SATURATION_BAND_9': 'N', 'TARGET_WRS_PATH': 44, 'PROCESSING_LEVEL': 'L1TP', 'RADIANCE_MULT_BAND_11': 0.0003342, 'RADIANCE_MULT_BAND_10': 0.0003342, 'GROUND_CONTROL_POINTS_MODEL': 1117, 'SPACECRAFT_ID': 'LANDSAT_8', 'THERMAL_SAMPLES': 7671, 'GROUND_CONTROL_POINTS_VERIFY': 313}}, {'type': 'Image', 'bands': [{'id': 'B1', 'data_type': {'type': 'PixelType', 'precision': 'float'}, 'dimensions': [7671, 7801], 'crs': 'EPSG:32610', 'crs_transform': [30, 0, 464985, 0, -30, 4264515]}, {'id': 'B2', 'data_type': {'type': 'PixelType', 'precision': 'float'}, 'dimensions': [7671, 7801], 'crs': 'EPSG:32610', 'crs_transform': [30, 0, 464985, 0, -30, 4264515]}, {'id': 'B3', 'data_type': {'type': 'PixelType', 'precision': 'float'}, 'dimensions': [7671, 7801], 'crs': 'EPSG:32610', 'crs_transform': [30, 0, 464985, 0, -30, 4264515]}, {'id': 'B4', 'data_type': {'type': 'PixelType', 'precision': 'float'}, 'dimensions': [7671, 7801], 'crs': 'EPSG:32610', 'crs_transform': [30, 0, 464985, 0, -30, 4264515]}, {'id': 'B5', 'data_type': {'type': 'PixelType', 'precision': 'float'}, 'dimensions': [7671, 7801], 'crs': 'EPSG:32610', 'crs_transform': [30, 0, 464985, 0, -30, 4264515]}, {'id': 'B6', 'data_type': {'type': 'PixelType', 'precision': 'float'}, 'dimensions': [7671, 7801], 'crs': 'EPSG:32610', 'crs_transform': [30, 0, 464985, 0, -30, 4264515]}, {'id': 'B7', 'data_type': {'type': 'PixelType', 'precision': 'float'}, 'dimensions': [7671, 7801], 'crs': 'EPSG:32610', 'crs_transform': [30, 0, 464985, 0, -30, 4264515]}, {'id': 'B8', 'data_type': {'type': 'PixelType', 'precision': 'float'}, 'dimensions': [15341, 15601], 'crs': 'EPSG:32610', 'crs_transform': [15, 0, 464992.5, 0, -15, 4264507.5]}, {'id': 'B9', 'data_type': {'type': 'PixelType', 'precision': 'float'}, 'dimensions': [7671, 7801], 'crs': 'EPSG:32610', 'crs_transform': [30, 0, 464985, 0, -30, 4264515]}, {'id': 'B10', 'data_type': {'type': 'PixelType', 'precision': 'float'}, 'dimensions': [7671, 7801], 'crs': 'EPSG:32610', 'crs_transform': [30, 0, 464985, 0, -30, 4264515]}, {'id': 'B11', 'data_type': {'type': 'PixelType', 'precision': 'float'}, 'dimensions': [7671, 7801], 'crs': 'EPSG:32610', 'crs_transform': [30, 0, 464985, 0, -30, 4264515]}, {'id': 'QA_PIXEL', 'data_type': {'type': 'PixelType', 'precision': 'int', 'min': 0, 'max': 65535}, 'dimensions': [7671, 7801], 'crs': 'EPSG:32610', 'crs_transform': [30, 0, 464985, 0, -30, 4264515]}, {'id': 'QA_RADSAT', 'data_type': {'type': 'PixelType', 'precision': 'int', 'min': 0, 'max': 65535}, 'dimensions': [7671, 7801], 'crs': 'EPSG:32610', 'crs_transform': [30, 0, 464985, 0, -30, 4264515]}, {'id': 'SAA', 'data_type': {'type': 'PixelType', 'precision': 'int', 'min': -32768, 'max': 32767}, 'dimensions': [7671, 7801], 'crs': 'EPSG:32610', 'crs_transform': [30, 0, 464985, 0, -30, 4264515]}, {'id': 'SZA', 'data_type': {'type': 'PixelType', 'precision': 'int', 'min': -32768, 'max': 32767}, 'dimensions': [7671, 7801], 'crs': 'EPSG:32610', 'crs_transform': [30, 0, 464985, 0, -30, 4264515]}, {'id': 'VAA', 'data_type': {'type': 'PixelType', 'precision': 'int', 'min': -32768, 'max': 32767}, 'dimensions': [7671, 7801], 'crs': 'EPSG:32610', 'crs_transform': [30, 0, 464985, 0, -30, 4264515]}, {'id': 'VZA', 'data_type': {'type': 'PixelType', 'precision': 'int', 'min': -32768, 'max': 32767}, 'dimensions': [7671, 7801], 'crs': 'EPSG:32610', 'crs_transform': [30, 0, 464985, 0, -30, 4264515]}], 'version': 1759529750879074, 'id': 'LANDSAT/LC08/C02/T1_TOA/LC08_044034_20140622', 'properties': {'RADIANCE_MULT_BAND_5': 0.005919, 'RADIANCE_MULT_BAND_6': 0.001472, 'RADIANCE_MULT_BAND_3': 0.01147, 'RADIANCE_MULT_BAND_4': 0.0096724, 'RADIANCE_MULT_BAND_1': 0.012156, 'RADIANCE_MULT_BAND_2': 0.012448, 'WRS_TYPE': 2, 'K2_CONSTANT_BAND_11': 1201.1442, 'K2_CONSTANT_BAND_10': 1321.0789, 'system:footprint': {'type': 'LinearRing', 'coordinates': [[-120.78009186171994, 38.11943282674432], [-120.77765785328879, 38.12720215133186], [-120.78461888685685, 38.128610391018896], [-121.22550124007199, 38.2151671260147], [-122.74190379995028, 38.4988024980359], [-122.8970296831698, 38.526592293439116], [-122.89991233088656, 38.527047790515475], [-122.90049798492733, 38.526130149981654], [-123.39027740104936, 36.8068743895146], [-123.38409196468407, 36.8056522690365], [-123.22239684028939, 36.77600958518866], [-121.39517094097712, 36.42412689688194], [-121.31788298539182, 36.408586408656575], [-121.3158939568896, 36.408558344449894], [-121.09359895876302, 37.12607372760963], [-121.07375712363523, 37.18942841805301], [-120.93940902043292, 37.61664715768741], [-120.88901211807371, 37.77594093245204], [-120.84400945504014, 37.91786873299769], [-120.81917410094269, 37.99608024998476], [-120.78009186171994, 38.11943282674432]]}, 'REFLECTIVE_SAMPLES': 7671, 'SUN_AZIMUTH': 121.76665948, 'DATA_SOURCE_TIRS_STRAY_LIGHT_CORRECTION': 'TIRS', 'DATE_ACQUIRED': '2014-06-22', 'ELLIPSOID': 'WGS84', 'STATION_ID': 'LGN', 'RESAMPLING_OPTION': 'CUBIC_CONVOLUTION', 'ORIENTATION': 'NORTH_UP', 'WRS_ROW': 34, 'RADIANCE_MULT_BAND_9': 0.0023133, 'TARGET_WRS_ROW': 34, 'RADIANCE_MULT_BAND_7': 0.00049615, 'RADIANCE_MULT_BAND_8': 0.010947, 'IMAGE_QUALITY_TIRS': 9, 'TRUNCATION_OLI': 'UPPER', 'CLOUD_COVER': 33.05, 'GEOMETRIC_RMSE_VERIFY': 1.454, 'COLLECTION_CATEGORY': 'T1', 'GRID_CELL_SIZE_REFLECTIVE': 30, 'CLOUD_COVER_LAND': 3.4, 'GEOMETRIC_RMSE_MODEL': 3.569, 'COLLECTION_NUMBER': 2, 'IMAGE_QUALITY_OLI': 9, 'LANDSAT_SCENE_ID': 'LC80440342014173LGN01', 'WRS_PATH': 44, 'PANCHROMATIC_SAMPLES': 15341, 'PANCHROMATIC_LINES': 15601, 'GEOMETRIC_RMSE_MODEL_Y': 2.67, 'REFLECTIVE_LINES': 7801, 'GEOMETRIC_RMSE_MODEL_X': 2.368, 'system:asset_size': 1283508186, 'system:index': 'LC08_044034_20140622', 'DATA_SOURCE_ELEVATION': 'GLS2000', 'REFLECTANCE_ADD_BAND_1': -0.1, 'REFLECTANCE_ADD_BAND_2': -0.1, 'DATUM': 'WGS84', 'REFLECTANCE_ADD_BAND_3': -0.1, 'REFLECTANCE_ADD_BAND_4': -0.1, 'REFLECTANCE_ADD_BAND_5': -0.1, 'REFLECTANCE_ADD_BAND_6': -0.1, 'REFLECTANCE_ADD_BAND_7': -0.1, 'REFLECTANCE_ADD_BAND_8': -0.1, 'GROUND_CONTROL_POINTS_VERSION': 5, 'UTM_ZONE': 10, 'system:time_end': 1403462747538, 'LANDSAT_PRODUCT_ID': 'LC08_L1TP_044034_20140622_20200911_02_T1', 'REFLECTANCE_ADD_BAND_9': -0.1, 'GRID_CELL_SIZE_PANCHROMATIC': 15, 'RADIANCE_ADD_BAND_4': -48.36209, 'REFLECTANCE_MULT_BAND_7': 2e-05, 'system:time_start': 1403462747538, 'RADIANCE_ADD_BAND_5': -29.59519, 'REFLECTANCE_MULT_BAND_6': 2e-05, 'RADIANCE_ADD_BAND_6': -7.36005, 'REFLECTANCE_MULT_BAND_9': 2e-05, 'PROCESSING_SOFTWARE_VERSION': 'LPGS_15.3.1c', 'RADIANCE_ADD_BAND_7': -2.48073, 'REFLECTANCE_MULT_BAND_8': 2e-05, 'RADIANCE_ADD_BAND_1': -60.77836, 'RADIANCE_ADD_BAND_2': -62.23778, 'RADIANCE_ADD_BAND_3': -57.35158, 'REFLECTANCE_MULT_BAND_1': 2e-05, 'RADIANCE_ADD_BAND_8': -54.73257, 'REFLECTANCE_MULT_BAND_3': 2e-05, 'RADIANCE_ADD_BAND_9': -11.56647, 'REFLECTANCE_MULT_BAND_2': 2e-05, 'REFLECTANCE_MULT_BAND_5': 2e-05, 'REFLECTANCE_MULT_BAND_4': 2e-05, 'THERMAL_LINES': 7801, 'TIRS_SSM_POSITION_STATUS': 'NOMINAL', 'GRID_CELL_SIZE_THERMAL': 30, 'NADIR_OFFNADIR': 'NADIR', 'RADIANCE_ADD_BAND_11': 0.1, 'REQUEST_ID': 'L2', 'EARTH_SUN_DISTANCE': 1.0163234, 'TIRS_SSM_MODEL': 'ACTUAL', 'SCENE_CENTER_TIME': '18:45:47.5389440Z', 'SUN_ELEVATION': 67.07411138, 'RADIANCE_ADD_BAND_10': 0.1, 'ROLL_ANGLE': 0, 'DATE_PRODUCT_GENERATED': 1599826941000, 'K1_CONSTANT_BAND_10': 774.8853, 'SATURATION_BAND_1': 'N', 'SATURATION_BAND_2': 'Y', 'SATURATION_BAND_3': 'Y', 'SATURATION_BAND_4': 'Y', 'SATURATION_BAND_5': 'Y', 'MAP_PROJECTION': 'UTM', 'SATURATION_BAND_6': 'Y', 'SENSOR_ID': 'OLI_TIRS', 'SATURATION_BAND_7': 'Y', 'K1_CONSTANT_BAND_11': 480.8883, 'SATURATION_BAND_8': 'N', 'SATURATION_BAND_9': 'N', 'TARGET_WRS_PATH': 44, 'PROCESSING_LEVEL': 'L1TP', 'RADIANCE_MULT_BAND_11': 0.0003342, 'RADIANCE_MULT_BAND_10': 0.0003342, 'GROUND_CONTROL_POINTS_MODEL': 1141, 'SPACECRAFT_ID': 'LANDSAT_8', 'THERMAL_SAMPLES': 7671, 'GROUND_CONTROL_POINTS_VERIFY': 276}}, {'type': 'Image', 'bands': [{'id': 'B1', 'data_type': {'type': 'PixelType', 'precision': 'float'}, 'dimensions': [7671, 7801], 'crs': 'EPSG:32610', 'crs_transform': [30, 0, 464385, 0, -30, 4264515]}, {'id': 'B2', 'data_type': {'type': 'PixelType', 'precision': 'float'}, 'dimensions': [7671, 7801], 'crs': 'EPSG:32610', 'crs_transform': [30, 0, 464385, 0, -30, 4264515]}, {'id': 'B3', 'data_type': {'type': 'PixelType', 'precision': 'float'}, 'dimensions': [7671, 7801], 'crs': 'EPSG:32610', 'crs_transform': [30, 0, 464385, 0, -30, 4264515]}, {'id': 'B4', 'data_type': {'type': 'PixelType', 'precision': 'float'}, 'dimensions': [7671, 7801], 'crs': 'EPSG:32610', 'crs_transform': [30, 0, 464385, 0, -30, 4264515]}, {'id': 'B5', 'data_type': {'type': 'PixelType', 'precision': 'float'}, 'dimensions': [7671, 7801], 'crs': 'EPSG:32610', 'crs_transform': [30, 0, 464385, 0, -30, 4264515]}, {'id': 'B6', 'data_type': {'type': 'PixelType', 'precision': 'float'}, 'dimensions': [7671, 7801], 'crs': 'EPSG:32610', 'crs_transform': [30, 0, 464385, 0, -30, 4264515]}, {'id': 'B7', 'data_type': {'type': 'PixelType', 'precision': 'float'}, 'dimensions': [7671, 7801], 'crs': 'EPSG:32610', 'crs_transform': [30, 0, 464385, 0, -30, 4264515]}, {'id': 'B8', 'data_type': {'type': 'PixelType', 'precision': 'float'}, 'dimensions': [15341, 15601], 'crs': 'EPSG:32610', 'crs_transform': [15, 0, 464392.5, 0, -15, 4264507.5]}, {'id': 'B9', 'data_type': {'type': 'PixelType', 'precision': 'float'}, 'dimensions': [7671, 7801], 'crs': 'EPSG:32610', 'crs_transform': [30, 0, 464385, 0, -30, 4264515]}, {'id': 'B10', 'data_type': {'type': 'PixelType', 'precision': 'float'}, 'dimensions': [7671, 7801], 'crs': 'EPSG:32610', 'crs_transform': [30, 0, 464385, 0, -30, 4264515]}, {'id': 'B11', 'data_type': {'type': 'PixelType', 'precision': 'float'}, 'dimensions': [7671, 7801], 'crs': 'EPSG:32610', 'crs_transform': [30, 0, 464385, 0, -30, 4264515]}, {'id': 'QA_PIXEL', 'data_type': {'type': 'PixelType', 'precision': 'int', 'min': 0, 'max': 65535}, 'dimensions': [7671, 7801], 'crs': 'EPSG:32610', 'crs_transform': [30, 0, 464385, 0, -30, 4264515]}, {'id': 'QA_RADSAT', 'data_type': {'type': 'PixelType', 'precision': 'int', 'min': 0, 'max': 65535}, 'dimensions': [7671, 7801], 'crs': 'EPSG:32610', 'crs_transform': [30, 0, 464385, 0, -30, 4264515]}, {'id': 'SAA', 'data_type': {'type': 'PixelType', 'precision': 'int', 'min': -32768, 'max': 32767}, 'dimensions': [7671, 7801], 'crs': 'EPSG:32610', 'crs_transform': [30, 0, 464385, 0, -30, 4264515]}, {'id': 'SZA', 'data_type': {'type': 'PixelType', 'precision': 'int', 'min': -32768, 'max': 32767}, 'dimensions': [7671, 7801], 'crs': 'EPSG:32610', 'crs_transform': [30, 0, 464385, 0, -30, 4264515]}, {'id': 'VAA', 'data_type': {'type': 'PixelType', 'precision': 'int', 'min': -32768, 'max': 32767}, 'dimensions': [7671, 7801], 'crs': 'EPSG:32610', 'crs_transform': [30, 0, 464385, 0, -30, 4264515]}, {'id': 'VZA', 'data_type': {'type': 'PixelType', 'precision': 'int', 'min': -32768, 'max': 32767}, 'dimensions': [7671, 7801], 'crs': 'EPSG:32610', 'crs_transform': [30, 0, 464385, 0, -30, 4264515]}], 'version': 1759529750879074, 'id': 'LANDSAT/LC08/C02/T1_TOA/LC08_044034_20140708', 'properties': {'RADIANCE_MULT_BAND_5': 0.0059155, 'RADIANCE_MULT_BAND_6': 0.0014711, 'RADIANCE_MULT_BAND_3': 0.011463, 'RADIANCE_MULT_BAND_4': 0.0096666, 'RADIANCE_MULT_BAND_1': 0.012148, 'RADIANCE_MULT_BAND_2': 0.01244, 'WRS_TYPE': 2, 'K2_CONSTANT_BAND_11': 1201.1442, 'K2_CONSTANT_BAND_10': 1321.0789, 'system:footprint': {'type': 'LinearRing', 'coordinates': [[-120.78580825774026, 38.12744524264081], [-120.80446946124194, 38.131165856305344], [-121.62055837868608, 38.289822019186964], [-122.41847457970499, 38.43883940805795], [-122.90757631028951, 38.52720926852233], [-122.91360364873563, 38.507064587168635], [-123.3973430378894, 36.808559029435294], [-123.39733388107923, 36.8067869654013], [-121.3721744287246, 36.41809914370288], [-121.32540815303872, 36.40869214276654], [-121.3230557501053, 36.408659151559206], [-121.3189146240595, 36.42209180987009], [-121.19760239694776, 36.81539279774271], [-121.07496221986538, 37.20850994199495], [-120.94170192902085, 37.63209763654429], [-120.92436719569957, 37.686946786420954], [-120.90139709126275, 37.75953563819792], [-120.86037395216651, 37.88897021802965], [-120.82248360867091, 38.00826265197625], [-120.78495351089452, 38.12673703076336], [-120.78580825774026, 38.12744524264081]]}, 'REFLECTIVE_SAMPLES': 7671, 'SUN_AZIMUTH': 122.44836505, 'DATA_SOURCE_TIRS_STRAY_LIGHT_CORRECTION': 'TIRS', 'DATE_ACQUIRED': '2014-07-08', 'ELLIPSOID': 'WGS84', 'STATION_ID': 'LGN', 'RESAMPLING_OPTION': 'CUBIC_CONVOLUTION', 'ORIENTATION': 'NORTH_UP', 'WRS_ROW': 34, 'RADIANCE_MULT_BAND_9': 0.0023119, 'TARGET_WRS_ROW': 34, 'RADIANCE_MULT_BAND_7': 0.00049585, 'RADIANCE_MULT_BAND_8': 0.01094, 'IMAGE_QUALITY_TIRS': 9, 'TRUNCATION_OLI': 'UPPER', 'CLOUD_COVER': 39.98, 'GEOMETRIC_RMSE_VERIFY': 1.845, 'COLLECTION_CATEGORY': 'T1', 'GRID_CELL_SIZE_REFLECTIVE': 30, 'CLOUD_COVER_LAND': 12.07, 'GEOMETRIC_RMSE_MODEL': 3.471, 'COLLECTION_NUMBER': 2, 'IMAGE_QUALITY_OLI': 9, 'LANDSAT_SCENE_ID': 'LC80440342014189LGN01', 'WRS_PATH': 44, 'PANCHROMATIC_SAMPLES': 15341, 'PANCHROMATIC_LINES': 15601, 'GEOMETRIC_RMSE_MODEL_Y': 2.698, 'REFLECTIVE_LINES': 7801, 'GEOMETRIC_RMSE_MODEL_X': 2.184, 'system:asset_size': 1317214284, 'system:index': 'LC08_044034_20140708', 'DATA_SOURCE_ELEVATION': 'GLS2000', 'REFLECTANCE_ADD_BAND_1': -0.1, 'REFLECTANCE_ADD_BAND_2': -0.1, 'DATUM': 'WGS84', 'REFLECTANCE_ADD_BAND_3': -0.1, 'REFLECTANCE_ADD_BAND_4': -0.1, 'REFLECTANCE_ADD_BAND_5': -0.1, 'REFLECTANCE_ADD_BAND_6': -0.1, 'REFLECTANCE_ADD_BAND_7': -0.1, 'REFLECTANCE_ADD_BAND_8': -0.1, 'GROUND_CONTROL_POINTS_VERSION': 5, 'UTM_ZONE': 10, 'system:time_end': 1404845155333, 'LANDSAT_PRODUCT_ID': 'LC08_L1TP_044034_20140708_20200911_02_T1', 'REFLECTANCE_ADD_BAND_9': -0.1, 'GRID_CELL_SIZE_PANCHROMATIC': 15, 'RADIANCE_ADD_BAND_4': -48.33315, 'REFLECTANCE_MULT_BAND_7': 2e-05, 'system:time_start': 1404845155333, 'RADIANCE_ADD_BAND_5': -29.57748, 'REFLECTANCE_MULT_BAND_6': 2e-05, 'RADIANCE_ADD_BAND_6': -7.35565, 'REFLECTANCE_MULT_BAND_9': 2e-05, 'PROCESSING_SOFTWARE_VERSION': 'LPGS_15.3.1c', 'RADIANCE_ADD_BAND_7': -2.47925, 'REFLECTANCE_MULT_BAND_8': 2e-05, 'RADIANCE_ADD_BAND_1': -60.74199, 'RADIANCE_ADD_BAND_2': -62.20054, 'RADIANCE_ADD_BAND_3': -57.31727, 'REFLECTANCE_MULT_BAND_1': 2e-05, 'RADIANCE_ADD_BAND_8': -54.69982, 'REFLECTANCE_MULT_BAND_3': 2e-05, 'RADIANCE_ADD_BAND_9': -11.55955, 'REFLECTANCE_MULT_BAND_2': 2e-05, 'REFLECTANCE_MULT_BAND_5': 2e-05, 'REFLECTANCE_MULT_BAND_4': 2e-05, 'THERMAL_LINES': 7801, 'TIRS_SSM_POSITION_STATUS': 'NOMINAL', 'GRID_CELL_SIZE_THERMAL': 30, 'NADIR_OFFNADIR': 'NADIR', 'RADIANCE_ADD_BAND_11': 0.1, 'REQUEST_ID': 'L2', 'EARTH_SUN_DISTANCE': 1.0166276, 'TIRS_SSM_MODEL': 'ACTUAL', 'SCENE_CENTER_TIME': '18:45:55.3336140Z', 'SUN_ELEVATION': 65.87778108, 'RADIANCE_ADD_BAND_10': 0.1, 'ROLL_ANGLE': 0, 'DATE_PRODUCT_GENERATED': 1599818257000, 'K1_CONSTANT_BAND_10': 774.8853, 'SATURATION_BAND_1': 'N', 'SATURATION_BAND_2': 'Y', 'SATURATION_BAND_3': 'Y', 'SATURATION_BAND_4': 'Y', 'SATURATION_BAND_5': 'Y', 'MAP_PROJECTION': 'UTM', 'SATURATION_BAND_6': 'Y', 'SENSOR_ID': 'OLI_TIRS', 'SATURATION_BAND_7': 'Y', 'K1_CONSTANT_BAND_11': 480.8883, 'SATURATION_BAND_8': 'N', 'SATURATION_BAND_9': 'N', 'TARGET_WRS_PATH': 44, 'PROCESSING_LEVEL': 'L1TP', 'RADIANCE_MULT_BAND_11': 0.0003342, 'RADIANCE_MULT_BAND_10': 0.0003342, 'GROUND_CONTROL_POINTS_MODEL': 1021, 'SPACECRAFT_ID': 'LANDSAT_8', 'THERMAL_SAMPLES': 7671, 'GROUND_CONTROL_POINTS_VERIFY': 322}}, {'type': 'Image', 'bands': [{'id': 'B1', 'data_type': {'type': 'PixelType', 'precision': 'float'}, 'dimensions': [7671, 7801], 'crs': 'EPSG:32610', 'crs_transform': [30, 0, 465585, 0, -30, 4264515]}, {'id': 'B2', 'data_type': {'type': 'PixelType', 'precision': 'float'}, 'dimensions': [7671, 7801], 'crs': 'EPSG:32610', 'crs_transform': [30, 0, 465585, 0, -30, 4264515]}, {'id': 'B3', 'data_type': {'type': 'PixelType', 'precision': 'float'}, 'dimensions': [7671, 7801], 'crs': 'EPSG:32610', 'crs_transform': [30, 0, 465585, 0, -30, 4264515]}, {'id': 'B4', 'data_type': {'type': 'PixelType', 'precision': 'float'}, 'dimensions': [7671, 7801], 'crs': 'EPSG:32610', 'crs_transform': [30, 0, 465585, 0, -30, 4264515]}, {'id': 'B5', 'data_type': {'type': 'PixelType', 'precision': 'float'}, 'dimensions': [7671, 7801], 'crs': 'EPSG:32610', 'crs_transform': [30, 0, 465585, 0, -30, 4264515]}, {'id': 'B6', 'data_type': {'type': 'PixelType', 'precision': 'float'}, 'dimensions': [7671, 7801], 'crs': 'EPSG:32610', 'crs_transform': [30, 0, 465585, 0, -30, 4264515]}, {'id': 'B7', 'data_type': {'type': 'PixelType', 'precision': 'float'}, 'dimensions': [7671, 7801], 'crs': 'EPSG:32610', 'crs_transform': [30, 0, 465585, 0, -30, 4264515]}, {'id': 'B8', 'data_type': {'type': 'PixelType', 'precision': 'float'}, 'dimensions': [15341, 15601], 'crs': 'EPSG:32610', 'crs_transform': [15, 0, 465592.5, 0, -15, 4264507.5]}, {'id': 'B9', 'data_type': {'type': 'PixelType', 'precision': 'float'}, 'dimensions': [7671, 7801], 'crs': 'EPSG:32610', 'crs_transform': [30, 0, 465585, 0, -30, 4264515]}, {'id': 'B10', 'data_type': {'type': 'PixelType', 'precision': 'float'}, 'dimensions': [7671, 7801], 'crs': 'EPSG:32610', 'crs_transform': [30, 0, 465585, 0, -30, 4264515]}, {'id': 'B11', 'data_type': {'type': 'PixelType', 'precision': 'float'}, 'dimensions': [7671, 7801], 'crs': 'EPSG:32610', 'crs_transform': [30, 0, 465585, 0, -30, 4264515]}, {'id': 'QA_PIXEL', 'data_type': {'type': 'PixelType', 'precision': 'int', 'min': 0, 'max': 65535}, 'dimensions': [7671, 7801], 'crs': 'EPSG:32610', 'crs_transform': [30, 0, 465585, 0, -30, 4264515]}, {'id': 'QA_RADSAT', 'data_type': {'type': 'PixelType', 'precision': 'int', 'min': 0, 'max': 65535}, 'dimensions': [7671, 7801], 'crs': 'EPSG:32610', 'crs_transform': [30, 0, 465585, 0, -30, 4264515]}, {'id': 'SAA', 'data_type': {'type': 'PixelType', 'precision': 'int', 'min': -32768, 'max': 32767}, 'dimensions': [7671, 7801], 'crs': 'EPSG:32610', 'crs_transform': [30, 0, 465585, 0, -30, 4264515]}, {'id': 'SZA', 'data_type': {'type': 'PixelType', 'precision': 'int', 'min': -32768, 'max': 32767}, 'dimensions': [7671, 7801], 'crs': 'EPSG:32610', 'crs_transform': [30, 0, 465585, 0, -30, 4264515]}, {'id': 'VAA', 'data_type': {'type': 'PixelType', 'precision': 'int', 'min': -32768, 'max': 32767}, 'dimensions': [7671, 7801], 'crs': 'EPSG:32610', 'crs_transform': [30, 0, 465585, 0, -30, 4264515]}, {'id': 'VZA', 'data_type': {'type': 'PixelType', 'precision': 'int', 'min': -32768, 'max': 32767}, 'dimensions': [7671, 7801], 'crs': 'EPSG:32610', 'crs_transform': [30, 0, 465585, 0, -30, 4264515]}], 'version': 1759529750879074, 'id': 'LANDSAT/LC08/C02/T1_TOA/LC08_044034_20140724', 'properties': {'RADIANCE_MULT_BAND_5': 0.0059251, 'RADIANCE_MULT_BAND_6': 0.0014735, 'RADIANCE_MULT_BAND_3': 0.011482, 'RADIANCE_MULT_BAND_4': 0.0096822, 'RADIANCE_MULT_BAND_1': 0.012168, 'RADIANCE_MULT_BAND_2': 0.01246, 'WRS_TYPE': 2, 'K2_CONSTANT_BAND_11': 1201.1442, 'K2_CONSTANT_BAND_10': 1321.0789, 'system:footprint': {'type': 'LinearRing', 'coordinates': [[-120.9801229947312, 37.46202690452666], [-120.92696800497177, 37.63038251670129], [-120.88569458947661, 37.760876937749465], [-120.83505835006247, 37.92054299479906], [-120.8096145750299, 38.000831589701484], [-120.77451179834434, 38.11162270442187], [-120.76963641286277, 38.127180940192275], [-122.8896606391109, 38.526615348590305], [-122.89242341654155, 38.526617857573015], [-122.89466073063308, 38.519621963160894], [-123.38247379693692, 36.80688597543484], [-123.37819929304857, 36.80604111640238], [-123.31711045563213, 36.79486098026077], [-122.48890240231398, 36.64003324560164], [-121.76377495612888, 36.49922765054041], [-121.34955127831832, 36.41658975947605], [-121.30789656751458, 36.40820339080098], [-121.0864133101535, 37.12311891618681], [-121.06532382298516, 37.190435160016754], [-120.9801229947312, 37.46202690452666]]}, 'REFLECTIVE_SAMPLES': 7671, 'SUN_AZIMUTH': 126.32495884, 'DATA_SOURCE_TIRS_STRAY_LIGHT_CORRECTION': 'TIRS', 'DATE_ACQUIRED': '2014-07-24', 'ELLIPSOID': 'WGS84', 'STATION_ID': 'LGN', 'RESAMPLING_OPTION': 'CUBIC_CONVOLUTION', 'ORIENTATION': 'NORTH_UP', 'WRS_ROW': 34, 'RADIANCE_MULT_BAND_9': 0.0023156, 'TARGET_WRS_ROW': 34, 'RADIANCE_MULT_BAND_7': 0.00049665, 'RADIANCE_MULT_BAND_8': 0.010958, 'IMAGE_QUALITY_TIRS': 9, 'TRUNCATION_OLI': 'UPPER', 'CLOUD_COVER': 0.32, 'GEOMETRIC_RMSE_VERIFY': 1.289, 'COLLECTION_CATEGORY': 'T1', 'GRID_CELL_SIZE_REFLECTIVE': 30, 'CLOUD_COVER_LAND': 0.24, 'GEOMETRIC_RMSE_MODEL': 2.966, 'COLLECTION_NUMBER': 2, 'IMAGE_QUALITY_OLI': 9, 'LANDSAT_SCENE_ID': 'LC80440342014205LGN01', 'WRS_PATH': 44, 'PANCHROMATIC_SAMPLES': 15341, 'PANCHROMATIC_LINES': 15601, 'GEOMETRIC_RMSE_MODEL_Y': 2.267, 'REFLECTIVE_LINES': 7801, 'GEOMETRIC_RMSE_MODEL_X': 1.913, 'system:asset_size': 1215143006, 'system:index': 'LC08_044034_20140724', 'DATA_SOURCE_ELEVATION': 'GLS2000', 'REFLECTANCE_ADD_BAND_1': -0.1, 'REFLECTANCE_ADD_BAND_2': -0.1, 'DATUM': 'WGS84', 'REFLECTANCE_ADD_BAND_3': -0.1, 'REFLECTANCE_ADD_BAND_4': -0.1, 'REFLECTANCE_ADD_BAND_5': -0.1, 'REFLECTANCE_ADD_BAND_6': -0.1, 'REFLECTANCE_ADD_BAND_7': -0.1, 'REFLECTANCE_ADD_BAND_8': -0.1, 'GROUND_CONTROL_POINTS_VERSION': 5, 'UTM_ZONE': 10, 'system:time_end': 1406227557219, 'LANDSAT_PRODUCT_ID': 'LC08_L1TP_044034_20140724_20200911_02_T1', 'REFLECTANCE_ADD_BAND_9': -0.1, 'GRID_CELL_SIZE_PANCHROMATIC': 15, 'RADIANCE_ADD_BAND_4': -48.41124, 'REFLECTANCE_MULT_BAND_7': 2e-05, 'system:time_start': 1406227557219, 'RADIANCE_ADD_BAND_5': -29.62526, 'REFLECTANCE_MULT_BAND_6': 2e-05, 'RADIANCE_ADD_BAND_6': -7.36753, 'REFLECTANCE_MULT_BAND_9': 2e-05, 'PROCESSING_SOFTWARE_VERSION': 'LPGS_15.3.1c', 'RADIANCE_ADD_BAND_7': -2.48325, 'REFLECTANCE_MULT_BAND_8': 2e-05, 'RADIANCE_ADD_BAND_1': -60.84013, 'RADIANCE_ADD_BAND_2': -62.30103, 'RADIANCE_ADD_BAND_3': -57.40987, 'REFLECTANCE_MULT_BAND_1': 2e-05, 'RADIANCE_ADD_BAND_8': -54.7882, 'REFLECTANCE_MULT_BAND_3': 2e-05, 'RADIANCE_ADD_BAND_9': -11.57822, 'REFLECTANCE_MULT_BAND_2': 2e-05, 'REFLECTANCE_MULT_BAND_5': 2e-05, 'REFLECTANCE_MULT_BAND_4': 2e-05, 'THERMAL_LINES': 7801, 'TIRS_SSM_POSITION_STATUS': 'NOMINAL', 'GRID_CELL_SIZE_THERMAL': 30, 'NADIR_OFFNADIR': 'NADIR', 'RADIANCE_ADD_BAND_11': 0.1, 'REQUEST_ID': 'L2', 'EARTH_SUN_DISTANCE': 1.0158074, 'TIRS_SSM_MODEL': 'ACTUAL', 'SCENE_CENTER_TIME': '18:45:57.2197370Z', 'SUN_ELEVATION': 63.77280901, 'RADIANCE_ADD_BAND_10': 0.1, 'ROLL_ANGLE': 0, 'DATE_PRODUCT_GENERATED': 1599807152000, 'K1_CONSTANT_BAND_10': 774.8853, 'SATURATION_BAND_1': 'Y', 'SATURATION_BAND_2': 'Y', 'SATURATION_BAND_3': 'Y', 'SATURATION_BAND_4': 'Y', 'SATURATION_BAND_5': 'Y', 'MAP_PROJECTION': 'UTM', 'SATURATION_BAND_6': 'Y', 'SENSOR_ID': 'OLI_TIRS', 'SATURATION_BAND_7': 'Y', 'K1_CONSTANT_BAND_11': 480.8883, 'SATURATION_BAND_8': 'N', 'SATURATION_BAND_9': 'N', 'TARGET_WRS_PATH': 44, 'PROCESSING_LEVEL': 'L1TP', 'RADIANCE_MULT_BAND_11': 0.0003342, 'RADIANCE_MULT_BAND_10': 0.0003342, 'GROUND_CONTROL_POINTS_MODEL': 1182, 'SPACECRAFT_ID': 'LANDSAT_8', 'THERMAL_SAMPLES': 7671, 'GROUND_CONTROL_POINTS_VERIFY': 324}}]}\n"
     ]
    }
   ],
   "source": [
    "# Load a Landsat 8 ImageCollection for a single path-row.\n",
    "collection = (\n",
    "    ee.ImageCollection(\"LANDSAT/LC08/C02/T1_TOA\")\n",
    "    .filter(ee.Filter.eq(\"WRS_PATH\", 44))\n",
    "    .filter(ee.Filter.eq(\"WRS_ROW\", 34))\n",
    "    .filterDate(\"2014-03-01\", \"2014-08-01\")\n",
    ")\n",
    "print(\"Collection: \", collection.getInfo())"
   ]
  },
  {
   "cell_type": "code",
   "execution_count": 5,
   "metadata": {},
   "outputs": [
    {
     "data": {
      "text/html": [
       "\n",
       "            <style>\n",
       "                .geemap-dark {\n",
       "                    --jp-widgets-color: white;\n",
       "                    --jp-widgets-label-color: white;\n",
       "                    --jp-ui-font-color1: white;\n",
       "                    --jp-layout-color2: #454545;\n",
       "                    background-color: #383838;\n",
       "                }\n",
       "\n",
       "                .geemap-dark .jupyter-button {\n",
       "                    --jp-layout-color3: #383838;\n",
       "                }\n",
       "\n",
       "                .geemap-colab {\n",
       "                    background-color: var(--colab-primary-surface-color, white);\n",
       "                }\n",
       "\n",
       "                .geemap-colab .jupyter-button {\n",
       "                    --jp-layout-color3: var(--colab-primary-surface-color, white);\n",
       "                }\n",
       "            </style>\n",
       "            "
      ],
      "text/plain": [
       "<IPython.core.display.HTML object>"
      ]
     },
     "metadata": {},
     "output_type": "display_data"
    },
    {
     "name": "stdout",
     "output_type": "stream",
     "text": [
      "Count:  9\n"
     ]
    }
   ],
   "source": [
    "# Get the number of images.\n",
    "count = collection.size()\n",
    "print(\"Count: \", count.getInfo())"
   ]
  },
  {
   "cell_type": "code",
   "execution_count": 6,
   "metadata": {},
   "outputs": [
    {
     "data": {
      "text/html": [
       "\n",
       "            <style>\n",
       "                .geemap-dark {\n",
       "                    --jp-widgets-color: white;\n",
       "                    --jp-widgets-label-color: white;\n",
       "                    --jp-ui-font-color1: white;\n",
       "                    --jp-layout-color2: #454545;\n",
       "                    background-color: #383838;\n",
       "                }\n",
       "\n",
       "                .geemap-dark .jupyter-button {\n",
       "                    --jp-layout-color3: #383838;\n",
       "                }\n",
       "\n",
       "                .geemap-colab {\n",
       "                    background-color: var(--colab-primary-surface-color, white);\n",
       "                }\n",
       "\n",
       "                .geemap-colab .jupyter-button {\n",
       "                    --jp-layout-color3: var(--colab-primary-surface-color, white);\n",
       "                }\n",
       "            </style>\n",
       "            "
      ],
      "text/plain": [
       "<IPython.core.display.HTML object>"
      ]
     },
     "metadata": {},
     "output_type": "display_data"
    },
    {
     "name": "stdout",
     "output_type": "stream",
     "text": [
      "Date range:  {'type': 'Date', 'value': 1395168392053} {'type': 'Date', 'value': 1406227557219}\n"
     ]
    }
   ],
   "source": [
    "# Get the date range of images in the collection.\n",
    "range = collection.reduceColumns(ee.Reducer.minMax(), [\"system:time_start\"])\n",
    "print(\n",
    "    \"Date range: \",\n",
    "    ee.Date(range.get(\"min\")).getInfo(),\n",
    "    ee.Date(range.get(\"max\")).getInfo(),\n",
    ")"
   ]
  },
  {
   "cell_type": "code",
   "execution_count": 7,
   "metadata": {},
   "outputs": [
    {
     "data": {
      "text/html": [
       "\n",
       "            <style>\n",
       "                .geemap-dark {\n",
       "                    --jp-widgets-color: white;\n",
       "                    --jp-widgets-label-color: white;\n",
       "                    --jp-ui-font-color1: white;\n",
       "                    --jp-layout-color2: #454545;\n",
       "                    background-color: #383838;\n",
       "                }\n",
       "\n",
       "                .geemap-dark .jupyter-button {\n",
       "                    --jp-layout-color3: #383838;\n",
       "                }\n",
       "\n",
       "                .geemap-colab {\n",
       "                    background-color: var(--colab-primary-surface-color, white);\n",
       "                }\n",
       "\n",
       "                .geemap-colab .jupyter-button {\n",
       "                    --jp-layout-color3: var(--colab-primary-surface-color, white);\n",
       "                }\n",
       "            </style>\n",
       "            "
      ],
      "text/plain": [
       "<IPython.core.display.HTML object>"
      ]
     },
     "metadata": {},
     "output_type": "display_data"
    },
    {
     "name": "stdout",
     "output_type": "stream",
     "text": [
      "Date range:  2014-03-18 2014-07-24\n"
     ]
    }
   ],
   "source": [
    "# Change the date format.\n",
    "range = collection.reduceColumns(ee.Reducer.minMax(), [\"system:time_start\"])\n",
    "start_date = ee.Date(range.get(\"min\")).format(\"YYYY-MM-dd\")\n",
    "end_date = ee.Date(range.get(\"max\")).format(\"YYYY-MM-dd\")\n",
    "print(\"Date range: \", start_date.getInfo(), end_date.getInfo())"
   ]
  },
  {
   "cell_type": "code",
   "execution_count": 8,
   "metadata": {},
   "outputs": [
    {
     "data": {
      "text/html": [
       "\n",
       "            <style>\n",
       "                .geemap-dark {\n",
       "                    --jp-widgets-color: white;\n",
       "                    --jp-widgets-label-color: white;\n",
       "                    --jp-ui-font-color1: white;\n",
       "                    --jp-layout-color2: #454545;\n",
       "                    background-color: #383838;\n",
       "                }\n",
       "\n",
       "                .geemap-dark .jupyter-button {\n",
       "                    --jp-layout-color3: #383838;\n",
       "                }\n",
       "\n",
       "                .geemap-colab {\n",
       "                    background-color: var(--colab-primary-surface-color, white);\n",
       "                }\n",
       "\n",
       "                .geemap-colab .jupyter-button {\n",
       "                    --jp-layout-color3: var(--colab-primary-surface-color, white);\n",
       "                }\n",
       "            </style>\n",
       "            "
      ],
      "text/plain": [
       "<IPython.core.display.HTML object>"
      ]
     },
     "metadata": {},
     "output_type": "display_data"
    },
    {
     "name": "stdout",
     "output_type": "stream",
     "text": [
      "Sun elevation statistics:  {'max': 67.10252727, 'mean': 61.01998433666667, 'min': 46.47106522, 'sample_sd': 7.251804446695445, 'sample_var': 52.58866773311183, 'sum': 549.17985903, 'sum_sq': 33931.6557378883, 'total_count': 9, 'total_sd': 6.837066800129478, 'total_var': 46.74548242943274, 'valid_count': 9, 'weight_sum': 9, 'weighted_sum': 549.17985903}\n"
     ]
    }
   ],
   "source": [
    "# Get statistics for a property of the images in the collection.\n",
    "sunStats = collection.aggregate_stats(\"SUN_ELEVATION\")\n",
    "print(\"Sun elevation statistics: \", sunStats.getInfo())"
   ]
  },
  {
   "cell_type": "code",
   "execution_count": 9,
   "metadata": {},
   "outputs": [
    {
     "data": {
      "text/html": [
       "\n",
       "            <style>\n",
       "                .geemap-dark {\n",
       "                    --jp-widgets-color: white;\n",
       "                    --jp-widgets-label-color: white;\n",
       "                    --jp-ui-font-color1: white;\n",
       "                    --jp-layout-color2: #454545;\n",
       "                    background-color: #383838;\n",
       "                }\n",
       "\n",
       "                .geemap-dark .jupyter-button {\n",
       "                    --jp-layout-color3: #383838;\n",
       "                }\n",
       "\n",
       "                .geemap-colab {\n",
       "                    background-color: var(--colab-primary-surface-color, white);\n",
       "                }\n",
       "\n",
       "                .geemap-colab .jupyter-button {\n",
       "                    --jp-layout-color3: var(--colab-primary-surface-color, white);\n",
       "                }\n",
       "            </style>\n",
       "            "
      ],
      "text/plain": [
       "<IPython.core.display.HTML object>"
      ]
     },
     "metadata": {},
     "output_type": "display_data"
    },
    {
     "name": "stdout",
     "output_type": "stream",
     "text": [
      "Cloud covers:  [0.06, 28.1, 12.9, 24.25, 35.42, 35.71, 33.05, 39.98, 0.32]\n"
     ]
    }
   ],
   "source": [
    "# Get statistics for a property of the images in the collection.\n",
    "clouds = collection.aggregate_array(\"CLOUD_COVER\")\n",
    "print(\"Cloud covers: \", clouds.getInfo())"
   ]
  },
  {
   "cell_type": "code",
   "execution_count": 10,
   "metadata": {},
   "outputs": [
    {
     "data": {
      "text/html": [
       "\n",
       "            <style>\n",
       "                .geemap-dark {\n",
       "                    --jp-widgets-color: white;\n",
       "                    --jp-widgets-label-color: white;\n",
       "                    --jp-ui-font-color1: white;\n",
       "                    --jp-layout-color2: #454545;\n",
       "                    background-color: #383838;\n",
       "                }\n",
       "\n",
       "                .geemap-dark .jupyter-button {\n",
       "                    --jp-layout-color3: #383838;\n",
       "                }\n",
       "\n",
       "                .geemap-colab {\n",
       "                    background-color: var(--colab-primary-surface-color, white);\n",
       "                }\n",
       "\n",
       "                .geemap-colab .jupyter-button {\n",
       "                    --jp-layout-color3: var(--colab-primary-surface-color, white);\n",
       "                }\n",
       "            </style>\n",
       "            "
      ],
      "text/plain": [
       "<IPython.core.display.HTML object>"
      ]
     },
     "metadata": {},
     "output_type": "display_data"
    },
    {
     "name": "stdout",
     "output_type": "stream",
     "text": [
      "Least cloudy image:  ['system:version', 'system:id', 'RADIANCE_MULT_BAND_5', 'RADIANCE_MULT_BAND_6', 'RADIANCE_MULT_BAND_3', 'RADIANCE_MULT_BAND_4', 'RADIANCE_MULT_BAND_1', 'RADIANCE_MULT_BAND_2', 'WRS_TYPE', 'K2_CONSTANT_BAND_11', 'K2_CONSTANT_BAND_10', 'system:footprint', 'REFLECTIVE_SAMPLES', 'SUN_AZIMUTH', 'DATA_SOURCE_TIRS_STRAY_LIGHT_CORRECTION', 'DATE_ACQUIRED', 'ELLIPSOID', 'STATION_ID', 'RESAMPLING_OPTION', 'ORIENTATION', 'WRS_ROW', 'RADIANCE_MULT_BAND_9', 'TARGET_WRS_ROW', 'RADIANCE_MULT_BAND_7', 'RADIANCE_MULT_BAND_8', 'IMAGE_QUALITY_TIRS', 'TRUNCATION_OLI', 'CLOUD_COVER', 'GEOMETRIC_RMSE_VERIFY', 'COLLECTION_CATEGORY', 'GRID_CELL_SIZE_REFLECTIVE', 'CLOUD_COVER_LAND', 'GEOMETRIC_RMSE_MODEL', 'COLLECTION_NUMBER', 'IMAGE_QUALITY_OLI', 'LANDSAT_SCENE_ID', 'WRS_PATH', 'PANCHROMATIC_SAMPLES', 'PANCHROMATIC_LINES', 'GEOMETRIC_RMSE_MODEL_Y', 'REFLECTIVE_LINES', 'GEOMETRIC_RMSE_MODEL_X', 'system:asset_size', 'system:index', 'DATA_SOURCE_ELEVATION', 'REFLECTANCE_ADD_BAND_1', 'REFLECTANCE_ADD_BAND_2', 'DATUM', 'REFLECTANCE_ADD_BAND_3', 'REFLECTANCE_ADD_BAND_4', 'REFLECTANCE_ADD_BAND_5', 'REFLECTANCE_ADD_BAND_6', 'REFLECTANCE_ADD_BAND_7', 'REFLECTANCE_ADD_BAND_8', 'GROUND_CONTROL_POINTS_VERSION', 'UTM_ZONE', 'system:time_end', 'LANDSAT_PRODUCT_ID', 'REFLECTANCE_ADD_BAND_9', 'GRID_CELL_SIZE_PANCHROMATIC', 'RADIANCE_ADD_BAND_4', 'REFLECTANCE_MULT_BAND_7', 'system:time_start', 'RADIANCE_ADD_BAND_5', 'REFLECTANCE_MULT_BAND_6', 'RADIANCE_ADD_BAND_6', 'REFLECTANCE_MULT_BAND_9', 'PROCESSING_SOFTWARE_VERSION', 'RADIANCE_ADD_BAND_7', 'REFLECTANCE_MULT_BAND_8', 'RADIANCE_ADD_BAND_1', 'RADIANCE_ADD_BAND_2', 'RADIANCE_ADD_BAND_3', 'REFLECTANCE_MULT_BAND_1', 'RADIANCE_ADD_BAND_8', 'REFLECTANCE_MULT_BAND_3', 'RADIANCE_ADD_BAND_9', 'REFLECTANCE_MULT_BAND_2', 'REFLECTANCE_MULT_BAND_5', 'REFLECTANCE_MULT_BAND_4', 'THERMAL_LINES', 'TIRS_SSM_POSITION_STATUS', 'GRID_CELL_SIZE_THERMAL', 'NADIR_OFFNADIR', 'RADIANCE_ADD_BAND_11', 'REQUEST_ID', 'EARTH_SUN_DISTANCE', 'TIRS_SSM_MODEL', 'SCENE_CENTER_TIME', 'SUN_ELEVATION', 'RADIANCE_ADD_BAND_10', 'ROLL_ANGLE', 'DATE_PRODUCT_GENERATED', 'K1_CONSTANT_BAND_10', 'SATURATION_BAND_1', 'SATURATION_BAND_2', 'SATURATION_BAND_3', 'SATURATION_BAND_4', 'SATURATION_BAND_5', 'MAP_PROJECTION', 'SATURATION_BAND_6', 'SENSOR_ID', 'SATURATION_BAND_7', 'K1_CONSTANT_BAND_11', 'SATURATION_BAND_8', 'SATURATION_BAND_9', 'TARGET_WRS_PATH', 'PROCESSING_LEVEL', 'RADIANCE_MULT_BAND_11', 'RADIANCE_MULT_BAND_10', 'GROUND_CONTROL_POINTS_MODEL', 'SPACECRAFT_ID', 'THERMAL_SAMPLES', 'GROUND_CONTROL_POINTS_VERIFY', 'system:bands', 'system:band_names']\n",
      "\n",
      "Cloud cover:  0.06\n"
     ]
    }
   ],
   "source": [
    "# Sort by a cloud cover property, get the least cloudy image.\n",
    "image = ee.Image(collection.sort(\"CLOUD_COVER\").first())\n",
    "print(\"Least cloudy image: \", image.propertyNames().getInfo())\n",
    "print(\"\\nCloud cover: \", image.get(\"CLOUD_COVER\").getInfo())"
   ]
  },
  {
   "cell_type": "code",
   "execution_count": 11,
   "metadata": {},
   "outputs": [
    {
     "data": {
      "text/html": [
       "\n",
       "            <style>\n",
       "                .geemap-dark {\n",
       "                    --jp-widgets-color: white;\n",
       "                    --jp-widgets-label-color: white;\n",
       "                    --jp-ui-font-color1: white;\n",
       "                    --jp-layout-color2: #454545;\n",
       "                    background-color: #383838;\n",
       "                }\n",
       "\n",
       "                .geemap-dark .jupyter-button {\n",
       "                    --jp-layout-color3: #383838;\n",
       "                }\n",
       "\n",
       "                .geemap-colab {\n",
       "                    background-color: var(--colab-primary-surface-color, white);\n",
       "                }\n",
       "\n",
       "                .geemap-colab .jupyter-button {\n",
       "                    --jp-layout-color3: var(--colab-primary-surface-color, white);\n",
       "                }\n",
       "            </style>\n",
       "            "
      ],
      "text/plain": [
       "<IPython.core.display.HTML object>"
      ]
     },
     "metadata": {},
     "output_type": "display_data"
    },
    {
     "name": "stdout",
     "output_type": "stream",
     "text": [
      "Recent images:\n",
      "LC08_044034_20140724\n",
      "LC08_044034_20140708\n",
      "LC08_044034_20140622\n",
      "LC08_044034_20140606\n",
      "LC08_044034_20140521\n",
      "LC08_044034_20140505\n",
      "LC08_044034_20140419\n",
      "LC08_044034_20140403\n",
      "LC08_044034_20140318\n"
     ]
    }
   ],
   "source": [
    "# Limit the collection to the 10 most recent images.\n",
    "recent = collection.sort(\"system:time_start\", False).limit(10)\n",
    "images = recent.aggregate_array(\"system:index\").getInfo()\n",
    "print(\"Recent images:\")\n",
    "for image in images:\n",
    "    print(image)"
   ]
  },
  {
   "cell_type": "markdown",
   "metadata": {},
   "source": [
    "## Display Earth Engine data layers "
   ]
  },
  {
   "cell_type": "code",
   "execution_count": 12,
   "metadata": {},
   "outputs": [
    {
     "data": {
      "text/html": [
       "\n",
       "            <style>\n",
       "                .geemap-dark {\n",
       "                    --jp-widgets-color: white;\n",
       "                    --jp-widgets-label-color: white;\n",
       "                    --jp-ui-font-color1: white;\n",
       "                    --jp-layout-color2: #454545;\n",
       "                    background-color: #383838;\n",
       "                }\n",
       "\n",
       "                .geemap-dark .jupyter-button {\n",
       "                    --jp-layout-color3: #383838;\n",
       "                }\n",
       "\n",
       "                .geemap-colab {\n",
       "                    background-color: var(--colab-primary-surface-color, white);\n",
       "                }\n",
       "\n",
       "                .geemap-colab .jupyter-button {\n",
       "                    --jp-layout-color3: var(--colab-primary-surface-color, white);\n",
       "                }\n",
       "            </style>\n",
       "            "
      ],
      "text/plain": [
       "<IPython.core.display.HTML object>"
      ]
     },
     "metadata": {},
     "output_type": "display_data"
    },
    {
     "data": {
      "application/vnd.jupyter.widget-view+json": {
       "model_id": "1a49753b16f14c73837624c6b6c98968",
       "version_major": 2,
       "version_minor": 0
      },
      "text/plain": [
       "Map(bottom=1851.0, center=[40, -100], controls=(WidgetControl(options=['position', 'transparent_bg'], position…"
      ]
     },
     "execution_count": 12,
     "metadata": {},
     "output_type": "execute_result"
    }
   ],
   "source": [
    "Map.addLayerControl()\n",
    "Map"
   ]
  },
  {
   "cell_type": "code",
   "execution_count": null,
   "metadata": {},
   "outputs": [],
   "source": []
  }
 ],
 "metadata": {
  "anaconda-cloud": {},
  "kernelspec": {
   "display_name": "Python 3 (ipykernel)",
   "language": "python",
   "name": "python3"
  },
  "language_info": {
   "codemirror_mode": {
    "name": "ipython",
    "version": 3
   },
   "file_extension": ".py",
   "mimetype": "text/x-python",
   "name": "python",
   "nbconvert_exporter": "python",
   "pygments_lexer": "ipython3",
   "version": "3.11.0"
  }
 },
 "nbformat": 4,
 "nbformat_minor": 4
}
