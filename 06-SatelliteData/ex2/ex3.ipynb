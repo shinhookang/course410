{
 "cells": [
  {
   "cell_type": "markdown",
   "id": "0f5b705f-a5de-4753-9378-62fe432015ee",
   "metadata": {},
   "source": [
    "# HOW TO USE Google Earth Engine (EE) and GEEMAP: 3rd example\n",
    "\n",
    "* reference: https://github.com/opengeos"
   ]
  },
  {
   "cell_type": "code",
   "execution_count": 1,
   "id": "f9f006c1-91c6-4803-af8d-c083c03e5044",
   "metadata": {},
   "outputs": [],
   "source": [
    "import geemap"
   ]
  },
  {
   "cell_type": "markdown",
   "id": "6bc30399-a2cd-41b1-a273-988a02f4ead0",
   "metadata": {},
   "source": [
    "You need to authenticate Earth Engine before using it. The package for the Earth Engine Python API is called earthengine-api, which should have been automatically installed by the geemap package. \n",
    "\n",
    "Your credential is stored in `/Users/USERNAME/.config/earthengine/credentials`"
   ]
  },
  {
   "cell_type": "code",
   "execution_count": 2,
   "id": "4b39a86f-07f4-40fb-8460-dc86c640e82a",
   "metadata": {},
   "outputs": [
    {
     "data": {
      "text/html": [
       "\n",
       "            <style>\n",
       "                .geemap-dark {\n",
       "                    --jp-widgets-color: white;\n",
       "                    --jp-widgets-label-color: white;\n",
       "                    --jp-ui-font-color1: white;\n",
       "                    --jp-layout-color2: #454545;\n",
       "                    background-color: #383838;\n",
       "                }\n",
       "\n",
       "                .geemap-dark .jupyter-button {\n",
       "                    --jp-layout-color3: #383838;\n",
       "                }\n",
       "\n",
       "                .geemap-colab {\n",
       "                    background-color: var(--colab-primary-surface-color, white);\n",
       "                }\n",
       "\n",
       "                .geemap-colab .jupyter-button {\n",
       "                    --jp-layout-color3: var(--colab-primary-surface-color, white);\n",
       "                }\n",
       "            </style>\n",
       "            "
      ],
      "text/plain": [
       "<IPython.core.display.HTML object>"
      ]
     },
     "metadata": {},
     "output_type": "display_data"
    },
    {
     "data": {
      "text/plain": [
       "True"
      ]
     },
     "execution_count": 2,
     "metadata": {},
     "output_type": "execute_result"
    }
   ],
   "source": [
    "import ee\n",
    "ee.Authenticate()"
   ]
  },
  {
   "cell_type": "code",
   "execution_count": 3,
   "id": "744833f7-d7bd-4948-97cc-2a4f8758ba17",
   "metadata": {
    "scrolled": true
   },
   "outputs": [
    {
     "data": {
      "text/html": [
       "\n",
       "            <style>\n",
       "                .geemap-dark {\n",
       "                    --jp-widgets-color: white;\n",
       "                    --jp-widgets-label-color: white;\n",
       "                    --jp-ui-font-color1: white;\n",
       "                    --jp-layout-color2: #454545;\n",
       "                    background-color: #383838;\n",
       "                }\n",
       "\n",
       "                .geemap-dark .jupyter-button {\n",
       "                    --jp-layout-color3: #383838;\n",
       "                }\n",
       "\n",
       "                .geemap-colab {\n",
       "                    background-color: var(--colab-primary-surface-color, white);\n",
       "                }\n",
       "\n",
       "                .geemap-colab .jupyter-button {\n",
       "                    --jp-layout-color3: var(--colab-primary-surface-color, white);\n",
       "                }\n",
       "            </style>\n",
       "            "
      ],
      "text/plain": [
       "<IPython.core.display.HTML object>"
      ]
     },
     "metadata": {},
     "output_type": "display_data"
    }
   ],
   "source": [
    "ee.Initialize(project='satellite-example')\n",
    "# ee.Initialize()\n",
    "#ee.Initialize(project='<PROJECT-ID>')"
   ]
  },
  {
   "cell_type": "markdown",
   "id": "1aa7fbc9-e4ab-4486-96e7-63ba81c511d9",
   "metadata": {},
   "source": [
    "## Download Images"
   ]
  },
  {
   "cell_type": "code",
   "execution_count": 29,
   "id": "90a2edaf-aecd-48cd-ab52-3218648c08a2",
   "metadata": {},
   "outputs": [
    {
     "data": {
      "text/html": [
       "\n",
       "            <style>\n",
       "                .geemap-dark {\n",
       "                    --jp-widgets-color: white;\n",
       "                    --jp-widgets-label-color: white;\n",
       "                    --jp-ui-font-color1: white;\n",
       "                    --jp-layout-color2: #454545;\n",
       "                    background-color: #383838;\n",
       "                }\n",
       "\n",
       "                .geemap-dark .jupyter-button {\n",
       "                    --jp-layout-color3: #383838;\n",
       "                }\n",
       "\n",
       "                .geemap-colab {\n",
       "                    background-color: var(--colab-primary-surface-color, white);\n",
       "                }\n",
       "\n",
       "                .geemap-colab .jupyter-button {\n",
       "                    --jp-layout-color3: var(--colab-primary-surface-color, white);\n",
       "                }\n",
       "            </style>\n",
       "            "
      ],
      "text/plain": [
       "<IPython.core.display.HTML object>"
      ]
     },
     "metadata": {},
     "output_type": "display_data"
    },
    {
     "name": "stdout",
     "output_type": "stream",
     "text": [
      "ee.Image({\n",
      "  \"functionInvocationValue\": {\n",
      "    \"functionName\": \"Collection.first\",\n",
      "    \"arguments\": {\n",
      "      \"collection\": {\n",
      "        \"functionInvocationValue\": {\n",
      "          \"functionName\": \"ImageCollection.load\",\n",
      "          \"arguments\": {\n",
      "            \"id\": {\n",
      "              \"constantValue\": \"LANDSAT/LC08/C02/T1_TOA\"\n",
      "            }\n",
      "          }\n",
      "        }\n",
      "      }\n",
      "    }\n",
      "  }\n",
      "})\n"
     ]
    },
    {
     "data": {
      "application/vnd.jupyter.widget-view+json": {
       "model_id": "1028891830364f6ea2f9e86d62c7cf3f",
       "version_major": 2,
       "version_minor": 0
      },
      "text/plain": [
       "Map(center=[0, 0], controls=(WidgetControl(options=['position', 'transparent_bg'], position='topright', transp…"
      ]
     },
     "execution_count": 29,
     "metadata": {},
     "output_type": "execute_result"
    }
   ],
   "source": [
    "\n",
    "Map = geemap.Map()\n",
    "image = ee.ImageCollection(\"LANDSAT/LC08/C02/T1_TOA\").first()\n",
    "Map.addLayer(image, {}, \"Landsat\")\n",
    "Map.centerObject(image)\n",
    "print(image)\n",
    "Map"
   ]
  },
  {
   "cell_type": "code",
   "execution_count": 31,
   "id": "0b8d9534-f6ba-4ced-934f-4620a178a104",
   "metadata": {},
   "outputs": [
    {
     "data": {
      "text/html": [
       "\n",
       "            <style>\n",
       "                .geemap-dark {\n",
       "                    --jp-widgets-color: white;\n",
       "                    --jp-widgets-label-color: white;\n",
       "                    --jp-ui-font-color1: white;\n",
       "                    --jp-layout-color2: #454545;\n",
       "                    background-color: #383838;\n",
       "                }\n",
       "\n",
       "                .geemap-dark .jupyter-button {\n",
       "                    --jp-layout-color3: #383838;\n",
       "                }\n",
       "\n",
       "                .geemap-colab {\n",
       "                    background-color: var(--colab-primary-surface-color, white);\n",
       "                }\n",
       "\n",
       "                .geemap-colab .jupyter-button {\n",
       "                    --jp-layout-color3: var(--colab-primary-surface-color, white);\n",
       "                }\n",
       "            </style>\n",
       "            "
      ],
      "text/plain": [
       "<IPython.core.display.HTML object>"
      ]
     },
     "metadata": {},
     "output_type": "display_data"
    },
    {
     "name": "stdout",
     "output_type": "stream",
     "text": [
      "Total number of images: 9\n",
      "\n",
      "Downloading 1/9: m_4609915_sw_14_060_20180902_20181213.tif\n"
     ]
    },
    {
     "data": {
      "application/vnd.jupyter.widget-view+json": {
       "model_id": "7847f22fdff34b88bf13febcdfcfb76a",
       "version_major": 2,
       "version_minor": 0
      },
      "text/plain": [
       "m_4609915_sw_14_060_20180902_20181213:   0%|                                                                  …"
      ]
     },
     "metadata": {},
     "output_type": "display_data"
    },
    {
     "name": "stdout",
     "output_type": "stream",
     "text": [
      "Downloading 2/9: m_4609915_sw_14_060_20190626.tif\n"
     ]
    },
    {
     "data": {
      "application/vnd.jupyter.widget-view+json": {
       "model_id": "088cffcf6d554426b8d7cd3e3081f76b",
       "version_major": 2,
       "version_minor": 0
      },
      "text/plain": [
       "m_4609915_sw_14_060_20190626:   0%|                                                                           …"
      ]
     },
     "metadata": {},
     "output_type": "display_data"
    },
    {
     "name": "stdout",
     "output_type": "stream",
     "text": [
      "Downloading 3/9: m_4609915_sw_14_1_20090818.tif\n"
     ]
    },
    {
     "data": {
      "application/vnd.jupyter.widget-view+json": {
       "model_id": "153815baf3034d799fd03081fdeb7b69",
       "version_major": 2,
       "version_minor": 0
      },
      "text/plain": [
       "m_4609915_sw_14_1_20090818:   0%|                                                                             …"
      ]
     },
     "metadata": {},
     "output_type": "display_data"
    },
    {
     "name": "stdout",
     "output_type": "stream",
     "text": [
      "Downloading 4/9: m_4609915_sw_14_1_20100629.tif\n"
     ]
    },
    {
     "data": {
      "application/vnd.jupyter.widget-view+json": {
       "model_id": "aa85738c9f2548afbf4d59ce992cbf25",
       "version_major": 2,
       "version_minor": 0
      },
      "text/plain": [
       "m_4609915_sw_14_1_20100629:   0%|                                                                             …"
      ]
     },
     "metadata": {},
     "output_type": "display_data"
    },
    {
     "name": "stdout",
     "output_type": "stream",
     "text": [
      "Downloading 5/9: m_4609915_sw_14_1_20120714.tif\n"
     ]
    },
    {
     "data": {
      "application/vnd.jupyter.widget-view+json": {
       "model_id": "a10b54e0f9b0461486c8db8c89d9f7c9",
       "version_major": 2,
       "version_minor": 0
      },
      "text/plain": [
       "m_4609915_sw_14_1_20120714:   0%|                                                                             …"
      ]
     },
     "metadata": {},
     "output_type": "display_data"
    },
    {
     "name": "stdout",
     "output_type": "stream",
     "text": [
      "Downloading 6/9: m_4609915_sw_14_1_20140901.tif\n"
     ]
    },
    {
     "data": {
      "application/vnd.jupyter.widget-view+json": {
       "model_id": "5c5955def153425b9658968b45a482a2",
       "version_major": 2,
       "version_minor": 0
      },
      "text/plain": [
       "m_4609915_sw_14_1_20140901:   0%|                                                                             …"
      ]
     },
     "metadata": {},
     "output_type": "display_data"
    },
    {
     "name": "stdout",
     "output_type": "stream",
     "text": [
      "Downloading 7/9: m_4609915_sw_14_1_20150926.tif\n"
     ]
    },
    {
     "data": {
      "application/vnd.jupyter.widget-view+json": {
       "model_id": "f45feab5219f4267bad620622efc56f4",
       "version_major": 2,
       "version_minor": 0
      },
      "text/plain": [
       "m_4609915_sw_14_1_20150926:   0%|                                                                             …"
      ]
     },
     "metadata": {},
     "output_type": "display_data"
    },
    {
     "name": "stdout",
     "output_type": "stream",
     "text": [
      "Downloading 8/9: m_4609915_sw_14_h_20160704.tif\n"
     ]
    },
    {
     "data": {
      "application/vnd.jupyter.widget-view+json": {
       "model_id": "b520fceb9cb04e7b9e5ea981c42c56a8",
       "version_major": 2,
       "version_minor": 0
      },
      "text/plain": [
       "m_4609915_sw_14_h_20160704:   0%|                                                                             …"
      ]
     },
     "metadata": {},
     "output_type": "display_data"
    },
    {
     "name": "stdout",
     "output_type": "stream",
     "text": [
      "Downloading 9/9: m_4609915_sw_14_h_20170703.tif\n"
     ]
    },
    {
     "data": {
      "application/vnd.jupyter.widget-view+json": {
       "model_id": "414aa98830724c52a420900a4f876a7e",
       "version_major": 2,
       "version_minor": 0
      },
      "text/plain": [
       "m_4609915_sw_14_h_20170703:   0%|                                                                             …"
      ]
     },
     "metadata": {},
     "output_type": "display_data"
    }
   ],
   "source": [
    "out_dir = os.path.expanduser(\"Downloads3\")\n",
    "loc = ee.Geometry.Point(-99.2222, 46.7816)\n",
    "collection = (\n",
    "    ee.ImageCollection(\"USDA/NAIP/DOQQ\")\n",
    "    .filterBounds(loc)\n",
    "    .filterDate(\"2008-01-01\", \"2020-01-01\")\n",
    "    .filter(ee.Filter.listContains(\"system:band_names\", \"N\"))\n",
    ")\n",
    "geemap.download_ee_image_collection(collection, out_dir, scale=10)"
   ]
  },
  {
   "cell_type": "code",
   "execution_count": 45,
   "id": "329794ed-a1b9-43cb-a5cf-fec3dc180029",
   "metadata": {},
   "outputs": [
    {
     "data": {
      "text/html": [
       "\n",
       "            <style>\n",
       "                .geemap-dark {\n",
       "                    --jp-widgets-color: white;\n",
       "                    --jp-widgets-label-color: white;\n",
       "                    --jp-ui-font-color1: white;\n",
       "                    --jp-layout-color2: #454545;\n",
       "                    background-color: #383838;\n",
       "                }\n",
       "\n",
       "                .geemap-dark .jupyter-button {\n",
       "                    --jp-layout-color3: #383838;\n",
       "                }\n",
       "\n",
       "                .geemap-colab {\n",
       "                    background-color: var(--colab-primary-surface-color, white);\n",
       "                }\n",
       "\n",
       "                .geemap-colab .jupyter-button {\n",
       "                    --jp-layout-color3: var(--colab-primary-surface-color, white);\n",
       "                }\n",
       "            </style>\n",
       "            "
      ],
      "text/plain": [
       "<IPython.core.display.HTML object>"
      ]
     },
     "metadata": {},
     "output_type": "display_data"
    }
   ],
   "source": [
    "out_dir = os.path.expanduser(\"Downloads4\")\n",
    "\n",
    "dataset = ee.ImageCollection('LANDSAT/LC09/C02/T1_TOA').filterDate('2022-01-01', '2022-02-01');"
   ]
  },
  {
   "cell_type": "code",
   "execution_count": 66,
   "id": "81d33ab7-2320-41a7-a630-9307596aed73",
   "metadata": {},
   "outputs": [
    {
     "data": {
      "text/html": [
       "\n",
       "            <style>\n",
       "                .geemap-dark {\n",
       "                    --jp-widgets-color: white;\n",
       "                    --jp-widgets-label-color: white;\n",
       "                    --jp-ui-font-color1: white;\n",
       "                    --jp-layout-color2: #454545;\n",
       "                    background-color: #383838;\n",
       "                }\n",
       "\n",
       "                .geemap-dark .jupyter-button {\n",
       "                    --jp-layout-color3: #383838;\n",
       "                }\n",
       "\n",
       "                .geemap-colab {\n",
       "                    background-color: var(--colab-primary-surface-color, white);\n",
       "                }\n",
       "\n",
       "                .geemap-colab .jupyter-button {\n",
       "                    --jp-layout-color3: var(--colab-primary-surface-color, white);\n",
       "                }\n",
       "            </style>\n",
       "            "
      ],
      "text/plain": [
       "<IPython.core.display.HTML object>"
      ]
     },
     "metadata": {},
     "output_type": "display_data"
    },
    {
     "data": {
      "application/vnd.jupyter.widget-view+json": {
       "model_id": "c58f765193a4480c8eb0cb7c2d5fb10d",
       "version_major": 2,
       "version_minor": 0
      },
      "text/plain": [
       "Map(center=[0, 0], controls=(WidgetControl(options=['position', 'transparent_bg'], position='topright', transp…"
      ]
     },
     "execution_count": 66,
     "metadata": {},
     "output_type": "execute_result"
    }
   ],
   "source": [
    "image = dataset.first()\n",
    "\n",
    "Map = geemap.Map()\n",
    "landsat_vis = {\"bands\": [\"B4\", \"B3\", \"B2\"], \"gamma\": 2}\n",
    "Map.addLayer(image, landsat_vis, \"LANDSAT\", True, 1)\n",
    "region = ee.Geometry.BBox(-41.6, 63.6, -41.4, 63.8)\n",
    "Map.centerObject(region)\n",
    "features = geemap.fishnet(region, rows=2, cols=2)\n",
    "Map.addLayer(features, {}, \"Grids\")\n",
    "Map"
   ]
  },
  {
   "cell_type": "code",
   "execution_count": 68,
   "id": "696572a4-dd3f-4405-a401-03a2a2b41452",
   "metadata": {},
   "outputs": [
    {
     "data": {
      "text/html": [
       "\n",
       "            <style>\n",
       "                .geemap-dark {\n",
       "                    --jp-widgets-color: white;\n",
       "                    --jp-widgets-label-color: white;\n",
       "                    --jp-ui-font-color1: white;\n",
       "                    --jp-layout-color2: #454545;\n",
       "                    background-color: #383838;\n",
       "                }\n",
       "\n",
       "                .geemap-dark .jupyter-button {\n",
       "                    --jp-layout-color3: #383838;\n",
       "                }\n",
       "\n",
       "                .geemap-colab {\n",
       "                    background-color: var(--colab-primary-surface-color, white);\n",
       "                }\n",
       "\n",
       "                .geemap-colab .jupyter-button {\n",
       "                    --jp-layout-color3: var(--colab-primary-surface-color, white);\n",
       "                }\n",
       "            </style>\n",
       "            "
      ],
      "text/plain": [
       "<IPython.core.display.HTML object>"
      ]
     },
     "metadata": {},
     "output_type": "display_data"
    },
    {
     "name": "stdout",
     "output_type": "stream",
     "text": [
      "Downloading 1/9: Downloads4/landsat_1.tif\n"
     ]
    },
    {
     "data": {
      "application/vnd.jupyter.widget-view+json": {
       "model_id": "35bf76b65a4941a38249d3efabd4069e",
       "version_major": 2,
       "version_minor": 0
      },
      "text/plain": [
       "LC09_001015_20220130:   0%|                                                                                   …"
      ]
     },
     "metadata": {},
     "output_type": "display_data"
    },
    {
     "name": "stdout",
     "output_type": "stream",
     "text": [
      "Downloading 2/9: Downloads4/landsat_2.tif\n"
     ]
    },
    {
     "data": {
      "application/vnd.jupyter.widget-view+json": {
       "model_id": "d563d4decf194c3fba242a345e94e5cd",
       "version_major": 2,
       "version_minor": 0
      },
      "text/plain": [
       "LC09_001015_20220130:   0%|                                                                                   …"
      ]
     },
     "metadata": {},
     "output_type": "display_data"
    },
    {
     "name": "stdout",
     "output_type": "stream",
     "text": [
      "Downloading 3/9: Downloads4/landsat_3.tif\n"
     ]
    },
    {
     "data": {
      "application/vnd.jupyter.widget-view+json": {
       "model_id": "32c5bb18a3fe4734b90be59808b90315",
       "version_major": 2,
       "version_minor": 0
      },
      "text/plain": [
       "LC09_001015_20220130:   0%|                                                                                   …"
      ]
     },
     "metadata": {},
     "output_type": "display_data"
    },
    {
     "name": "stdout",
     "output_type": "stream",
     "text": [
      "Downloading 4/9: Downloads4/landsat_4.tif\n"
     ]
    },
    {
     "data": {
      "application/vnd.jupyter.widget-view+json": {
       "model_id": "09e2706ff00f473a8b6738258abfba44",
       "version_major": 2,
       "version_minor": 0
      },
      "text/plain": [
       "LC09_001015_20220130:   0%|                                                                                   …"
      ]
     },
     "metadata": {},
     "output_type": "display_data"
    },
    {
     "name": "stdout",
     "output_type": "stream",
     "text": [
      "Downloading 5/9: Downloads4/landsat_5.tif\n"
     ]
    },
    {
     "data": {
      "application/vnd.jupyter.widget-view+json": {
       "model_id": "f381cfa2383646bcb63fa7ba102f44c6",
       "version_major": 2,
       "version_minor": 0
      },
      "text/plain": [
       "LC09_001015_20220130:   0%|                                                                                   …"
      ]
     },
     "metadata": {},
     "output_type": "display_data"
    },
    {
     "name": "stdout",
     "output_type": "stream",
     "text": [
      "Downloading 6/9: Downloads4/landsat_6.tif\n"
     ]
    },
    {
     "data": {
      "application/vnd.jupyter.widget-view+json": {
       "model_id": "effcc84b6bec4923ab2d763f0c546901",
       "version_major": 2,
       "version_minor": 0
      },
      "text/plain": [
       "LC09_001015_20220130:   0%|                                                                                   …"
      ]
     },
     "metadata": {},
     "output_type": "display_data"
    },
    {
     "name": "stdout",
     "output_type": "stream",
     "text": [
      "Downloading 7/9: Downloads4/landsat_7.tif\n"
     ]
    },
    {
     "data": {
      "application/vnd.jupyter.widget-view+json": {
       "model_id": "a1f18662bea74e70a65c6727325df20a",
       "version_major": 2,
       "version_minor": 0
      },
      "text/plain": [
       "LC09_001015_20220130:   0%|                                                                                   …"
      ]
     },
     "metadata": {},
     "output_type": "display_data"
    },
    {
     "name": "stdout",
     "output_type": "stream",
     "text": [
      "Downloading 8/9: Downloads4/landsat_8.tif\n"
     ]
    },
    {
     "data": {
      "application/vnd.jupyter.widget-view+json": {
       "model_id": "1cb8ad6b1998484b8543778ad3b3fe03",
       "version_major": 2,
       "version_minor": 0
      },
      "text/plain": [
       "LC09_001015_20220130:   0%|                                                                                   …"
      ]
     },
     "metadata": {},
     "output_type": "display_data"
    },
    {
     "name": "stdout",
     "output_type": "stream",
     "text": [
      "Downloading 9/9: Downloads4/landsat_9.tif\n"
     ]
    },
    {
     "data": {
      "application/vnd.jupyter.widget-view+json": {
       "model_id": "ddd15eeb150d4094b69015e6a75736f3",
       "version_major": 2,
       "version_minor": 0
      },
      "text/plain": [
       "LC09_001015_20220130:   0%|                                                                                   …"
      ]
     },
     "metadata": {},
     "output_type": "display_data"
    },
    {
     "name": "stdout",
     "output_type": "stream",
     "text": [
      "Downloaded 9 tiles in 104.4807071685791 seconds.\n"
     ]
    }
   ],
   "source": [
    "geemap.download_ee_image_tiles(\n",
    "    image, features, out_dir, prefix=\"landsat_\", crs=\"EPSG:3857\", scale=10\n",
    ")"
   ]
  },
  {
   "cell_type": "code",
   "execution_count": 70,
   "id": "efc34135-e20f-4bdb-90e1-0d3013088edb",
   "metadata": {},
   "outputs": [
    {
     "data": {
      "text/html": [
       "\n",
       "            <style>\n",
       "                .geemap-dark {\n",
       "                    --jp-widgets-color: white;\n",
       "                    --jp-widgets-label-color: white;\n",
       "                    --jp-ui-font-color1: white;\n",
       "                    --jp-layout-color2: #454545;\n",
       "                    background-color: #383838;\n",
       "                }\n",
       "\n",
       "                .geemap-dark .jupyter-button {\n",
       "                    --jp-layout-color3: #383838;\n",
       "                }\n",
       "\n",
       "                .geemap-colab {\n",
       "                    background-color: var(--colab-primary-surface-color, white);\n",
       "                }\n",
       "\n",
       "                .geemap-colab .jupyter-button {\n",
       "                    --jp-layout-color3: var(--colab-primary-surface-color, white);\n",
       "                }\n",
       "            </style>\n",
       "            "
      ],
      "text/plain": [
       "<IPython.core.display.HTML object>"
      ]
     },
     "metadata": {},
     "output_type": "display_data"
    },
    {
     "data": {
      "text/html": [
       "<div><style>:root {\n",
       "  --font-color-primary: var(--jp-content-font-color0, rgba(0, 0, 0, 1));\n",
       "  --font-color-secondary: var(--jp-content-font-color2, rgba(0, 0, 0, 0.7));\n",
       "  --font-color-accent: rgba(123, 31, 162, 1);\n",
       "  --border-color: var(--jp-border-color2, #e0e0e0);\n",
       "  --background-color: var(--jp-layout-color0, white);\n",
       "  --background-color-row-even: var(--jp-layout-color1, white);\n",
       "  --background-color-row-odd: var(--jp-layout-color2, #eeeeee);\n",
       "}\n",
       "\n",
       "html[theme=\"dark\"],\n",
       "body[data-theme=\"dark\"],\n",
       "body.vscode-dark {\n",
       "  --font-color-primary: rgba(255, 255, 255, 1);\n",
       "  --font-color-secondary: rgba(255, 255, 255, 0.7);\n",
       "  --font-color-accent: rgb(173, 132, 190);\n",
       "  --border-color: #2e2e2e;\n",
       "  --background-color: #111111;\n",
       "  --background-color-row-even: #111111;\n",
       "  --background-color-row-odd: #313131;\n",
       "}\n",
       "\n",
       ".eerepr {\n",
       "  padding: 1em;\n",
       "  line-height: 1.5em;\n",
       "  min-width: 300px;\n",
       "  max-width: 1200px;\n",
       "  overflow-y: scroll;\n",
       "  max-height: 600px;\n",
       "  border: 1px solid var(--border-color);\n",
       "  font-family: monospace;\n",
       "  font-size: 14px;\n",
       "}\n",
       "\n",
       ".eerepr li {\n",
       "  list-style-type: none;\n",
       "  margin: 0;\n",
       "}\n",
       "\n",
       ".eerepr ul {\n",
       "  padding-left: 1.5em !important;\n",
       "  margin: 0;\n",
       "}\n",
       "\n",
       ".eerepr > ul {\n",
       "  padding-left: 0 !important;\n",
       "}\n",
       "\n",
       ".eerepr summary {\n",
       "  color: var(--font-color-secondary);\n",
       "  cursor: pointer;\n",
       "  margin: 0;\n",
       "}\n",
       "\n",
       ".eerepr summary:hover {\n",
       "  color: var(--font-color-primary);\n",
       "  background-color: var(--background-color-row-odd)\n",
       "}\n",
       "\n",
       ".ee-k {\n",
       "  color: var(--font-color-accent);\n",
       "  margin-right: 6px;\n",
       "}\n",
       "\n",
       ".ee-v {\n",
       "  color: var(--font-color-primary);\n",
       "}\n",
       "\n",
       ".eerepr details > summary::before {\n",
       "  content: '▼';\n",
       "  display: inline-block;\n",
       "  margin-right: 6px;\n",
       "  transition: transform 0.2s;\n",
       "  transform: rotate(-90deg);\n",
       "}\n",
       "\n",
       ".eerepr details[open] > summary::before {\n",
       "  transform: rotate(0deg);\n",
       "}\n",
       "\n",
       ".eerepr details summary::-webkit-details-marker {\n",
       "  display:none;\n",
       "}\n",
       "\n",
       ".eerepr details summary {\n",
       "  list-style-type: none;\n",
       "}\n",
       "</style><div class='eerepr'><ul><li><details><summary>Image LANDSAT/LC09/C02/T1_TOA/LC09_001015_20220130 (17 bands)</summary><ul><li><span class='ee-k'>type:</span><span class='ee-v'>Image</span></li><li><span class='ee-k'>id:</span><span class='ee-v'>LANDSAT/LC09/C02/T1_TOA/LC09_001015_20220130</span></li><li><span class='ee-k'>version:</span><span class='ee-v'>1759482933658543</span></li><li><details><summary>bands: List (17 elements)</summary><ul><li><details><summary>0: \"B1\", float, EPSG:32623, 8181x8231 px</summary><ul><li><span class='ee-k'>id:</span><span class='ee-v'>B1</span></li><li><span class='ee-k'>crs:</span><span class='ee-v'>EPSG:32623</span></li><li><details><summary>crs_transform: [30, 0, 481485, 0, -30, 7246815]</summary><ul><li><span class='ee-k'>0:</span><span class='ee-v'>30</span></li><li><span class='ee-k'>1:</span><span class='ee-v'>0</span></li><li><span class='ee-k'>2:</span><span class='ee-v'>481485</span></li><li><span class='ee-k'>3:</span><span class='ee-v'>0</span></li><li><span class='ee-k'>4:</span><span class='ee-v'>-30</span></li><li><span class='ee-k'>5:</span><span class='ee-v'>7246815</span></li></ul></details></li><li><details><summary>data_type: float</summary><ul><li><span class='ee-k'>type:</span><span class='ee-v'>PixelType</span></li><li><span class='ee-k'>precision:</span><span class='ee-v'>float</span></li></ul></details></li><li><details><summary>dimensions: [8181, 8231]</summary><ul><li><span class='ee-k'>0:</span><span class='ee-v'>8181</span></li><li><span class='ee-k'>1:</span><span class='ee-v'>8231</span></li></ul></details></li></ul></details></li><li><details><summary>1: \"B2\", float, EPSG:32623, 8181x8231 px</summary><ul><li><span class='ee-k'>id:</span><span class='ee-v'>B2</span></li><li><span class='ee-k'>crs:</span><span class='ee-v'>EPSG:32623</span></li><li><details><summary>crs_transform: [30, 0, 481485, 0, -30, 7246815]</summary><ul><li><span class='ee-k'>0:</span><span class='ee-v'>30</span></li><li><span class='ee-k'>1:</span><span class='ee-v'>0</span></li><li><span class='ee-k'>2:</span><span class='ee-v'>481485</span></li><li><span class='ee-k'>3:</span><span class='ee-v'>0</span></li><li><span class='ee-k'>4:</span><span class='ee-v'>-30</span></li><li><span class='ee-k'>5:</span><span class='ee-v'>7246815</span></li></ul></details></li><li><details><summary>data_type: float</summary><ul><li><span class='ee-k'>type:</span><span class='ee-v'>PixelType</span></li><li><span class='ee-k'>precision:</span><span class='ee-v'>float</span></li></ul></details></li><li><details><summary>dimensions: [8181, 8231]</summary><ul><li><span class='ee-k'>0:</span><span class='ee-v'>8181</span></li><li><span class='ee-k'>1:</span><span class='ee-v'>8231</span></li></ul></details></li></ul></details></li><li><details><summary>2: \"B3\", float, EPSG:32623, 8181x8231 px</summary><ul><li><span class='ee-k'>id:</span><span class='ee-v'>B3</span></li><li><span class='ee-k'>crs:</span><span class='ee-v'>EPSG:32623</span></li><li><details><summary>crs_transform: [30, 0, 481485, 0, -30, 7246815]</summary><ul><li><span class='ee-k'>0:</span><span class='ee-v'>30</span></li><li><span class='ee-k'>1:</span><span class='ee-v'>0</span></li><li><span class='ee-k'>2:</span><span class='ee-v'>481485</span></li><li><span class='ee-k'>3:</span><span class='ee-v'>0</span></li><li><span class='ee-k'>4:</span><span class='ee-v'>-30</span></li><li><span class='ee-k'>5:</span><span class='ee-v'>7246815</span></li></ul></details></li><li><details><summary>data_type: float</summary><ul><li><span class='ee-k'>type:</span><span class='ee-v'>PixelType</span></li><li><span class='ee-k'>precision:</span><span class='ee-v'>float</span></li></ul></details></li><li><details><summary>dimensions: [8181, 8231]</summary><ul><li><span class='ee-k'>0:</span><span class='ee-v'>8181</span></li><li><span class='ee-k'>1:</span><span class='ee-v'>8231</span></li></ul></details></li></ul></details></li><li><details><summary>3: \"B4\", float, EPSG:32623, 8181x8231 px</summary><ul><li><span class='ee-k'>id:</span><span class='ee-v'>B4</span></li><li><span class='ee-k'>crs:</span><span class='ee-v'>EPSG:32623</span></li><li><details><summary>crs_transform: [30, 0, 481485, 0, -30, 7246815]</summary><ul><li><span class='ee-k'>0:</span><span class='ee-v'>30</span></li><li><span class='ee-k'>1:</span><span class='ee-v'>0</span></li><li><span class='ee-k'>2:</span><span class='ee-v'>481485</span></li><li><span class='ee-k'>3:</span><span class='ee-v'>0</span></li><li><span class='ee-k'>4:</span><span class='ee-v'>-30</span></li><li><span class='ee-k'>5:</span><span class='ee-v'>7246815</span></li></ul></details></li><li><details><summary>data_type: float</summary><ul><li><span class='ee-k'>type:</span><span class='ee-v'>PixelType</span></li><li><span class='ee-k'>precision:</span><span class='ee-v'>float</span></li></ul></details></li><li><details><summary>dimensions: [8181, 8231]</summary><ul><li><span class='ee-k'>0:</span><span class='ee-v'>8181</span></li><li><span class='ee-k'>1:</span><span class='ee-v'>8231</span></li></ul></details></li></ul></details></li><li><details><summary>4: \"B5\", float, EPSG:32623, 8181x8231 px</summary><ul><li><span class='ee-k'>id:</span><span class='ee-v'>B5</span></li><li><span class='ee-k'>crs:</span><span class='ee-v'>EPSG:32623</span></li><li><details><summary>crs_transform: [30, 0, 481485, 0, -30, 7246815]</summary><ul><li><span class='ee-k'>0:</span><span class='ee-v'>30</span></li><li><span class='ee-k'>1:</span><span class='ee-v'>0</span></li><li><span class='ee-k'>2:</span><span class='ee-v'>481485</span></li><li><span class='ee-k'>3:</span><span class='ee-v'>0</span></li><li><span class='ee-k'>4:</span><span class='ee-v'>-30</span></li><li><span class='ee-k'>5:</span><span class='ee-v'>7246815</span></li></ul></details></li><li><details><summary>data_type: float</summary><ul><li><span class='ee-k'>type:</span><span class='ee-v'>PixelType</span></li><li><span class='ee-k'>precision:</span><span class='ee-v'>float</span></li></ul></details></li><li><details><summary>dimensions: [8181, 8231]</summary><ul><li><span class='ee-k'>0:</span><span class='ee-v'>8181</span></li><li><span class='ee-k'>1:</span><span class='ee-v'>8231</span></li></ul></details></li></ul></details></li><li><details><summary>5: \"B6\", float, EPSG:32623, 8181x8231 px</summary><ul><li><span class='ee-k'>id:</span><span class='ee-v'>B6</span></li><li><span class='ee-k'>crs:</span><span class='ee-v'>EPSG:32623</span></li><li><details><summary>crs_transform: [30, 0, 481485, 0, -30, 7246815]</summary><ul><li><span class='ee-k'>0:</span><span class='ee-v'>30</span></li><li><span class='ee-k'>1:</span><span class='ee-v'>0</span></li><li><span class='ee-k'>2:</span><span class='ee-v'>481485</span></li><li><span class='ee-k'>3:</span><span class='ee-v'>0</span></li><li><span class='ee-k'>4:</span><span class='ee-v'>-30</span></li><li><span class='ee-k'>5:</span><span class='ee-v'>7246815</span></li></ul></details></li><li><details><summary>data_type: float</summary><ul><li><span class='ee-k'>type:</span><span class='ee-v'>PixelType</span></li><li><span class='ee-k'>precision:</span><span class='ee-v'>float</span></li></ul></details></li><li><details><summary>dimensions: [8181, 8231]</summary><ul><li><span class='ee-k'>0:</span><span class='ee-v'>8181</span></li><li><span class='ee-k'>1:</span><span class='ee-v'>8231</span></li></ul></details></li></ul></details></li><li><details><summary>6: \"B7\", float, EPSG:32623, 8181x8231 px</summary><ul><li><span class='ee-k'>id:</span><span class='ee-v'>B7</span></li><li><span class='ee-k'>crs:</span><span class='ee-v'>EPSG:32623</span></li><li><details><summary>crs_transform: [30, 0, 481485, 0, -30, 7246815]</summary><ul><li><span class='ee-k'>0:</span><span class='ee-v'>30</span></li><li><span class='ee-k'>1:</span><span class='ee-v'>0</span></li><li><span class='ee-k'>2:</span><span class='ee-v'>481485</span></li><li><span class='ee-k'>3:</span><span class='ee-v'>0</span></li><li><span class='ee-k'>4:</span><span class='ee-v'>-30</span></li><li><span class='ee-k'>5:</span><span class='ee-v'>7246815</span></li></ul></details></li><li><details><summary>data_type: float</summary><ul><li><span class='ee-k'>type:</span><span class='ee-v'>PixelType</span></li><li><span class='ee-k'>precision:</span><span class='ee-v'>float</span></li></ul></details></li><li><details><summary>dimensions: [8181, 8231]</summary><ul><li><span class='ee-k'>0:</span><span class='ee-v'>8181</span></li><li><span class='ee-k'>1:</span><span class='ee-v'>8231</span></li></ul></details></li></ul></details></li><li><details><summary>7: \"B8\", float, EPSG:32623, 16361x16461 px</summary><ul><li><span class='ee-k'>id:</span><span class='ee-v'>B8</span></li><li><span class='ee-k'>crs:</span><span class='ee-v'>EPSG:32623</span></li><li><details><summary>crs_transform: [15, 0, 481492.5, 0, -15, 7246807.5]</summary><ul><li><span class='ee-k'>0:</span><span class='ee-v'>15</span></li><li><span class='ee-k'>1:</span><span class='ee-v'>0</span></li><li><span class='ee-k'>2:</span><span class='ee-v'>481492.5</span></li><li><span class='ee-k'>3:</span><span class='ee-v'>0</span></li><li><span class='ee-k'>4:</span><span class='ee-v'>-15</span></li><li><span class='ee-k'>5:</span><span class='ee-v'>7246807.5</span></li></ul></details></li><li><details><summary>data_type: float</summary><ul><li><span class='ee-k'>type:</span><span class='ee-v'>PixelType</span></li><li><span class='ee-k'>precision:</span><span class='ee-v'>float</span></li></ul></details></li><li><details><summary>dimensions: [16361, 16461]</summary><ul><li><span class='ee-k'>0:</span><span class='ee-v'>16361</span></li><li><span class='ee-k'>1:</span><span class='ee-v'>16461</span></li></ul></details></li></ul></details></li><li><details><summary>8: \"B9\", float, EPSG:32623, 8181x8231 px</summary><ul><li><span class='ee-k'>id:</span><span class='ee-v'>B9</span></li><li><span class='ee-k'>crs:</span><span class='ee-v'>EPSG:32623</span></li><li><details><summary>crs_transform: [30, 0, 481485, 0, -30, 7246815]</summary><ul><li><span class='ee-k'>0:</span><span class='ee-v'>30</span></li><li><span class='ee-k'>1:</span><span class='ee-v'>0</span></li><li><span class='ee-k'>2:</span><span class='ee-v'>481485</span></li><li><span class='ee-k'>3:</span><span class='ee-v'>0</span></li><li><span class='ee-k'>4:</span><span class='ee-v'>-30</span></li><li><span class='ee-k'>5:</span><span class='ee-v'>7246815</span></li></ul></details></li><li><details><summary>data_type: float</summary><ul><li><span class='ee-k'>type:</span><span class='ee-v'>PixelType</span></li><li><span class='ee-k'>precision:</span><span class='ee-v'>float</span></li></ul></details></li><li><details><summary>dimensions: [8181, 8231]</summary><ul><li><span class='ee-k'>0:</span><span class='ee-v'>8181</span></li><li><span class='ee-k'>1:</span><span class='ee-v'>8231</span></li></ul></details></li></ul></details></li><li><details><summary>9: \"B10\", float, EPSG:32623, 8181x8231 px</summary><ul><li><span class='ee-k'>id:</span><span class='ee-v'>B10</span></li><li><span class='ee-k'>crs:</span><span class='ee-v'>EPSG:32623</span></li><li><details><summary>crs_transform: [30, 0, 481485, 0, -30, 7246815]</summary><ul><li><span class='ee-k'>0:</span><span class='ee-v'>30</span></li><li><span class='ee-k'>1:</span><span class='ee-v'>0</span></li><li><span class='ee-k'>2:</span><span class='ee-v'>481485</span></li><li><span class='ee-k'>3:</span><span class='ee-v'>0</span></li><li><span class='ee-k'>4:</span><span class='ee-v'>-30</span></li><li><span class='ee-k'>5:</span><span class='ee-v'>7246815</span></li></ul></details></li><li><details><summary>data_type: float</summary><ul><li><span class='ee-k'>type:</span><span class='ee-v'>PixelType</span></li><li><span class='ee-k'>precision:</span><span class='ee-v'>float</span></li></ul></details></li><li><details><summary>dimensions: [8181, 8231]</summary><ul><li><span class='ee-k'>0:</span><span class='ee-v'>8181</span></li><li><span class='ee-k'>1:</span><span class='ee-v'>8231</span></li></ul></details></li></ul></details></li><li><details><summary>10: \"B11\", float, EPSG:32623, 8181x8231 px</summary><ul><li><span class='ee-k'>id:</span><span class='ee-v'>B11</span></li><li><span class='ee-k'>crs:</span><span class='ee-v'>EPSG:32623</span></li><li><details><summary>crs_transform: [30, 0, 481485, 0, -30, 7246815]</summary><ul><li><span class='ee-k'>0:</span><span class='ee-v'>30</span></li><li><span class='ee-k'>1:</span><span class='ee-v'>0</span></li><li><span class='ee-k'>2:</span><span class='ee-v'>481485</span></li><li><span class='ee-k'>3:</span><span class='ee-v'>0</span></li><li><span class='ee-k'>4:</span><span class='ee-v'>-30</span></li><li><span class='ee-k'>5:</span><span class='ee-v'>7246815</span></li></ul></details></li><li><details><summary>data_type: float</summary><ul><li><span class='ee-k'>type:</span><span class='ee-v'>PixelType</span></li><li><span class='ee-k'>precision:</span><span class='ee-v'>float</span></li></ul></details></li><li><details><summary>dimensions: [8181, 8231]</summary><ul><li><span class='ee-k'>0:</span><span class='ee-v'>8181</span></li><li><span class='ee-k'>1:</span><span class='ee-v'>8231</span></li></ul></details></li></ul></details></li><li><details><summary>11: \"QA_PIXEL\", unsigned int16, EPSG:32623, 8181x8231 px</summary><ul><li><span class='ee-k'>id:</span><span class='ee-v'>QA_PIXEL</span></li><li><span class='ee-k'>crs:</span><span class='ee-v'>EPSG:32623</span></li><li><details><summary>crs_transform: [30, 0, 481485, 0, -30, 7246815]</summary><ul><li><span class='ee-k'>0:</span><span class='ee-v'>30</span></li><li><span class='ee-k'>1:</span><span class='ee-v'>0</span></li><li><span class='ee-k'>2:</span><span class='ee-v'>481485</span></li><li><span class='ee-k'>3:</span><span class='ee-v'>0</span></li><li><span class='ee-k'>4:</span><span class='ee-v'>-30</span></li><li><span class='ee-k'>5:</span><span class='ee-v'>7246815</span></li></ul></details></li><li><details><summary>data_type: unsigned int16</summary><ul><li><span class='ee-k'>type:</span><span class='ee-v'>PixelType</span></li><li><span class='ee-k'>max:</span><span class='ee-v'>65535</span></li><li><span class='ee-k'>min:</span><span class='ee-v'>0</span></li><li><span class='ee-k'>precision:</span><span class='ee-v'>int</span></li></ul></details></li><li><details><summary>dimensions: [8181, 8231]</summary><ul><li><span class='ee-k'>0:</span><span class='ee-v'>8181</span></li><li><span class='ee-k'>1:</span><span class='ee-v'>8231</span></li></ul></details></li></ul></details></li><li><details><summary>12: \"QA_RADSAT\", unsigned int16, EPSG:32623, 8181x8231 px</summary><ul><li><span class='ee-k'>id:</span><span class='ee-v'>QA_RADSAT</span></li><li><span class='ee-k'>crs:</span><span class='ee-v'>EPSG:32623</span></li><li><details><summary>crs_transform: [30, 0, 481485, 0, -30, 7246815]</summary><ul><li><span class='ee-k'>0:</span><span class='ee-v'>30</span></li><li><span class='ee-k'>1:</span><span class='ee-v'>0</span></li><li><span class='ee-k'>2:</span><span class='ee-v'>481485</span></li><li><span class='ee-k'>3:</span><span class='ee-v'>0</span></li><li><span class='ee-k'>4:</span><span class='ee-v'>-30</span></li><li><span class='ee-k'>5:</span><span class='ee-v'>7246815</span></li></ul></details></li><li><details><summary>data_type: unsigned int16</summary><ul><li><span class='ee-k'>type:</span><span class='ee-v'>PixelType</span></li><li><span class='ee-k'>max:</span><span class='ee-v'>65535</span></li><li><span class='ee-k'>min:</span><span class='ee-v'>0</span></li><li><span class='ee-k'>precision:</span><span class='ee-v'>int</span></li></ul></details></li><li><details><summary>dimensions: [8181, 8231]</summary><ul><li><span class='ee-k'>0:</span><span class='ee-v'>8181</span></li><li><span class='ee-k'>1:</span><span class='ee-v'>8231</span></li></ul></details></li></ul></details></li><li><details><summary>13: \"SAA\", signed int16, EPSG:32623, 8181x8231 px</summary><ul><li><span class='ee-k'>id:</span><span class='ee-v'>SAA</span></li><li><span class='ee-k'>crs:</span><span class='ee-v'>EPSG:32623</span></li><li><details><summary>crs_transform: [30, 0, 481485, 0, -30, 7246815]</summary><ul><li><span class='ee-k'>0:</span><span class='ee-v'>30</span></li><li><span class='ee-k'>1:</span><span class='ee-v'>0</span></li><li><span class='ee-k'>2:</span><span class='ee-v'>481485</span></li><li><span class='ee-k'>3:</span><span class='ee-v'>0</span></li><li><span class='ee-k'>4:</span><span class='ee-v'>-30</span></li><li><span class='ee-k'>5:</span><span class='ee-v'>7246815</span></li></ul></details></li><li><details><summary>data_type: signed int16</summary><ul><li><span class='ee-k'>type:</span><span class='ee-v'>PixelType</span></li><li><span class='ee-k'>max:</span><span class='ee-v'>32767</span></li><li><span class='ee-k'>min:</span><span class='ee-v'>-32768</span></li><li><span class='ee-k'>precision:</span><span class='ee-v'>int</span></li></ul></details></li><li><details><summary>dimensions: [8181, 8231]</summary><ul><li><span class='ee-k'>0:</span><span class='ee-v'>8181</span></li><li><span class='ee-k'>1:</span><span class='ee-v'>8231</span></li></ul></details></li></ul></details></li><li><details><summary>14: \"SZA\", signed int16, EPSG:32623, 8181x8231 px</summary><ul><li><span class='ee-k'>id:</span><span class='ee-v'>SZA</span></li><li><span class='ee-k'>crs:</span><span class='ee-v'>EPSG:32623</span></li><li><details><summary>crs_transform: [30, 0, 481485, 0, -30, 7246815]</summary><ul><li><span class='ee-k'>0:</span><span class='ee-v'>30</span></li><li><span class='ee-k'>1:</span><span class='ee-v'>0</span></li><li><span class='ee-k'>2:</span><span class='ee-v'>481485</span></li><li><span class='ee-k'>3:</span><span class='ee-v'>0</span></li><li><span class='ee-k'>4:</span><span class='ee-v'>-30</span></li><li><span class='ee-k'>5:</span><span class='ee-v'>7246815</span></li></ul></details></li><li><details><summary>data_type: signed int16</summary><ul><li><span class='ee-k'>type:</span><span class='ee-v'>PixelType</span></li><li><span class='ee-k'>max:</span><span class='ee-v'>32767</span></li><li><span class='ee-k'>min:</span><span class='ee-v'>-32768</span></li><li><span class='ee-k'>precision:</span><span class='ee-v'>int</span></li></ul></details></li><li><details><summary>dimensions: [8181, 8231]</summary><ul><li><span class='ee-k'>0:</span><span class='ee-v'>8181</span></li><li><span class='ee-k'>1:</span><span class='ee-v'>8231</span></li></ul></details></li></ul></details></li><li><details><summary>15: \"VAA\", signed int16, EPSG:32623, 8181x8231 px</summary><ul><li><span class='ee-k'>id:</span><span class='ee-v'>VAA</span></li><li><span class='ee-k'>crs:</span><span class='ee-v'>EPSG:32623</span></li><li><details><summary>crs_transform: [30, 0, 481485, 0, -30, 7246815]</summary><ul><li><span class='ee-k'>0:</span><span class='ee-v'>30</span></li><li><span class='ee-k'>1:</span><span class='ee-v'>0</span></li><li><span class='ee-k'>2:</span><span class='ee-v'>481485</span></li><li><span class='ee-k'>3:</span><span class='ee-v'>0</span></li><li><span class='ee-k'>4:</span><span class='ee-v'>-30</span></li><li><span class='ee-k'>5:</span><span class='ee-v'>7246815</span></li></ul></details></li><li><details><summary>data_type: signed int16</summary><ul><li><span class='ee-k'>type:</span><span class='ee-v'>PixelType</span></li><li><span class='ee-k'>max:</span><span class='ee-v'>32767</span></li><li><span class='ee-k'>min:</span><span class='ee-v'>-32768</span></li><li><span class='ee-k'>precision:</span><span class='ee-v'>int</span></li></ul></details></li><li><details><summary>dimensions: [8181, 8231]</summary><ul><li><span class='ee-k'>0:</span><span class='ee-v'>8181</span></li><li><span class='ee-k'>1:</span><span class='ee-v'>8231</span></li></ul></details></li></ul></details></li><li><details><summary>16: \"VZA\", signed int16, EPSG:32623, 8181x8231 px</summary><ul><li><span class='ee-k'>id:</span><span class='ee-v'>VZA</span></li><li><span class='ee-k'>crs:</span><span class='ee-v'>EPSG:32623</span></li><li><details><summary>crs_transform: [30, 0, 481485, 0, -30, 7246815]</summary><ul><li><span class='ee-k'>0:</span><span class='ee-v'>30</span></li><li><span class='ee-k'>1:</span><span class='ee-v'>0</span></li><li><span class='ee-k'>2:</span><span class='ee-v'>481485</span></li><li><span class='ee-k'>3:</span><span class='ee-v'>0</span></li><li><span class='ee-k'>4:</span><span class='ee-v'>-30</span></li><li><span class='ee-k'>5:</span><span class='ee-v'>7246815</span></li></ul></details></li><li><details><summary>data_type: signed int16</summary><ul><li><span class='ee-k'>type:</span><span class='ee-v'>PixelType</span></li><li><span class='ee-k'>max:</span><span class='ee-v'>32767</span></li><li><span class='ee-k'>min:</span><span class='ee-v'>-32768</span></li><li><span class='ee-k'>precision:</span><span class='ee-v'>int</span></li></ul></details></li><li><details><summary>dimensions: [8181, 8231]</summary><ul><li><span class='ee-k'>0:</span><span class='ee-v'>8181</span></li><li><span class='ee-k'>1:</span><span class='ee-v'>8231</span></li></ul></details></li></ul></details></li></ul></details></li><li><details><summary>properties: Object (106 properties)</summary><ul><li><span class='ee-k'>CLOUD_COVER:</span><span class='ee-v'>55.53</span></li><li><span class='ee-k'>CLOUD_COVER_LAND:</span><span class='ee-v'>56.9</span></li><li><span class='ee-k'>COLLECTION_CATEGORY:</span><span class='ee-v'>T1</span></li><li><span class='ee-k'>COLLECTION_NUMBER:</span><span class='ee-v'>2</span></li><li><span class='ee-k'>DATA_SOURCE_ELEVATION:</span><span class='ee-v'>GLS2000</span></li><li><span class='ee-k'>DATE_ACQUIRED:</span><span class='ee-v'>2022-01-30</span></li><li><span class='ee-k'>DATE_PRODUCT_GENERATED:</span><span class='ee-v'>1682810906000</span></li><li><span class='ee-k'>DATUM:</span><span class='ee-v'>WGS84</span></li><li><span class='ee-k'>EARTH_SUN_DISTANCE:</span><span class='ee-v'>0.9851238</span></li><li><span class='ee-k'>ELLIPSOID:</span><span class='ee-v'>WGS84</span></li><li><span class='ee-k'>GEOMETRIC_RMSE_MODEL:</span><span class='ee-v'>9.836</span></li><li><span class='ee-k'>GEOMETRIC_RMSE_MODEL_X:</span><span class='ee-v'>6.332</span></li><li><span class='ee-k'>GEOMETRIC_RMSE_MODEL_Y:</span><span class='ee-v'>7.527</span></li><li><span class='ee-k'>GRID_CELL_SIZE_PANCHROMATIC:</span><span class='ee-v'>15</span></li><li><span class='ee-k'>GRID_CELL_SIZE_REFLECTIVE:</span><span class='ee-v'>30</span></li><li><span class='ee-k'>GRID_CELL_SIZE_THERMAL:</span><span class='ee-v'>30</span></li><li><span class='ee-k'>GROUND_CONTROL_POINTS_MODEL:</span><span class='ee-v'>16</span></li><li><span class='ee-k'>GROUND_CONTROL_POINTS_VERSION:</span><span class='ee-v'>5</span></li><li><span class='ee-k'>IMAGE_QUALITY_OLI:</span><span class='ee-v'>9</span></li><li><span class='ee-k'>IMAGE_QUALITY_TIRS:</span><span class='ee-v'>9</span></li><li><span class='ee-k'>K1_CONSTANT_BAND_10:</span><span class='ee-v'>799.0284</span></li><li><span class='ee-k'>K1_CONSTANT_BAND_11:</span><span class='ee-v'>475.6581</span></li><li><span class='ee-k'>K2_CONSTANT_BAND_10:</span><span class='ee-v'>1329.2405</span></li><li><span class='ee-k'>K2_CONSTANT_BAND_11:</span><span class='ee-v'>1198.3494</span></li><li><span class='ee-k'>LANDSAT_PRODUCT_ID:</span><span class='ee-v'>LC09_L1TP_001015_20220130_20230429_02_T1</span></li><li><span class='ee-k'>LANDSAT_SCENE_ID:</span><span class='ee-v'>LC90010152022030LGN01</span></li><li><span class='ee-k'>MAP_PROJECTION:</span><span class='ee-v'>UTM</span></li><li><span class='ee-k'>NADIR_OFFNADIR:</span><span class='ee-v'>NADIR</span></li><li><span class='ee-k'>ORIENTATION:</span><span class='ee-v'>NORTH_UP</span></li><li><span class='ee-k'>PANCHROMATIC_LINES:</span><span class='ee-v'>16461</span></li><li><span class='ee-k'>PANCHROMATIC_SAMPLES:</span><span class='ee-v'>16361</span></li><li><span class='ee-k'>PROCESSING_LEVEL:</span><span class='ee-v'>L1TP</span></li><li><span class='ee-k'>PROCESSING_SOFTWARE_VERSION:</span><span class='ee-v'>LPGS_16.2.0</span></li><li><span class='ee-k'>RADIANCE_ADD_BAND_1:</span><span class='ee-v'>-64.4783</span></li><li><span class='ee-k'>RADIANCE_ADD_BAND_10:</span><span class='ee-v'>0.1</span></li><li><span class='ee-k'>RADIANCE_ADD_BAND_11:</span><span class='ee-v'>0.1</span></li><li><span class='ee-k'>RADIANCE_ADD_BAND_2:</span><span class='ee-v'>-66.22444</span></li><li><span class='ee-k'>RADIANCE_ADD_BAND_3:</span><span class='ee-v'>-61.0957</span></li><li><span class='ee-k'>RADIANCE_ADD_BAND_4:</span><span class='ee-v'>-51.47289</span></li><li><span class='ee-k'>RADIANCE_ADD_BAND_5:</span><span class='ee-v'>-31.54784</span></li><li><span class='ee-k'>RADIANCE_ADD_BAND_6:</span><span class='ee-v'>-7.84178</span></li><li><span class='ee-k'>RADIANCE_ADD_BAND_7:</span><span class='ee-v'>-2.64247</span></li><li><span class='ee-k'>RADIANCE_ADD_BAND_8:</span><span class='ee-v'>-58.08972</span></li><li><span class='ee-k'>RADIANCE_ADD_BAND_9:</span><span class='ee-v'>-12.33064</span></li><li><span class='ee-k'>RADIANCE_MULT_BAND_1:</span><span class='ee-v'>0.012896</span></li><li><span class='ee-k'>RADIANCE_MULT_BAND_10:</span><span class='ee-v'>0.00038</span></li><li><span class='ee-k'>RADIANCE_MULT_BAND_11:</span><span class='ee-v'>0.000349</span></li><li><span class='ee-k'>RADIANCE_MULT_BAND_2:</span><span class='ee-v'>0.013245</span></li><li><span class='ee-k'>RADIANCE_MULT_BAND_3:</span><span class='ee-v'>0.012219</span></li><li><span class='ee-k'>RADIANCE_MULT_BAND_4:</span><span class='ee-v'>0.010295</span></li><li><span class='ee-k'>RADIANCE_MULT_BAND_5:</span><span class='ee-v'>0.0063096</span></li><li><span class='ee-k'>RADIANCE_MULT_BAND_6:</span><span class='ee-v'>0.0015684</span></li><li><span class='ee-k'>RADIANCE_MULT_BAND_7:</span><span class='ee-v'>0.00052849</span></li><li><span class='ee-k'>RADIANCE_MULT_BAND_8:</span><span class='ee-v'>0.011618</span></li><li><span class='ee-k'>RADIANCE_MULT_BAND_9:</span><span class='ee-v'>0.0024661</span></li><li><span class='ee-k'>REFLECTANCE_ADD_BAND_1:</span><span class='ee-v'>-0.1</span></li><li><span class='ee-k'>REFLECTANCE_ADD_BAND_2:</span><span class='ee-v'>-0.1</span></li><li><span class='ee-k'>REFLECTANCE_ADD_BAND_3:</span><span class='ee-v'>-0.1</span></li><li><span class='ee-k'>REFLECTANCE_ADD_BAND_4:</span><span class='ee-v'>-0.1</span></li><li><span class='ee-k'>REFLECTANCE_ADD_BAND_5:</span><span class='ee-v'>-0.1</span></li><li><span class='ee-k'>REFLECTANCE_ADD_BAND_6:</span><span class='ee-v'>-0.1</span></li><li><span class='ee-k'>REFLECTANCE_ADD_BAND_7:</span><span class='ee-v'>-0.1</span></li><li><span class='ee-k'>REFLECTANCE_ADD_BAND_8:</span><span class='ee-v'>-0.1</span></li><li><span class='ee-k'>REFLECTANCE_ADD_BAND_9:</span><span class='ee-v'>-0.1</span></li><li><span class='ee-k'>REFLECTANCE_MULT_BAND_1:</span><span class='ee-v'>2e-05</span></li><li><span class='ee-k'>REFLECTANCE_MULT_BAND_2:</span><span class='ee-v'>2e-05</span></li><li><span class='ee-k'>REFLECTANCE_MULT_BAND_3:</span><span class='ee-v'>2e-05</span></li><li><span class='ee-k'>REFLECTANCE_MULT_BAND_4:</span><span class='ee-v'>2e-05</span></li><li><span class='ee-k'>REFLECTANCE_MULT_BAND_5:</span><span class='ee-v'>2e-05</span></li><li><span class='ee-k'>REFLECTANCE_MULT_BAND_6:</span><span class='ee-v'>2e-05</span></li><li><span class='ee-k'>REFLECTANCE_MULT_BAND_7:</span><span class='ee-v'>2e-05</span></li><li><span class='ee-k'>REFLECTANCE_MULT_BAND_8:</span><span class='ee-v'>2e-05</span></li><li><span class='ee-k'>REFLECTANCE_MULT_BAND_9:</span><span class='ee-v'>2e-05</span></li><li><span class='ee-k'>REFLECTIVE_LINES:</span><span class='ee-v'>8231</span></li><li><span class='ee-k'>REFLECTIVE_SAMPLES:</span><span class='ee-v'>8181</span></li><li><span class='ee-k'>REQUEST_ID:</span><span class='ee-v'>1715789_00001</span></li><li><span class='ee-k'>RESAMPLING_OPTION:</span><span class='ee-v'>CUBIC_CONVOLUTION</span></li><li><span class='ee-k'>ROLL_ANGLE:</span><span class='ee-v'>0</span></li><li><span class='ee-k'>SATURATION_BAND_1:</span><span class='ee-v'>N</span></li><li><span class='ee-k'>SATURATION_BAND_2:</span><span class='ee-v'>N</span></li><li><span class='ee-k'>SATURATION_BAND_3:</span><span class='ee-v'>N</span></li><li><span class='ee-k'>SATURATION_BAND_4:</span><span class='ee-v'>N</span></li><li><span class='ee-k'>SATURATION_BAND_5:</span><span class='ee-v'>N</span></li><li><span class='ee-k'>SATURATION_BAND_6:</span><span class='ee-v'>N</span></li><li><span class='ee-k'>SATURATION_BAND_7:</span><span class='ee-v'>N</span></li><li><span class='ee-k'>SATURATION_BAND_8:</span><span class='ee-v'>N</span></li><li><span class='ee-k'>SATURATION_BAND_9:</span><span class='ee-v'>N</span></li><li><span class='ee-k'>SCENE_CENTER_TIME:</span><span class='ee-v'>14:13:02.1416550Z</span></li><li><span class='ee-k'>SENSOR_ID:</span><span class='ee-v'>OLI_TIRS</span></li><li><span class='ee-k'>SPACECRAFT_ID:</span><span class='ee-v'>LANDSAT_9</span></li><li><span class='ee-k'>STATION_ID:</span><span class='ee-v'>LGN</span></li><li><span class='ee-k'>SUN_AZIMUTH:</span><span class='ee-v'>167.59264266</span></li><li><span class='ee-k'>SUN_ELEVATION:</span><span class='ee-v'>7.60376054</span></li><li><span class='ee-k'>TARGET_WRS_PATH:</span><span class='ee-v'>1</span></li><li><span class='ee-k'>TARGET_WRS_ROW:</span><span class='ee-v'>15</span></li><li><span class='ee-k'>THERMAL_LINES:</span><span class='ee-v'>8231</span></li><li><span class='ee-k'>THERMAL_SAMPLES:</span><span class='ee-v'>8181</span></li><li><span class='ee-k'>UTM_ZONE:</span><span class='ee-v'>23</span></li><li><span class='ee-k'>WRS_PATH:</span><span class='ee-v'>1</span></li><li><span class='ee-k'>WRS_ROW:</span><span class='ee-v'>15</span></li><li><span class='ee-k'>WRS_TYPE:</span><span class='ee-v'>2</span></li><li><span class='ee-k'>system:asset_size:</span><span class='ee-v'>917582163</span></li><li><details><summary>system:footprint: LinearRing (21 vertices)</summary><ul><li><span class='ee-k'>type:</span><span class='ee-v'>LinearRing</span></li><li><details><summary>coordinates: List (21 elements)</summary><ul><li><details><summary>0: [-41.72239632581094, 63.13531627129271]</summary><ul><li><span class='ee-k'>0:</span><span class='ee-v'>-41.72239632581094</span></li><li><span class='ee-k'>1:</span><span class='ee-v'>63.13531627129271</span></li></ul></details></li><li><details><summary>1: [-41.616424480551494, 63.2549241579473]</summary><ul><li><span class='ee-k'>0:</span><span class='ee-v'>-41.616424480551494</span></li><li><span class='ee-k'>1:</span><span class='ee-v'>63.2549241579473</span></li></ul></details></li><li><details><summary>2: [-41.445837828755046, 63.44524693534601]</summary><ul><li><span class='ee-k'>0:</span><span class='ee-v'>-41.445837828755046</span></li><li><span class='ee-k'>1:</span><span class='ee-v'>63.44524693534601</span></li></ul></details></li><li><details><summary>3: [-41.220646213327335, 63.69342284574778]</summary><ul><li><span class='ee-k'>0:</span><span class='ee-v'>-41.220646213327335</span></li><li><span class='ee-k'>1:</span><span class='ee-v'>63.69342284574778</span></li></ul></details></li><li><details><summary>4: [-40.73591167967161, 64.21181045202478]</summary><ul><li><span class='ee-k'>0:</span><span class='ee-v'>-40.73591167967161</span></li><li><span class='ee-k'>1:</span><span class='ee-v'>64.21181045202478</span></li></ul></details></li><li><details><summary>5: [-40.40959659054892, 64.54906717004619]</summary><ul><li><span class='ee-k'>0:</span><span class='ee-v'>-40.40959659054892</span></li><li><span class='ee-k'>1:</span><span class='ee-v'>64.54906717004619</span></li></ul></details></li><li><details><summary>6: [-40.32181027770087, 64.63856294648137]</summary><ul><li><span class='ee-k'>0:</span><span class='ee-v'>-40.32181027770087</span></li><li><span class='ee-k'>1:</span><span class='ee-v'>64.63856294648137</span></li></ul></details></li><li><details><summary>7: [-40.28858623275513, 64.67230665935566]</summary><ul><li><span class='ee-k'>0:</span><span class='ee-v'>-40.28858623275513</span></li><li><span class='ee-k'>1:</span><span class='ee-v'>64.67230665935566</span></li></ul></details></li><li><details><summary>8: [-40.242574849129106, 64.71900921064791]</summary><ul><li><span class='ee-k'>0:</span><span class='ee-v'>-40.242574849129106</span></li><li><span class='ee-k'>1:</span><span class='ee-v'>64.71900921064791</span></li></ul></details></li><li><details><summary>9: [-40.242341403145375, 64.72033521161158]</summary><ul><li><span class='ee-k'>0:</span><span class='ee-v'>-40.242341403145375</span></li><li><span class='ee-k'>1:</span><span class='ee-v'>64.72033521161158</span></li></ul></details></li><li><details><summary>10: [-40.52014259414785, 64.76990412308666]</summary><ul><li><span class='ee-k'>0:</span><span class='ee-v'>-40.52014259414785</span></li><li><span class='ee-k'>1:</span><span class='ee-v'>64.76990412308666</span></li></ul></details></li><li><details><summary>11: [-43.669059312924766, 65.28386712904388]</summary><ul><li><span class='ee-k'>0:</span><span class='ee-v'>-43.669059312924766</span></li><li><span class='ee-k'>1:</span><span class='ee-v'>65.28386712904388</span></li></ul></details></li><li><details><summary>12: [-44.043564877587414, 65.33924580907814]</summary><ul><li><span class='ee-k'>0:</span><span class='ee-v'>-44.043564877587414</span></li><li><span class='ee-k'>1:</span><span class='ee-v'>65.33924580907814</span></li></ul></details></li><li><details><summary>13: [-44.05274972143076, 65.32867850295045]</summary><ul><li><span class='ee-k'>0:</span><span class='ee-v'>-44.05274972143076</span></li><li><span class='ee-k'>1:</span><span class='ee-v'>65.32867850295045</span></li></ul></details></li><li><details><summary>14: [-45.36384727959202, 63.68493594844948]</summary><ul><li><span class='ee-k'>0:</span><span class='ee-v'>-45.36384727959202</span></li><li><span class='ee-k'>1:</span><span class='ee-v'>63.68493594844948</span></li></ul></details></li><li><details><summary>15: [-45.34687408089271, 63.68232367291451]</summary><ul><li><span class='ee-k'>0:</span><span class='ee-v'>-45.34687408089271</span></li><li><span class='ee-k'>1:</span><span class='ee-v'>63.68232367291451</span></li></ul></details></li><li><details><summary>16: [-42.571861794541384, 63.23555977480002]</summary><ul><li><span class='ee-k'>0:</span><span class='ee-v'>-42.571861794541384</span></li><li><span class='ee-k'>1:</span><span class='ee-v'>63.23555977480002</span></li></ul></details></li><li><details><summary>17: [-41.78496570336805, 63.096344342904416]</summary><ul><li><span class='ee-k'>0:</span><span class='ee-v'>-41.78496570336805</span></li><li><span class='ee-k'>1:</span><span class='ee-v'>63.096344342904416</span></li></ul></details></li><li><details><summary>18: [-41.7632359882642, 63.09250282226113]</summary><ul><li><span class='ee-k'>0:</span><span class='ee-v'>-41.7632359882642</span></li><li><span class='ee-k'>1:</span><span class='ee-v'>63.09250282226113</span></li></ul></details></li><li><details><summary>19: [-41.76061364274373, 63.09244285280815]</summary><ul><li><span class='ee-k'>0:</span><span class='ee-v'>-41.76061364274373</span></li><li><span class='ee-k'>1:</span><span class='ee-v'>63.09244285280815</span></li></ul></details></li><li><details><summary>20: [-41.72239632581094, 63.13531627129271]</summary><ul><li><span class='ee-k'>0:</span><span class='ee-v'>-41.72239632581094</span></li><li><span class='ee-k'>1:</span><span class='ee-v'>63.13531627129271</span></li></ul></details></li></ul></details></li></ul></details></li><li><span class='ee-k'>system:index:</span><span class='ee-v'>LC09_001015_20220130</span></li><li><span class='ee-k'>system:time_end:</span><span class='ee-v'>1643551982141</span></li><li><span class='ee-k'>system:time_start:</span><span class='ee-v'>1643551982141</span></li></ul></details></li></ul></details></li></ul></div></div>"
      ],
      "text/plain": [
       "<ee.image.Image at 0x13e394910>"
      ]
     },
     "execution_count": 70,
     "metadata": {},
     "output_type": "execute_result"
    }
   ],
   "source": [
    "image"
   ]
  },
  {
   "cell_type": "code",
   "execution_count": null,
   "id": "34d53f75-6537-4a56-90a4-48bbd6b3a375",
   "metadata": {},
   "outputs": [],
   "source": []
  }
 ],
 "metadata": {
  "kernelspec": {
   "display_name": "Python 3 (ipykernel)",
   "language": "python",
   "name": "python3"
  },
  "language_info": {
   "codemirror_mode": {
    "name": "ipython",
    "version": 3
   },
   "file_extension": ".py",
   "mimetype": "text/x-python",
   "name": "python",
   "nbconvert_exporter": "python",
   "pygments_lexer": "ipython3",
   "version": "3.11.0"
  }
 },
 "nbformat": 4,
 "nbformat_minor": 5
}
