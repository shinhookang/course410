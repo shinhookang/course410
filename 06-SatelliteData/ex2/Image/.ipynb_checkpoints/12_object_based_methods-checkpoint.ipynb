{
 "cells": [
  {
   "cell_type": "markdown",
   "metadata": {},
   "source": [
    "<table class=\"ee-notebook-buttons\" align=\"left\">\n",
    "    <td><a target=\"_parent\"  href=\"https://github.com/gee-community/geemap/tree/master/tutorials/Image/12_object_based_methods.ipynb\"><img width=32px src=\"https://www.tensorflow.org/images/GitHub-Mark-32px.png\" /> View source on GitHub</a></td>\n",
    "    <td><a target=\"_parent\"  href=\"https://nbviewer.jupyter.org/github/gee-community/geemap/blob/master/tutorials/Image/12_object_based_methods.ipynb\"><img width=26px src=\"https://upload.wikimedia.org/wikipedia/commons/thumb/3/38/Jupyter_logo.svg/883px-Jupyter_logo.svg.png\" />Notebook Viewer</a></td>\n",
    "    <td><a target=\"_parent\"  href=\"https://colab.research.google.com/github/gee-community/geemap/blob/master/tutorials/Image/12_object_based_methods.ipynb\"><img width=26px src=\"https://www.tensorflow.org/images/colab_logo_32px.png\" /> Run in Google Colab</a></td>\n",
    "</table>"
   ]
  },
  {
   "cell_type": "markdown",
   "metadata": {},
   "source": [
    "# Object-based methods\n",
    "Image objects are sets of connected pixels having the same integer value. Categorical, binned, and boolean image data are suitable for object analysis.\n",
    "\n",
    "Earth Engine offers methods for labeling each object with a unique ID, counting the number of pixels composing objects, and computing statistics for values of pixels that intersect objects.\n",
    "\n",
    "* `connectedComponents()`: label each object with a unique identifier.\n",
    "* `connectedPixelCount()`: compute the number of pixels in each object.\n",
    "* `reduceConnectedComponents()`: compute a statistic for pixels in each object."
   ]
  },
  {
   "cell_type": "markdown",
   "metadata": {},
   "source": [
    "Caution: results of object-based methods depend on scale, which is determined by:\n",
    "\n",
    "* the requested scale of an output (e.g., `Export.image.toAsset()` or `Export.image.toDrive()`).\n",
    "* functions that require a scale of analysis (e.g., `reduceRegions()` or `reduceToVectors()`).\n",
    "* Map zoom level.\n",
    "Take special note of scale determined by Map zoom level. Results of object-based methods will vary when viewing or inspecting image layers in the Map, as each pyramid layer has a different scale. To force a desired scale of analysis in Map exploration, use `reproject()`. However, it is strongly recommended that you **NOT** use `reproject()` because the entire area visible in the Map will be requested at the set scale and projection. At large extents this can cause too much data to be requested, often triggering errors. Within the image pyramid-based architecture of Earth Engine, scale and projection need only be set for operations that provide `scale` and `crs` as parameters. See [Scale of Analysis](https://developers.google.com/earth-engine/scale#scale-of-analysis) and [Reprojecting](https://developers.google.com/earth-engine/projections#reprojecting) for more information."
   ]
  },
  {
   "cell_type": "markdown",
   "metadata": {},
   "source": [
    "## Install Earth Engine API and geemap\n",
    "Install the [Earth Engine Python API](https://developers.google.com/earth-engine/python_install) and [geemap](https://github.com/gee-community/geemap). The **geemap** Python package is built upon the [ipyleaflet](https://github.com/jupyter-widgets/ipyleaflet) and [folium](https://github.com/python-visualization/folium) packages and implements several methods for interacting with Earth Engine data layers, such as `Map.addLayer()`, `Map.setCenter()`, and `Map.centerObject()`.\n",
    "The following script checks if the geemap package has been installed. If not, it will install geemap, which automatically installs its [dependencies](https://github.com/gee-community/geemap#dependencies), including earthengine-api, folium, and ipyleaflet.\n",
    "\n",
    "**Important note**: A key difference between folium and ipyleaflet is that ipyleaflet is built upon ipywidgets and allows bidirectional communication between the front-end and the backend enabling the use of the map to capture user input, while folium is meant for displaying static data only ([source](https://blog.jupyter.org/interactive-gis-in-jupyter-with-ipyleaflet-52f9657fa7a)). Note that [Google Colab](https://colab.research.google.com/) currently does not support ipyleaflet ([source](https://github.com/googlecolab/colabtools/issues/60#issuecomment-596225619)). Therefore, if you are using geemap with Google Colab, you should use [`import geemap.foliumap`](https://github.com/gee-community/geemap/blob/master/geemap/foliumap.py). If you are using geemap with [binder](https://mybinder.org/) or a local Jupyter notebook server, you can use [`import geemap`](https://github.com/gee-community/geemap/blob/master/geemap/geemap.py), which provides more functionalities for capturing user input (e.g., mouse-clicking and moving)."
   ]
  },
  {
   "cell_type": "code",
   "execution_count": null,
   "metadata": {},
   "outputs": [],
   "source": [
    "# Installs geemap package\n",
    "import subprocess\n",
    "\n",
    "try:\n",
    "    import geemap\n",
    "except ImportError:\n",
    "    print(\"geemap package not installed. Installing ...\")\n",
    "    subprocess.check_call([\"python\", \"-m\", \"pip\", \"install\", \"geemap\"])\n",
    "\n",
    "# Checks whether this notebook is running on Google Colab\n",
    "try:\n",
    "    import google.colab\n",
    "    import geemap.foliumap as emap\n",
    "except:\n",
    "    import geemap as emap\n",
    "\n",
    "# Authenticates and initializes Earth Engine\n",
    "import ee\n",
    "\n",
    "try:\n",
    "    ee.Initialize()\n",
    "except Exception as e:\n",
    "    ee.Authenticate()\n",
    "    ee.Initialize()"
   ]
  },
  {
   "cell_type": "markdown",
   "metadata": {},
   "source": [
    "## Create an interactive map \n",
    "The default basemap is `Google Satellite`. [Additional basemaps](https://github.com/gee-community/geemap/blob/master/geemap/geemap.py#L13) can be added using the `Map.add_basemap()` function. "
   ]
  },
  {
   "cell_type": "code",
   "execution_count": null,
   "metadata": {},
   "outputs": [],
   "source": [
    "Map = geemap.Map(center=[40, -100], zoom=4)\n",
    "Map.add_basemap(\"ROADMAP\")  # Add Google Map\n",
    "Map"
   ]
  },
  {
   "cell_type": "markdown",
   "metadata": {},
   "source": [
    "## Add Earth Engine Python script \n",
    "\n",
    "### Example setup\n",
    "The following sections provide examples of object-based methods applied to Landsat 8 surface temperature with each section building on the former. Run the next snippet to generate the base image: thermal hotspots (> 303 degrees Kelvin) for a small region of San Francisco (Figure 1)."
   ]
  },
  {
   "cell_type": "code",
   "execution_count": null,
   "metadata": {},
   "outputs": [],
   "source": [
    "# Make an area of interest geometry centered on San Francisco.\n",
    "point = ee.Geometry.Point(-122.1899, 37.5010)\n",
    "aoi = point.buffer(10000)\n",
    "\n",
    "# Import a Landsat 8 image, subset the thermal band, and clip to the\n",
    "# area of interest.\n",
    "kelvin = (\n",
    "    ee.Image(\"LANDSAT/LC08/C01/T1_TOA/LC08_044034_20140318\")\n",
    "    .select([\"B10\"], [\"kelvin\"])\n",
    "    .clip(aoi)\n",
    ")\n",
    "\n",
    "# Display the thermal band.\n",
    "# Map.centerObject(point, 13)\n",
    "Map.setCenter(-122.1899, 37.5010, 13)\n",
    "Map.addLayer(kelvin, {\"min\": 288, \"max\": 305}, \"Kelvin\")\n",
    "\n",
    "\n",
    "# Threshold the thermal band to set hot pixels as value 1 and not as 0.\n",
    "hotspots = kelvin.gt(303).selfMask().rename(\"hotspots\")\n",
    "\n",
    "# Display the thermal hotspots on the Map.\n",
    "Map.addLayer(hotspots, {\"palette\": \"FF0000\"}, \"Hotspots\")"
   ]
  },
  {
   "cell_type": "markdown",
   "metadata": {},
   "source": [
    "![](https://developers.google.com/earth-engine/images/Images_object_hotspots.png)\n",
    "\n",
    "Figure 1. Temperature for a region of San Francisco. Pixels with temperature greater than 303 degrees Kelvin are distinguished by the color red (thermal hotspots)."
   ]
  },
  {
   "cell_type": "markdown",
   "metadata": {},
   "source": [
    "### Label objects\n",
    "Labeling objects is often the first step in object analysis. Here, the `connectedComponents()` function is used to identify image objects and assign a unique ID to each; all pixels belonging to an object are assigned the same integer ID value. The result is a copy of the input image with an additional \"labels\" band associating pixels with an object ID value based on connectivity of pixels in the first band of the image (Figure 2).\n"
   ]
  },
  {
   "cell_type": "code",
   "execution_count": null,
   "metadata": {},
   "outputs": [],
   "source": [
    "# Uniquely label the hotspot image objects.\n",
    "objectId = hotspots.connectedComponents(\n",
    "    **{\"connectedness\": ee.Kernel.plus(1), \"maxSize\": 128}\n",
    ")\n",
    "\n",
    "# Display the uniquely ID'ed objects to the Map.\n",
    "Map.addLayer(objectId.randomVisualizer(), {}, \"Objects\")"
   ]
  },
  {
   "cell_type": "markdown",
   "metadata": {},
   "source": [
    "Note that the maximum patch size is set to 128 pixels; objects composed of more pixels are masked. The connectivity is specified by an `ee.Kernel.plus(1)` kernel, which defines four-neighbor connectivity; use `ee.Kernel.square(1)` for eight-neighbor.\n",
    "\n",
    "![](https://developers.google.com/earth-engine/images/Images_object_hotspots_label.png)\n",
    "\n",
    "Figure 2. Thermal hotspot objects labeled and styled by a unique ID."
   ]
  },
  {
   "cell_type": "markdown",
   "metadata": {},
   "source": [
    "### Object size\n",
    "Number of pixels\n",
    "Calculate the number of pixels composing objects using the `connectedPixelCount()` image method. Knowing the number of pixels in an object can be helpful for masking objects by size and calculating object area. The following snippet applies `connectedPixelCount()` to the \"labels\" band of the `objectId` image defined in the previous section."
   ]
  },
  {
   "cell_type": "code",
   "execution_count": null,
   "metadata": {},
   "outputs": [],
   "source": [
    "# Compute the number of pixels in each object defined by the \"labels\" band.\n",
    "objectSize = objectId.select(\"labels\").connectedPixelCount(\n",
    "    **{\"maxSize\": 128, \"eightConnected\": False}\n",
    ")\n",
    "\n",
    "# Display object pixel count to the Map.\n",
    "Map.addLayer(objectSize, {}, \"Object n pixels\")"
   ]
  },
  {
   "cell_type": "markdown",
   "metadata": {},
   "source": [
    "`connectedPixelCount()` returns a copy of the input image where each pixel of each band contains the number of connected neighbors according to either the four- or eight-neighbor connectivity rule determined by a boolean argument passed to the `eightConnected` parameter. Note that connectivity is determined independently for each band of the input image. In this example, a single-band image (`objectId`) representing object ID was provided as input, so a single-band image was returned with a \"labels\" band (present as such in the input image), but now the values represent the number of pixels composing objects; every pixel of each object will have the same pixel count value (Figure 3).\n",
    "\n",
    "![](https://developers.google.com/earth-engine/images/Images_object_hotspots_size.png)\n",
    "\n",
    "Figure 3. Thermal hotspot objects labeled and styled by size."
   ]
  },
  {
   "cell_type": "markdown",
   "metadata": {},
   "source": [
    "### Area\n",
    "Calculate object area by multiplying the area of a single pixel by the number of pixels composing an object (determined by `connectedPixelCount())`. Pixel area is provided by an image generated from `ee.Image.pixelArea()`."
   ]
  },
  {
   "cell_type": "code",
   "execution_count": null,
   "metadata": {},
   "outputs": [],
   "source": [
    "# Get a pixel area image.\n",
    "pixelArea = ee.Image.pixelArea()\n",
    "\n",
    "# Multiply pixel area by the number of pixels in an object to calculate\n",
    "# the object area. The result is an image where each pixel\n",
    "# of an object relates the area of the object in m^2.\n",
    "objectArea = objectSize.multiply(pixelArea)\n",
    "\n",
    "# Display object area to the Map.\n",
    "Map.addLayer(objectArea, {}, \"Object area m^2\")"
   ]
  },
  {
   "cell_type": "markdown",
   "metadata": {},
   "source": [
    "The result is an image where each pixel of an object relates the area of the object in square meters. In this example, the `objectSize` image contains a single band, if it were multi-band, the multiplication operation would be applied to each band of the image.\n",
    "\n",
    "### Filter objects by size\n",
    "Object size can be used as a mask condition to focus your analysis on objects of a certain size (e.g., mask out objects that are too small). Here the `objectArea` image calculated in the previous step is used as a mask to remove objects whose area are less than one hectare."
   ]
  },
  {
   "cell_type": "code",
   "execution_count": null,
   "metadata": {},
   "outputs": [],
   "source": [
    "# Threshold the `objectArea` image to define a mask that will mask out\n",
    "# objects below a given size (1 hectare in this case).\n",
    "areaMask = objectArea.gte(10000)\n",
    "\n",
    "# Update the mask of the `objectId` layer defined previously using the\n",
    "# minimum area mask just defined.\n",
    "objectId = objectId.updateMask(areaMask)\n",
    "Map.addLayer(objectId, {}, \"Large hotspots\")"
   ]
  },
  {
   "cell_type": "markdown",
   "metadata": {},
   "source": [
    "The result is a copy of the objectId image where objects less than one hectare are masked out (Figure 4).\n",
    "\n",
    "![](https://developers.google.com/earth-engine/images/Images_object_hotspots_before_mmu.png) ![](https://developers.google.com/earth-engine/images/Images_object_hotspots_after_mmu.png)"
   ]
  },
  {
   "cell_type": "markdown",
   "metadata": {},
   "source": [
    "### Zonal statistics\n",
    "The `reduceConnectedComponents()` method applies a reducer to the pixels composing unique objects. The following snippet uses it to calculate the mean temperature of hotspot objects. `reduceConnectedComponents()` requires an input image with a band (or bands) to be reduced and a band that defines object labels. Here, the `objectID` \"labels\" image band is added to the `kelvin` temperature image to construct a suitable input image."
   ]
  },
  {
   "cell_type": "code",
   "execution_count": null,
   "metadata": {},
   "outputs": [],
   "source": [
    "# Make a suitable image for `reduceConnectedComponents()` by adding a label\n",
    "# band to the `kelvin` temperature image.\n",
    "kelvin = kelvin.addBands(objectId.select(\"labels\"))\n",
    "\n",
    "# Calculate the mean temperature per object defined by the previously added\n",
    "# \"labels\" band.\n",
    "patchTemp = kelvin.reduceConnectedComponents(\n",
    "    **{\"reducer\": ee.Reducer.mean(), \"labelBand\": \"labels\"}\n",
    ")\n",
    "\n",
    "# Display object mean temperature to the Map.\n",
    "Map.addLayer(\n",
    "    patchTemp,\n",
    "    {\"min\": 303, \"max\": 304, \"palette\": [\"yellow\", \"red\"]},\n",
    "    \"Mean temperature\",\n",
    ")"
   ]
  },
  {
   "cell_type": "markdown",
   "metadata": {},
   "source": [
    "The result is a copy of the input image without the band used to define objects, where pixel values represent the result of the reduction per object, per band (Figure 5).\n",
    "\n",
    "![](https://developers.google.com/earth-engine/images/Images_object_hotspots_temperature.png)\n",
    "\n",
    "Figure 5. Thermal hotspot object pixels summarized and styled by mean temperature."
   ]
  },
  {
   "cell_type": "markdown",
   "metadata": {},
   "source": [
    "## Display Earth Engine data layers "
   ]
  },
  {
   "cell_type": "code",
   "execution_count": null,
   "metadata": {},
   "outputs": [],
   "source": [
    "Map.addLayerControl()\n",
    "Map"
   ]
  }
 ],
 "metadata": {
  "anaconda-cloud": {},
  "kernelspec": {
   "display_name": "Python 3",
   "language": "python",
   "name": "python3"
  },
  "language_info": {
   "codemirror_mode": {
    "name": "ipython",
    "version": 3
   },
   "file_extension": ".py",
   "mimetype": "text/x-python",
   "name": "python",
   "nbconvert_exporter": "python",
   "pygments_lexer": "ipython3",
   "version": "3.8.2"
  }
 },
 "nbformat": 4,
 "nbformat_minor": 1
}
